{
  "nbformat": 4,
  "nbformat_minor": 0,
  "metadata": {
    "colab": {
      "name": "SentimentClassificationUsingBert.ipynb",
      "provenance": [],
      "collapsed_sections": [],
      "authorship_tag": "ABX9TyMT6RNW01b6pSmP7XC3P5b2",
      "include_colab_link": true
    },
    "kernelspec": {
      "name": "python3",
      "display_name": "Python 3"
    },
    "accelerator": "GPU"
  },
  "cells": [
    {
      "cell_type": "markdown",
      "metadata": {
        "id": "view-in-github",
        "colab_type": "text"
      },
      "source": [
        "<a href=\"https://colab.research.google.com/github/nitin649/SentimentClassificationBERT/blob/main/SentimentClassificationUsingBert.ipynb\" target=\"_parent\"><img src=\"https://colab.research.google.com/assets/colab-badge.svg\" alt=\"Open In Colab\"/></a>"
      ]
    },
    {
      "cell_type": "code",
      "metadata": {
        "id": "0IMMfJoY80Kf",
        "colab": {
          "base_uri": "https://localhost:8080/"
        },
        "outputId": "c83171d9-96ca-4ddc-95c2-7aad9fc2c0f5"
      },
      "source": [
        "!pip install transformers"
      ],
      "execution_count": null,
      "outputs": [
        {
          "output_type": "stream",
          "text": [
            "Collecting transformers\n",
            "\u001b[?25l  Downloading https://files.pythonhosted.org/packages/3a/83/e74092e7f24a08d751aa59b37a9fc572b2e4af3918cb66f7766c3affb1b4/transformers-3.5.1-py3-none-any.whl (1.3MB)\n",
            "\u001b[K     |████████████████████████████████| 1.3MB 12.8MB/s \n",
            "\u001b[?25hRequirement already satisfied: dataclasses; python_version < \"3.7\" in /usr/local/lib/python3.6/dist-packages (from transformers) (0.7)\n",
            "Requirement already satisfied: tqdm>=4.27 in /usr/local/lib/python3.6/dist-packages (from transformers) (4.41.1)\n",
            "Collecting sacremoses\n",
            "\u001b[?25l  Downloading https://files.pythonhosted.org/packages/7d/34/09d19aff26edcc8eb2a01bed8e98f13a1537005d31e95233fd48216eed10/sacremoses-0.0.43.tar.gz (883kB)\n",
            "\u001b[K     |████████████████████████████████| 890kB 42.7MB/s \n",
            "\u001b[?25hRequirement already satisfied: regex!=2019.12.17 in /usr/local/lib/python3.6/dist-packages (from transformers) (2019.12.20)\n",
            "Requirement already satisfied: protobuf in /usr/local/lib/python3.6/dist-packages (from transformers) (3.12.4)\n",
            "Collecting sentencepiece==0.1.91\n",
            "\u001b[?25l  Downloading https://files.pythonhosted.org/packages/d4/a4/d0a884c4300004a78cca907a6ff9a5e9fe4f090f5d95ab341c53d28cbc58/sentencepiece-0.1.91-cp36-cp36m-manylinux1_x86_64.whl (1.1MB)\n",
            "\u001b[K     |████████████████████████████████| 1.1MB 50.2MB/s \n",
            "\u001b[?25hRequirement already satisfied: numpy in /usr/local/lib/python3.6/dist-packages (from transformers) (1.18.5)\n",
            "Requirement already satisfied: filelock in /usr/local/lib/python3.6/dist-packages (from transformers) (3.0.12)\n",
            "Collecting tokenizers==0.9.3\n",
            "\u001b[?25l  Downloading https://files.pythonhosted.org/packages/4c/34/b39eb9994bc3c999270b69c9eea40ecc6f0e97991dba28282b9fd32d44ee/tokenizers-0.9.3-cp36-cp36m-manylinux1_x86_64.whl (2.9MB)\n",
            "\u001b[K     |████████████████████████████████| 2.9MB 56.4MB/s \n",
            "\u001b[?25hRequirement already satisfied: packaging in /usr/local/lib/python3.6/dist-packages (from transformers) (20.4)\n",
            "Requirement already satisfied: requests in /usr/local/lib/python3.6/dist-packages (from transformers) (2.23.0)\n",
            "Requirement already satisfied: six in /usr/local/lib/python3.6/dist-packages (from sacremoses->transformers) (1.15.0)\n",
            "Requirement already satisfied: click in /usr/local/lib/python3.6/dist-packages (from sacremoses->transformers) (7.1.2)\n",
            "Requirement already satisfied: joblib in /usr/local/lib/python3.6/dist-packages (from sacremoses->transformers) (0.17.0)\n",
            "Requirement already satisfied: setuptools in /usr/local/lib/python3.6/dist-packages (from protobuf->transformers) (50.3.2)\n",
            "Requirement already satisfied: pyparsing>=2.0.2 in /usr/local/lib/python3.6/dist-packages (from packaging->transformers) (2.4.7)\n",
            "Requirement already satisfied: chardet<4,>=3.0.2 in /usr/local/lib/python3.6/dist-packages (from requests->transformers) (3.0.4)\n",
            "Requirement already satisfied: idna<3,>=2.5 in /usr/local/lib/python3.6/dist-packages (from requests->transformers) (2.10)\n",
            "Requirement already satisfied: urllib3!=1.25.0,!=1.25.1,<1.26,>=1.21.1 in /usr/local/lib/python3.6/dist-packages (from requests->transformers) (1.24.3)\n",
            "Requirement already satisfied: certifi>=2017.4.17 in /usr/local/lib/python3.6/dist-packages (from requests->transformers) (2020.6.20)\n",
            "Building wheels for collected packages: sacremoses\n",
            "  Building wheel for sacremoses (setup.py) ... \u001b[?25l\u001b[?25hdone\n",
            "  Created wheel for sacremoses: filename=sacremoses-0.0.43-cp36-none-any.whl size=893257 sha256=212d8824f3d3adad01dc0c98bf3928d26324db16bf57b4fe29b7c68afe900b35\n",
            "  Stored in directory: /root/.cache/pip/wheels/29/3c/fd/7ce5c3f0666dab31a50123635e6fb5e19ceb42ce38d4e58f45\n",
            "Successfully built sacremoses\n",
            "Installing collected packages: sacremoses, sentencepiece, tokenizers, transformers\n",
            "Successfully installed sacremoses-0.0.43 sentencepiece-0.1.91 tokenizers-0.9.3 transformers-3.5.1\n"
          ],
          "name": "stdout"
        }
      ]
    },
    {
      "cell_type": "code",
      "metadata": {
        "id": "6zOc_iE6mYix",
        "colab": {
          "base_uri": "https://localhost:8080/"
        },
        "outputId": "544d3bb2-70e4-4163-ffbf-7f73e8c717b8"
      },
      "source": [
        "from google.colab import drive\n",
        "drive.mount('/content/drive')"
      ],
      "execution_count": null,
      "outputs": [
        {
          "output_type": "stream",
          "text": [
            "Drive already mounted at /content/drive; to attempt to forcibly remount, call drive.mount(\"/content/drive\", force_remount=True).\n"
          ],
          "name": "stdout"
        }
      ]
    },
    {
      "cell_type": "code",
      "metadata": {
        "id": "KtL_t7tOGucr",
        "colab": {
          "base_uri": "https://localhost:8080/"
        },
        "outputId": "f9cec555-2c37-4dae-b615-e3f036bb13f9"
      },
      "source": [
        "import numpy as np\n",
        "import pandas as pd\n",
        "import seaborn as sns\n",
        "import matplotlib.pyplot as plt\n",
        "from tqdm import tqdm\n",
        "from torch.utils import data\n",
        "from pylab import  rcParams\n",
        "from matplotlib import rc\n",
        "from sklearn.model_selection import train_test_split\n",
        "import transformers\n",
        "import torch\n",
        "import torch.nn as nn\n",
        "import torch.optim as optim\n",
        "from transformers import get_linear_schedule_with_warmup\n",
        "from collections import defaultdict\n",
        "device = torch.device(\"cuda:0\" if torch.cuda.is_available() else \"cpu\")\n",
        "device"
      ],
      "execution_count": null,
      "outputs": [
        {
          "output_type": "execute_result",
          "data": {
            "text/plain": [
              "device(type='cuda', index=0)"
            ]
          },
          "metadata": {
            "tags": []
          },
          "execution_count": 3
        }
      ]
    },
    {
      "cell_type": "code",
      "metadata": {
        "id": "bmZizzmXrM6Q",
        "colab": {
          "base_uri": "https://localhost:8080/"
        },
        "outputId": "573a2c3b-d098-4e6d-9230-f72e19058846"
      },
      "source": [
        "!pip install watermark\n",
        "%reload_ext watermark\n",
        "%watermark -v -p numpy,pandas,torch,transformers"
      ],
      "execution_count": null,
      "outputs": [
        {
          "output_type": "stream",
          "text": [
            "Requirement already satisfied: watermark in /usr/local/lib/python3.6/dist-packages (2.0.2)\n",
            "Requirement already satisfied: ipython in /usr/local/lib/python3.6/dist-packages (from watermark) (5.5.0)\n",
            "Requirement already satisfied: setuptools>=18.5 in /usr/local/lib/python3.6/dist-packages (from ipython->watermark) (50.3.2)\n",
            "Requirement already satisfied: pickleshare in /usr/local/lib/python3.6/dist-packages (from ipython->watermark) (0.7.5)\n",
            "Requirement already satisfied: traitlets>=4.2 in /usr/local/lib/python3.6/dist-packages (from ipython->watermark) (4.3.3)\n",
            "Requirement already satisfied: pygments in /usr/local/lib/python3.6/dist-packages (from ipython->watermark) (2.6.1)\n",
            "Requirement already satisfied: decorator in /usr/local/lib/python3.6/dist-packages (from ipython->watermark) (4.4.2)\n",
            "Requirement already satisfied: pexpect; sys_platform != \"win32\" in /usr/local/lib/python3.6/dist-packages (from ipython->watermark) (4.8.0)\n",
            "Requirement already satisfied: prompt-toolkit<2.0.0,>=1.0.4 in /usr/local/lib/python3.6/dist-packages (from ipython->watermark) (1.0.18)\n",
            "Requirement already satisfied: simplegeneric>0.8 in /usr/local/lib/python3.6/dist-packages (from ipython->watermark) (0.8.1)\n",
            "Requirement already satisfied: six in /usr/local/lib/python3.6/dist-packages (from traitlets>=4.2->ipython->watermark) (1.15.0)\n",
            "Requirement already satisfied: ipython-genutils in /usr/local/lib/python3.6/dist-packages (from traitlets>=4.2->ipython->watermark) (0.2.0)\n",
            "Requirement already satisfied: ptyprocess>=0.5 in /usr/local/lib/python3.6/dist-packages (from pexpect; sys_platform != \"win32\"->ipython->watermark) (0.6.0)\n",
            "Requirement already satisfied: wcwidth in /usr/local/lib/python3.6/dist-packages (from prompt-toolkit<2.0.0,>=1.0.4->ipython->watermark) (0.2.5)\n",
            "CPython 3.6.9\n",
            "IPython 5.5.0\n",
            "\n",
            "numpy 1.18.5\n",
            "pandas 1.1.4\n",
            "torch 1.7.0+cu101\n",
            "transformers 3.4.0\n"
          ],
          "name": "stdout"
        }
      ]
    },
    {
      "cell_type": "code",
      "metadata": {
        "id": "lu0tNfuIfVKY"
      },
      "source": [
        "#CUDA_LAUNCH_BLOCKING=1"
      ],
      "execution_count": null,
      "outputs": []
    },
    {
      "cell_type": "code",
      "metadata": {
        "id": "RRjNYpA-HV8_",
        "colab": {
          "base_uri": "https://localhost:8080/"
        },
        "outputId": "1ef45f53-deda-40bf-9bb8-5c2bf2f40ff2"
      },
      "source": [
        "%matplotlib inline\n",
        "sns.set(style='whitegrid',palette='muted',font_scale=1.2)\n",
        "\n",
        "HAPPY_COLOR_PALETTE=['#01BEFE','#FFDD00','#FF7D00','#FF006D','#ADFF02','#8F00FF']\n",
        "\n",
        "sns.set_palette(sns.color_palette(HAPPY_COLOR_PALETTE))\n",
        "\n",
        "rcParams['figure.figsize']=12,8\n",
        "\n",
        "RANDOM_SEED=42\n",
        "np.random.seed(RANDOM_SEED)\n",
        "torch.manual_seed(RANDOM_SEED)"
      ],
      "execution_count": null,
      "outputs": [
        {
          "output_type": "execute_result",
          "data": {
            "text/plain": [
              "<torch._C.Generator at 0x7fecb7efa228>"
            ]
          },
          "metadata": {
            "tags": []
          },
          "execution_count": 6
        }
      ]
    },
    {
      "cell_type": "code",
      "metadata": {
        "id": "xAyMonh6Ix3c",
        "colab": {
          "base_uri": "https://localhost:8080/"
        },
        "outputId": "c7793a89-d9bf-49b3-dac3-15e05b2bcd24"
      },
      "source": [
        "#google app review data downloaded using these 2 drive links\n",
        "!gdown --id 1S6qMioqPJjyBLpLVz4gmRTnJHnjitnuV\n",
        "!gdown --id 1zdmewp7ayS4js4VtrJEHzAheSW-5NBZv"
      ],
      "execution_count": null,
      "outputs": [
        {
          "output_type": "stream",
          "text": [
            "Downloading...\n",
            "From: https://drive.google.com/uc?id=1S6qMioqPJjyBLpLVz4gmRTnJHnjitnuV\n",
            "To: /content/apps.csv\n",
            "100% 134k/134k [00:00<00:00, 48.7MB/s]\n",
            "Downloading...\n",
            "From: https://drive.google.com/uc?id=1zdmewp7ayS4js4VtrJEHzAheSW-5NBZv\n",
            "To: /content/reviews.csv\n",
            "7.17MB [00:00, 62.7MB/s]\n"
          ],
          "name": "stdout"
        }
      ]
    },
    {
      "cell_type": "code",
      "metadata": {
        "id": "wl7VSBZLIo9j",
        "colab": {
          "base_uri": "https://localhost:8080/",
          "height": 363
        },
        "outputId": "4e4216d6-c7c4-4b9f-e148-9a56724276b0"
      },
      "source": [
        "df=pd.read_csv('reviews.csv') #loading of data\n",
        "df.head(5)"
      ],
      "execution_count": null,
      "outputs": [
        {
          "output_type": "execute_result",
          "data": {
            "text/html": [
              "<div>\n",
              "<style scoped>\n",
              "    .dataframe tbody tr th:only-of-type {\n",
              "        vertical-align: middle;\n",
              "    }\n",
              "\n",
              "    .dataframe tbody tr th {\n",
              "        vertical-align: top;\n",
              "    }\n",
              "\n",
              "    .dataframe thead th {\n",
              "        text-align: right;\n",
              "    }\n",
              "</style>\n",
              "<table border=\"1\" class=\"dataframe\">\n",
              "  <thead>\n",
              "    <tr style=\"text-align: right;\">\n",
              "      <th></th>\n",
              "      <th>userName</th>\n",
              "      <th>userImage</th>\n",
              "      <th>content</th>\n",
              "      <th>score</th>\n",
              "      <th>thumbsUpCount</th>\n",
              "      <th>reviewCreatedVersion</th>\n",
              "      <th>at</th>\n",
              "      <th>replyContent</th>\n",
              "      <th>repliedAt</th>\n",
              "      <th>sortOrder</th>\n",
              "      <th>appId</th>\n",
              "    </tr>\n",
              "  </thead>\n",
              "  <tbody>\n",
              "    <tr>\n",
              "      <th>0</th>\n",
              "      <td>Andrew Thomas</td>\n",
              "      <td>https://lh3.googleusercontent.com/a-/AOh14GiHd...</td>\n",
              "      <td>Update: After getting a response from the deve...</td>\n",
              "      <td>1</td>\n",
              "      <td>21</td>\n",
              "      <td>4.17.0.3</td>\n",
              "      <td>2020-04-05 22:25:57</td>\n",
              "      <td>According to our TOS, and the term you have ag...</td>\n",
              "      <td>2020-04-05 15:10:24</td>\n",
              "      <td>most_relevant</td>\n",
              "      <td>com.anydo</td>\n",
              "    </tr>\n",
              "    <tr>\n",
              "      <th>1</th>\n",
              "      <td>Craig Haines</td>\n",
              "      <td>https://lh3.googleusercontent.com/-hoe0kwSJgPQ...</td>\n",
              "      <td>Used it for a fair amount of time without any ...</td>\n",
              "      <td>1</td>\n",
              "      <td>11</td>\n",
              "      <td>4.17.0.3</td>\n",
              "      <td>2020-04-04 13:40:01</td>\n",
              "      <td>It sounds like you logged in with a different ...</td>\n",
              "      <td>2020-04-05 15:11:35</td>\n",
              "      <td>most_relevant</td>\n",
              "      <td>com.anydo</td>\n",
              "    </tr>\n",
              "    <tr>\n",
              "      <th>2</th>\n",
              "      <td>steven adkins</td>\n",
              "      <td>https://lh3.googleusercontent.com/a-/AOh14GiXw...</td>\n",
              "      <td>Your app sucks now!!!!! Used to be good but no...</td>\n",
              "      <td>1</td>\n",
              "      <td>17</td>\n",
              "      <td>4.17.0.3</td>\n",
              "      <td>2020-04-01 16:18:13</td>\n",
              "      <td>This sounds odd! We are not aware of any issue...</td>\n",
              "      <td>2020-04-02 16:05:56</td>\n",
              "      <td>most_relevant</td>\n",
              "      <td>com.anydo</td>\n",
              "    </tr>\n",
              "    <tr>\n",
              "      <th>3</th>\n",
              "      <td>Lars Panzerbjørn</td>\n",
              "      <td>https://lh3.googleusercontent.com/a-/AOh14Gg-h...</td>\n",
              "      <td>It seems OK, but very basic. Recurring tasks n...</td>\n",
              "      <td>1</td>\n",
              "      <td>192</td>\n",
              "      <td>4.17.0.2</td>\n",
              "      <td>2020-03-12 08:17:34</td>\n",
              "      <td>We do offer this option as part of the Advance...</td>\n",
              "      <td>2020-03-15 06:20:13</td>\n",
              "      <td>most_relevant</td>\n",
              "      <td>com.anydo</td>\n",
              "    </tr>\n",
              "    <tr>\n",
              "      <th>4</th>\n",
              "      <td>Scott Prewitt</td>\n",
              "      <td>https://lh3.googleusercontent.com/-K-X1-YsVd6U...</td>\n",
              "      <td>Absolutely worthless. This app runs a prohibit...</td>\n",
              "      <td>1</td>\n",
              "      <td>42</td>\n",
              "      <td>4.17.0.2</td>\n",
              "      <td>2020-03-14 17:41:01</td>\n",
              "      <td>We're sorry you feel this way! 90% of the app ...</td>\n",
              "      <td>2020-03-15 23:45:51</td>\n",
              "      <td>most_relevant</td>\n",
              "      <td>com.anydo</td>\n",
              "    </tr>\n",
              "  </tbody>\n",
              "</table>\n",
              "</div>"
            ],
            "text/plain": [
              "           userName  ...      appId\n",
              "0     Andrew Thomas  ...  com.anydo\n",
              "1      Craig Haines  ...  com.anydo\n",
              "2     steven adkins  ...  com.anydo\n",
              "3  Lars Panzerbjørn  ...  com.anydo\n",
              "4     Scott Prewitt  ...  com.anydo\n",
              "\n",
              "[5 rows x 11 columns]"
            ]
          },
          "metadata": {
            "tags": []
          },
          "execution_count": 8
        }
      ]
    },
    {
      "cell_type": "code",
      "metadata": {
        "id": "qy0IZp_mKR4T",
        "colab": {
          "base_uri": "https://localhost:8080/"
        },
        "outputId": "f8df690b-5ce6-4deb-d510-0700a21c6a8f"
      },
      "source": [
        "df.shape #shape of the dataset "
      ],
      "execution_count": null,
      "outputs": [
        {
          "output_type": "execute_result",
          "data": {
            "text/plain": [
              "(15746, 11)"
            ]
          },
          "metadata": {
            "tags": []
          },
          "execution_count": 9
        }
      ]
    },
    {
      "cell_type": "code",
      "metadata": {
        "id": "ZQz35lLPKY3Q",
        "colab": {
          "base_uri": "https://localhost:8080/"
        },
        "outputId": "ba58234a-b3f0-4a24-9942-fc9d25c7abd0"
      },
      "source": [
        "#more information about data\n",
        "df.info()"
      ],
      "execution_count": null,
      "outputs": [
        {
          "output_type": "stream",
          "text": [
            "<class 'pandas.core.frame.DataFrame'>\n",
            "RangeIndex: 15746 entries, 0 to 15745\n",
            "Data columns (total 11 columns):\n",
            " #   Column                Non-Null Count  Dtype \n",
            "---  ------                --------------  ----- \n",
            " 0   userName              15746 non-null  object\n",
            " 1   userImage             15746 non-null  object\n",
            " 2   content               15746 non-null  object\n",
            " 3   score                 15746 non-null  int64 \n",
            " 4   thumbsUpCount         15746 non-null  int64 \n",
            " 5   reviewCreatedVersion  13533 non-null  object\n",
            " 6   at                    15746 non-null  object\n",
            " 7   replyContent          7367 non-null   object\n",
            " 8   repliedAt             7367 non-null   object\n",
            " 9   sortOrder             15746 non-null  object\n",
            " 10  appId                 15746 non-null  object\n",
            "dtypes: int64(2), object(9)\n",
            "memory usage: 1.3+ MB\n"
          ],
          "name": "stdout"
        }
      ]
    },
    {
      "cell_type": "code",
      "metadata": {
        "id": "bQJ6Cx7NKhPv",
        "colab": {
          "base_uri": "https://localhost:8080/",
          "height": 560
        },
        "outputId": "230cddef-1dcb-4b40-d07b-9eadaf0b9a2a"
      },
      "source": [
        "#we can the check the counts of rating for different rate respectively \n",
        "sns.countplot(df.score)\n",
        "plt.xlabel('reviews')\n",
        "plt.show()"
      ],
      "execution_count": null,
      "outputs": [
        {
          "output_type": "stream",
          "text": [
            "/usr/local/lib/python3.6/dist-packages/seaborn/_decorators.py:43: FutureWarning: Pass the following variable as a keyword arg: x. From version 0.12, the only valid positional argument will be `data`, and passing other arguments without an explicit keyword will result in an error or misinterpretation.\n",
            "  FutureWarning\n"
          ],
          "name": "stderr"
        },
        {
          "output_type": "display_data",
          "data": {
            "image/png": "[encoded data removed]",
            "text/plain": [
              "<Figure size 864x576 with 1 Axes>"
            ]
          },
          "metadata": {
            "tags": []
          }
        }
      ]
    },
    {
      "cell_type": "code",
      "metadata": {
        "id": "pxsonJQKLGrE"
      },
      "source": [
        "#now Group the rating into 2 groups one is good and one is bad and we take rating 3 as threshold so below 3 bad ,above 3 good,and 3 is avg\n",
        "def group_rating(rating):\n",
        "  rating=int(rating)\n",
        "  if rating <=2:\n",
        "    return 0\n",
        "  elif rating==3:\n",
        "    return 1\n",
        "  else:\n",
        "    return 2\n"
      ],
      "execution_count": null,
      "outputs": []
    },
    {
      "cell_type": "code",
      "metadata": {
        "id": "C9gHhOqyQNc2"
      },
      "source": [
        "df['sentiment']=df.score.apply(group_rating) #converting df scores into our rating"
      ],
      "execution_count": null,
      "outputs": []
    },
    {
      "cell_type": "code",
      "metadata": {
        "id": "vrkncR5ZQkPx",
        "colab": {
          "base_uri": "https://localhost:8080/",
          "height": 548
        },
        "outputId": "89ecef95-aa3c-4c7c-ce80-d578b7deb5f9"
      },
      "source": [
        "df.head(5)"
      ],
      "execution_count": null,
      "outputs": [
        {
          "output_type": "execute_result",
          "data": {
            "text/html": [
              "<div>\n",
              "<style scoped>\n",
              "    .dataframe tbody tr th:only-of-type {\n",
              "        vertical-align: middle;\n",
              "    }\n",
              "\n",
              "    .dataframe tbody tr th {\n",
              "        vertical-align: top;\n",
              "    }\n",
              "\n",
              "    .dataframe thead th {\n",
              "        text-align: right;\n",
              "    }\n",
              "</style>\n",
              "<table border=\"1\" class=\"dataframe\">\n",
              "  <thead>\n",
              "    <tr style=\"text-align: right;\">\n",
              "      <th></th>\n",
              "      <th>userName</th>\n",
              "      <th>userImage</th>\n",
              "      <th>content</th>\n",
              "      <th>score</th>\n",
              "      <th>thumbsUpCount</th>\n",
              "      <th>reviewCreatedVersion</th>\n",
              "      <th>at</th>\n",
              "      <th>replyContent</th>\n",
              "      <th>repliedAt</th>\n",
              "      <th>sortOrder</th>\n",
              "      <th>appId</th>\n",
              "      <th>sentiment</th>\n",
              "    </tr>\n",
              "  </thead>\n",
              "  <tbody>\n",
              "    <tr>\n",
              "      <th>0</th>\n",
              "      <td>Andrew Thomas</td>\n",
              "      <td>https://lh3.googleusercontent.com/a-/AOh14GiHd...</td>\n",
              "      <td>Update: After getting a response from the deve...</td>\n",
              "      <td>1</td>\n",
              "      <td>21</td>\n",
              "      <td>4.17.0.3</td>\n",
              "      <td>2020-04-05 22:25:57</td>\n",
              "      <td>According to our TOS, and the term you have ag...</td>\n",
              "      <td>2020-04-05 15:10:24</td>\n",
              "      <td>most_relevant</td>\n",
              "      <td>com.anydo</td>\n",
              "      <td>0</td>\n",
              "    </tr>\n",
              "    <tr>\n",
              "      <th>1</th>\n",
              "      <td>Craig Haines</td>\n",
              "      <td>https://lh3.googleusercontent.com/-hoe0kwSJgPQ...</td>\n",
              "      <td>Used it for a fair amount of time without any ...</td>\n",
              "      <td>1</td>\n",
              "      <td>11</td>\n",
              "      <td>4.17.0.3</td>\n",
              "      <td>2020-04-04 13:40:01</td>\n",
              "      <td>It sounds like you logged in with a different ...</td>\n",
              "      <td>2020-04-05 15:11:35</td>\n",
              "      <td>most_relevant</td>\n",
              "      <td>com.anydo</td>\n",
              "      <td>0</td>\n",
              "    </tr>\n",
              "    <tr>\n",
              "      <th>2</th>\n",
              "      <td>steven adkins</td>\n",
              "      <td>https://lh3.googleusercontent.com/a-/AOh14GiXw...</td>\n",
              "      <td>Your app sucks now!!!!! Used to be good but no...</td>\n",
              "      <td>1</td>\n",
              "      <td>17</td>\n",
              "      <td>4.17.0.3</td>\n",
              "      <td>2020-04-01 16:18:13</td>\n",
              "      <td>This sounds odd! We are not aware of any issue...</td>\n",
              "      <td>2020-04-02 16:05:56</td>\n",
              "      <td>most_relevant</td>\n",
              "      <td>com.anydo</td>\n",
              "      <td>0</td>\n",
              "    </tr>\n",
              "    <tr>\n",
              "      <th>3</th>\n",
              "      <td>Lars Panzerbjørn</td>\n",
              "      <td>https://lh3.googleusercontent.com/a-/AOh14Gg-h...</td>\n",
              "      <td>It seems OK, but very basic. Recurring tasks n...</td>\n",
              "      <td>1</td>\n",
              "      <td>192</td>\n",
              "      <td>4.17.0.2</td>\n",
              "      <td>2020-03-12 08:17:34</td>\n",
              "      <td>We do offer this option as part of the Advance...</td>\n",
              "      <td>2020-03-15 06:20:13</td>\n",
              "      <td>most_relevant</td>\n",
              "      <td>com.anydo</td>\n",
              "      <td>0</td>\n",
              "    </tr>\n",
              "    <tr>\n",
              "      <th>4</th>\n",
              "      <td>Scott Prewitt</td>\n",
              "      <td>https://lh3.googleusercontent.com/-K-X1-YsVd6U...</td>\n",
              "      <td>Absolutely worthless. This app runs a prohibit...</td>\n",
              "      <td>1</td>\n",
              "      <td>42</td>\n",
              "      <td>4.17.0.2</td>\n",
              "      <td>2020-03-14 17:41:01</td>\n",
              "      <td>We're sorry you feel this way! 90% of the app ...</td>\n",
              "      <td>2020-03-15 23:45:51</td>\n",
              "      <td>most_relevant</td>\n",
              "      <td>com.anydo</td>\n",
              "      <td>0</td>\n",
              "    </tr>\n",
              "  </tbody>\n",
              "</table>\n",
              "</div>"
            ],
            "text/plain": [
              "           userName  ... sentiment\n",
              "0     Andrew Thomas  ...         0\n",
              "1      Craig Haines  ...         0\n",
              "2     steven adkins  ...         0\n",
              "3  Lars Panzerbjørn  ...         0\n",
              "4     Scott Prewitt  ...         0\n",
              "\n",
              "[5 rows x 12 columns]"
            ]
          },
          "metadata": {
            "tags": []
          },
          "execution_count": 14
        }
      ]
    },
    {
      "cell_type": "code",
      "metadata": {
        "id": "E5GXBK2LQvE0",
        "colab": {
          "base_uri": "https://localhost:8080/",
          "height": 560
        },
        "outputId": "c19777cc-3358-404a-f510-39c83083d7d1"
      },
      "source": [
        "class_names=['negative','neutral','positive']\n",
        "ax=sns.countplot(df.sentiment)\n",
        "plt.xlabel('review sentiment')\n",
        "ax.set_xticklabels(class_names)\n",
        "plt.show()"
      ],
      "execution_count": null,
      "outputs": [
        {
          "output_type": "stream",
          "text": [
            "/usr/local/lib/python3.6/dist-packages/seaborn/_decorators.py:43: FutureWarning: Pass the following variable as a keyword arg: x. From version 0.12, the only valid positional argument will be `data`, and passing other arguments without an explicit keyword will result in an error or misinterpretation.\n",
            "  FutureWarning\n"
          ],
          "name": "stderr"
        },
        {
          "output_type": "display_data",
          "data": {
            "image/png": "[encoded data removed]",
            "text/plain": [
              "<Figure size 864x576 with 1 Axes>"
            ]
          },
          "metadata": {
            "tags": []
          }
        }
      ]
    },
    {
      "cell_type": "code",
      "metadata": {
        "id": "XEAI8nv0RVeB"
      },
      "source": [
        "#Data Preprocessing\n",
        "tokenizer=transformers.BertTokenizer.from_pretrained('bert-base-cased')"
      ],
      "execution_count": null,
      "outputs": []
    },
    {
      "cell_type": "code",
      "metadata": {
        "id": "4hDr7UFjRwqd",
        "colab": {
          "base_uri": "https://localhost:8080/"
        },
        "outputId": "2773b8bb-fe1a-4d84-8530-9076d8b4716e"
      },
      "source": [
        "#choosing the sequence len\n",
        "\n",
        "token_lens=[]\n",
        "\n",
        "for text in df.content:\n",
        "  tokens=tokenizer.encode(text,max_length=512)\n",
        "  token_lens.append(len(tokens))"
      ],
      "execution_count": null,
      "outputs": [
        {
          "output_type": "stream",
          "text": [
            "Truncation was not explicitely activated but `max_length` is provided a specific value, please use `truncation=True` to explicitely truncate examples to max length. Defaulting to 'longest_first' truncation strategy. If you encode pairs of sequences (GLUE-style) with the tokenizer you can select this strategy more precisely by providing a specific strategy to `truncation`.\n"
          ],
          "name": "stderr"
        }
      ]
    },
    {
      "cell_type": "code",
      "metadata": {
        "id": "MdhYIgh1RxpF",
        "colab": {
          "base_uri": "https://localhost:8080/",
          "height": 542
        },
        "outputId": "17ce8d8c-b811-4c11-ea71-056f3cb5418f"
      },
      "source": [
        "sns.distplot(token_lens);"
      ],
      "execution_count": null,
      "outputs": [
        {
          "output_type": "stream",
          "text": [
            "/usr/local/lib/python3.6/dist-packages/seaborn/distributions.py:2551: FutureWarning: `distplot` is a deprecated function and will be removed in a future version. Please adapt your code to use either `displot` (a figure-level function with similar flexibility) or `histplot` (an axes-level function for histograms).\n",
            "  warnings.warn(msg, FutureWarning)\n"
          ],
          "name": "stderr"
        },
        {
          "output_type": "display_data",
          "data": {
            "image/png": "[encoded data removed]",
            "text/plain": [
              "<Figure size 864x576 with 1 Axes>"
            ]
          },
          "metadata": {
            "tags": []
          }
        }
      ]
    },
    {
      "cell_type": "code",
      "metadata": {
        "id": "xpP0hsuJRxzg"
      },
      "source": [
        "#Dataset Creation\n",
        "class GoogleReviews(data.Dataset):\n",
        "  def __init__(self,reviews,targets,tokenizer,max_len):\n",
        "      self.reviews=reviews\n",
        "      self.targets=targets\n",
        "      self.tokenizer=tokenizer\n",
        "      self.max_len=max_len\n",
        "  def __len__(self):\n",
        "      return (len(self.reviews))\n",
        "  def __getitem__(self,item):\n",
        "      review=str(self.reviews[item])\n",
        "      target=self.targets[item]\n",
        "      encoding=tokenizer.encode_plus(\n",
        "          review,\n",
        "          max_length=self.max_len,\n",
        "          add_special_tokens=True,\n",
        "          pad_to_max_length=True,\n",
        "          return_attention_mask=True,\n",
        "          return_token_type_ids=False,\n",
        "          return_tensors='pt' #return pytorch tensors pt means pytorch tensors\n",
        "      )\n",
        "\n",
        "      #now we get the encoding dict in which we have token_ids,attn_ids and all\n",
        "      return {\n",
        "          'review_text':review,\n",
        "          'input_ids':encoding['input_ids'].flatten(),\n",
        "          'attention_mask':encoding['attention_mask'].flatten(),\n",
        "          'targets':torch.tensor(target,dtype=torch.long)\n",
        "      }"
      ],
      "execution_count": null,
      "outputs": []
    },
    {
      "cell_type": "code",
      "metadata": {
        "id": "dIlw8CmqRx1N"
      },
      "source": [
        "MAX_LEN=160\n",
        "BATCH_SIZE=16\n",
        "EPOCHS=20"
      ],
      "execution_count": null,
      "outputs": []
    },
    {
      "cell_type": "code",
      "metadata": {
        "id": "dz6Edp3mRx5O"
      },
      "source": [
        "df_train,df_test=train_test_split(df,test_size=0.2,random_state=RANDOM_SEED)\n",
        "df_val,df_test=train_test_split(df_test,test_size=0.5,random_state=RANDOM_SEED)"
      ],
      "execution_count": null,
      "outputs": []
    },
    {
      "cell_type": "code",
      "metadata": {
        "id": "I1RlUi33Rx61",
        "colab": {
          "base_uri": "https://localhost:8080/"
        },
        "outputId": "0051e733-1d28-40a7-950c-c52f9da5f243"
      },
      "source": [
        "print(df_train.shape,df_val.shape,df_test.shape)"
      ],
      "execution_count": null,
      "outputs": [
        {
          "output_type": "stream",
          "text": [
            "(12596, 12) (1575, 12) (1575, 12)\n"
          ],
          "name": "stdout"
        }
      ]
    },
    {
      "cell_type": "code",
      "metadata": {
        "id": "ZCbanKPGRx9_"
      },
      "source": [
        "def create_data_loader(df,tokenizer,max_len,batch_size):\n",
        "  ds=GoogleReviews(\n",
        "      reviews=df.content.to_numpy(),\n",
        "      targets=df.sentiment.to_numpy(),\n",
        "      tokenizer=tokenizer,\n",
        "      max_len=max_len\n",
        "  )\n",
        "  return data.DataLoader(\n",
        "      ds,\n",
        "      batch_size=batch_size,\n",
        "      num_workers=4\n",
        "  )"
      ],
      "execution_count": null,
      "outputs": []
    },
    {
      "cell_type": "code",
      "metadata": {
        "id": "0voE90p7Rx_x"
      },
      "source": [
        "train_data_loader=create_data_loader(df_train,tokenizer,MAX_LEN,BATCH_SIZE)\n",
        "val_data_loader=create_data_loader(df_val,tokenizer,MAX_LEN,BATCH_SIZE)\n",
        "test_data_loader=create_data_loader(df_test,tokenizer,MAX_LEN,BATCH_SIZE)"
      ],
      "execution_count": null,
      "outputs": []
    },
    {
      "cell_type": "code",
      "metadata": {
        "id": "CxQfjfnVRyDQ",
        "colab": {
          "base_uri": "https://localhost:8080/"
        },
        "outputId": "5785034f-c791-4191-97a3-91dbba775ac0"
      },
      "source": [
        "data_checking=next(iter(train_data_loader))\n",
        "data_checking.keys()"
      ],
      "execution_count": null,
      "outputs": [
        {
          "output_type": "stream",
          "text": [
            "/usr/local/lib/python3.6/dist-packages/transformers/tokenization_utils_base.py:1944: FutureWarning: The `pad_to_max_length` argument is deprecated and will be removed in a future version, use `padding=True` or `padding='longest'` to pad to the longest sequence in the batch, or use `padding='max_length'` to pad to a max length. In this case, you can give a specific length with `max_length` (e.g. `max_length=45`) or leave max_length to None to pad to the maximal input size of the model (e.g. 512 for Bert).\n",
            "  FutureWarning,\n",
            "/usr/local/lib/python3.6/dist-packages/transformers/tokenization_utils_base.py:1944: FutureWarning: The `pad_to_max_length` argument is deprecated and will be removed in a future version, use `padding=True` or `padding='longest'` to pad to the longest sequence in the batch, or use `padding='max_length'` to pad to a max length. In this case, you can give a specific length with `max_length` (e.g. `max_length=45`) or leave max_length to None to pad to the maximal input size of the model (e.g. 512 for Bert).\n",
            "  FutureWarning,\n",
            "/usr/local/lib/python3.6/dist-packages/transformers/tokenization_utils_base.py:1944: FutureWarning: The `pad_to_max_length` argument is deprecated and will be removed in a future version, use `padding=True` or `padding='longest'` to pad to the longest sequence in the batch, or use `padding='max_length'` to pad to a max length. In this case, you can give a specific length with `max_length` (e.g. `max_length=45`) or leave max_length to None to pad to the maximal input size of the model (e.g. 512 for Bert).\n",
            "  FutureWarning,\n",
            "/usr/local/lib/python3.6/dist-packages/transformers/tokenization_utils_base.py:1944: FutureWarning: The `pad_to_max_length` argument is deprecated and will be removed in a future version, use `padding=True` or `padding='longest'` to pad to the longest sequence in the batch, or use `padding='max_length'` to pad to a max length. In this case, you can give a specific length with `max_length` (e.g. `max_length=45`) or leave max_length to None to pad to the maximal input size of the model (e.g. 512 for Bert).\n",
            "  FutureWarning,\n"
          ],
          "name": "stderr"
        },
        {
          "output_type": "execute_result",
          "data": {
            "text/plain": [
              "dict_keys(['review_text', 'input_ids', 'attention_mask', 'targets'])"
            ]
          },
          "metadata": {
            "tags": []
          },
          "execution_count": 25
        }
      ]
    },
    {
      "cell_type": "code",
      "metadata": {
        "id": "iKD9m9o8RyFO",
        "colab": {
          "base_uri": "https://localhost:8080/"
        },
        "outputId": "49b224ce-d5b9-4905-863e-6baf2b1be48b"
      },
      "source": [
        "print(data_checking['input_ids'].shape)"
      ],
      "execution_count": null,
      "outputs": [
        {
          "output_type": "stream",
          "text": [
            "torch.Size([16, 160])\n"
          ],
          "name": "stdout"
        }
      ]
    },
    {
      "cell_type": "code",
      "metadata": {
        "id": "fYCOIjaxRyNQ",
        "colab": {
          "base_uri": "https://localhost:8080/"
        },
        "outputId": "f648f8c6-24c3-4f1d-dc86-f51876b0632f"
      },
      "source": [
        "print(data_checking['attention_mask'].shape)"
      ],
      "execution_count": null,
      "outputs": [
        {
          "output_type": "stream",
          "text": [
            "torch.Size([16, 160])\n"
          ],
          "name": "stdout"
        }
      ]
    },
    {
      "cell_type": "code",
      "metadata": {
        "id": "y_4Q-JRyRyO4",
        "colab": {
          "base_uri": "https://localhost:8080/"
        },
        "outputId": "b37b2b75-1570-4a65-95dc-63b4ff52e766"
      },
      "source": [
        "print(data_checking['targets'].shape)\n",
        "print(data_checking['targets'])"
      ],
      "execution_count": null,
      "outputs": [
        {
          "output_type": "stream",
          "text": [
            "torch.Size([16])\n",
            "tensor([1, 1, 1, 0, 1, 2, 2, 0, 0, 0, 2, 2, 0, 1, 1, 1])\n"
          ],
          "name": "stdout"
        }
      ]
    },
    {
      "cell_type": "code",
      "metadata": {
        "id": "a5KYFxfVAurW"
      },
      "source": [
        "import torch.nn\n",
        "import torch\n",
        "from transformers import BertTokenizer, BertModel"
      ],
      "execution_count": null,
      "outputs": []
    },
    {
      "cell_type": "code",
      "metadata": {
        "id": "5rGlxRUFas17",
        "colab": {
          "base_uri": "https://localhost:8080/"
        },
        "outputId": "3c5fcce4-d9d6-408a-8f03-faab321e18da"
      },
      "source": [
        "print(len(class_names))"
      ],
      "execution_count": null,
      "outputs": [
        {
          "output_type": "stream",
          "text": [
            "3\n"
          ],
          "name": "stdout"
        }
      ]
    },
    {
      "cell_type": "code",
      "metadata": {
        "id": "yhoEcLKtQMkC"
      },
      "source": [
        "#Building Sentiment Classifier\n",
        "class SentimentClassifier(nn.Module):\n",
        "    def __init__(self,num_class):\n",
        "      super().__init__()\n",
        "      self.num_class=num_class\n",
        "      self.bert=BertModel.from_pretrained('bert-base-cased')\n",
        "      self.drop=nn.Dropout(p=0.3)\n",
        "      self.out=nn.Linear(self.bert.config.hidden_size,num_class)\n",
        "      \n",
        "    def forward(self,input_ids,attention_mask):\n",
        "      #print(input_ids.shape,attention_mask.shape)\n",
        "      #print(input_ids,attention_mask)\n",
        "      _,pooled_output=self.bert(input_ids=input_ids,attention_mask=attention_mask)\n",
        "      #print('number of classes',self.num_class)\n",
        "      #print('pooled out shape',pooled_output.shape)\n",
        "      output=self.drop(pooled_output)\n",
        "      #print('from model')\n",
        "      output=self.out(output)\n",
        "      #print('output shapes',output.shape)\n",
        "    \n",
        "      return output\n"
      ],
      "execution_count": null,
      "outputs": []
    },
    {
      "cell_type": "code",
      "metadata": {
        "id": "m8MH3eb09Ap1"
      },
      "source": [
        "#model_checking=SentimentClassifier(len(class_names)).to(device)"
      ],
      "execution_count": null,
      "outputs": []
    },
    {
      "cell_type": "code",
      "metadata": {
        "id": "Upsadkc2Tsod",
        "colab": {
          "base_uri": "https://localhost:8080/"
        },
        "outputId": "7d8eae64-100f-488e-ded0-20e8c86ac6c4"
      },
      "source": [
        "for dic in train_data_loader:\n",
        "  print(dic['input_ids'].shape,dic['attention_mask'].shape,dic['targets'].shape)"
      ],
      "execution_count": null,
      "outputs": [
        {
          "output_type": "stream",
          "text": [
            "/usr/local/lib/python3.6/dist-packages/transformers/tokenization_utils_base.py:1944: FutureWarning: The `pad_to_max_length` argument is deprecated and will be removed in a future version, use `padding=True` or `padding='longest'` to pad to the longest sequence in the batch, or use `padding='max_length'` to pad to a max length. In this case, you can give a specific length with `max_length` (e.g. `max_length=45`) or leave max_length to None to pad to the maximal input size of the model (e.g. 512 for Bert).\n",
            "  FutureWarning,\n",
            "/usr/local/lib/python3.6/dist-packages/transformers/tokenization_utils_base.py:1944: FutureWarning: The `pad_to_max_length` argument is deprecated and will be removed in a future version, use `padding=True` or `padding='longest'` to pad to the longest sequence in the batch, or use `padding='max_length'` to pad to a max length. In this case, you can give a specific length with `max_length` (e.g. `max_length=45`) or leave max_length to None to pad to the maximal input size of the model (e.g. 512 for Bert).\n",
            "  FutureWarning,\n",
            "/usr/local/lib/python3.6/dist-packages/transformers/tokenization_utils_base.py:1944: FutureWarning: The `pad_to_max_length` argument is deprecated and will be removed in a future version, use `padding=True` or `padding='longest'` to pad to the longest sequence in the batch, or use `padding='max_length'` to pad to a max length. In this case, you can give a specific length with `max_length` (e.g. `max_length=45`) or leave max_length to None to pad to the maximal input size of the model (e.g. 512 for Bert).\n",
            "  FutureWarning,\n",
            "/usr/local/lib/python3.6/dist-packages/transformers/tokenization_utils_base.py:1944: FutureWarning: The `pad_to_max_length` argument is deprecated and will be removed in a future version, use `padding=True` or `padding='longest'` to pad to the longest sequence in the batch, or use `padding='max_length'` to pad to a max length. In this case, you can give a specific length with `max_length` (e.g. `max_length=45`) or leave max_length to None to pad to the maximal input size of the model (e.g. 512 for Bert).\n",
            "  FutureWarning,\n"
          ],
          "name": "stderr"
        },
        {
          "output_type": "stream",
          "text": [
            "torch.Size([16, 160]) torch.Size([16, 160]) torch.Size([16])\n",
            "torch.Size([16, 160]) torch.Size([16, 160]) torch.Size([16])\n",
            "torch.Size([16, 160]) torch.Size([16, 160]) torch.Size([16])\n",
            "torch.Size([16, 160]) torch.Size([16, 160]) torch.Size([16])\n",
            "torch.Size([16, 160]) torch.Size([16, 160]) torch.Size([16])\n",
            "torch.Size([16, 160]) torch.Size([16, 160]) torch.Size([16])\n",
            "torch.Size([16, 160]) torch.Size([16, 160]) torch.Size([16])\n",
            "torch.Size([16, 160]) torch.Size([16, 160]) torch.Size([16])\n",
            "torch.Size([16, 160]) torch.Size([16, 160]) torch.Size([16])\n",
            "torch.Size([16, 160]) torch.Size([16, 160]) torch.Size([16])\n",
            "torch.Size([16, 160]) torch.Size([16, 160]) torch.Size([16])\n",
            "torch.Size([16, 160]) torch.Size([16, 160]) torch.Size([16])\n",
            "torch.Size([16, 160]) torch.Size([16, 160]) torch.Size([16])\n",
            "torch.Size([16, 160]) torch.Size([16, 160]) torch.Size([16])\n",
            "torch.Size([16, 160]) torch.Size([16, 160]) torch.Size([16])\n",
            "torch.Size([16, 160]) torch.Size([16, 160]) torch.Size([16])\n",
            "torch.Size([16, 160]) torch.Size([16, 160]) torch.Size([16])\n",
            "torch.Size([16, 160]) torch.Size([16, 160]) torch.Size([16])\n",
            "torch.Size([16, 160]) torch.Size([16, 160]) torch.Size([16])\n",
            "torch.Size([16, 160]) torch.Size([16, 160]) torch.Size([16])\n",
            "torch.Size([16, 160]) torch.Size([16, 160]) torch.Size([16])\n",
            "torch.Size([16, 160]) torch.Size([16, 160]) torch.Size([16])\n",
            "torch.Size([16, 160]) torch.Size([16, 160]) torch.Size([16])\n",
            "torch.Size([16, 160]) torch.Size([16, 160]) torch.Size([16])\n",
            "torch.Size([16, 160]) torch.Size([16, 160]) torch.Size([16])\n",
            "torch.Size([16, 160]) torch.Size([16, 160]) torch.Size([16])\n",
            "torch.Size([16, 160]) torch.Size([16, 160]) torch.Size([16])\n",
            "torch.Size([16, 160]) torch.Size([16, 160]) torch.Size([16])\n",
            "torch.Size([16, 160]) torch.Size([16, 160]) torch.Size([16])\n",
            "torch.Size([16, 160]) torch.Size([16, 160]) torch.Size([16])\n",
            "torch.Size([16, 160]) torch.Size([16, 160]) torch.Size([16])\n",
            "torch.Size([16, 160]) torch.Size([16, 160]) torch.Size([16])\n",
            "torch.Size([16, 160]) torch.Size([16, 160]) torch.Size([16])\n",
            "torch.Size([16, 160]) torch.Size([16, 160]) torch.Size([16])\n",
            "torch.Size([16, 160]) torch.Size([16, 160]) torch.Size([16])\n",
            "torch.Size([16, 160]) torch.Size([16, 160]) torch.Size([16])\n",
            "torch.Size([16, 160]) torch.Size([16, 160]) torch.Size([16])\n",
            "torch.Size([16, 160]) torch.Size([16, 160]) torch.Size([16])\n",
            "torch.Size([16, 160]) torch.Size([16, 160]) torch.Size([16])\n",
            "torch.Size([16, 160]) torch.Size([16, 160]) torch.Size([16])\n",
            "torch.Size([16, 160]) torch.Size([16, 160]) torch.Size([16])\n",
            "torch.Size([16, 160]) torch.Size([16, 160]) torch.Size([16])\n",
            "torch.Size([16, 160]) torch.Size([16, 160]) torch.Size([16])\n",
            "torch.Size([16, 160]) torch.Size([16, 160]) torch.Size([16])\n",
            "torch.Size([16, 160]) torch.Size([16, 160]) torch.Size([16])\n",
            "torch.Size([16, 160]) torch.Size([16, 160]) torch.Size([16])\n",
            "torch.Size([16, 160]) torch.Size([16, 160]) torch.Size([16])\n",
            "torch.Size([16, 160]) torch.Size([16, 160]) torch.Size([16])\n",
            "torch.Size([16, 160]) torch.Size([16, 160]) torch.Size([16])\n",
            "torch.Size([16, 160]) torch.Size([16, 160]) torch.Size([16])\n",
            "torch.Size([16, 160]) torch.Size([16, 160]) torch.Size([16])\n",
            "torch.Size([16, 160]) torch.Size([16, 160]) torch.Size([16])\n",
            "torch.Size([16, 160]) torch.Size([16, 160]) torch.Size([16])\n",
            "torch.Size([16, 160]) torch.Size([16, 160]) torch.Size([16])\n",
            "torch.Size([16, 160]) torch.Size([16, 160]) torch.Size([16])\n",
            "torch.Size([16, 160]) torch.Size([16, 160]) torch.Size([16])\n",
            "torch.Size([16, 160]) torch.Size([16, 160]) torch.Size([16])\n",
            "torch.Size([16, 160]) torch.Size([16, 160]) torch.Size([16])\n",
            "torch.Size([16, 160]) torch.Size([16, 160]) torch.Size([16])\n",
            "torch.Size([16, 160]) torch.Size([16, 160]) torch.Size([16])\n",
            "torch.Size([16, 160]) torch.Size([16, 160]) torch.Size([16])\n",
            "torch.Size([16, 160]) torch.Size([16, 160]) torch.Size([16])\n",
            "torch.Size([16, 160]) torch.Size([16, 160]) torch.Size([16])\n",
            "torch.Size([16, 160]) torch.Size([16, 160]) torch.Size([16])\n",
            "torch.Size([16, 160]) torch.Size([16, 160]) torch.Size([16])\n",
            "torch.Size([16, 160]) torch.Size([16, 160]) torch.Size([16])\n",
            "torch.Size([16, 160]) torch.Size([16, 160]) torch.Size([16])\n",
            "torch.Size([16, 160]) torch.Size([16, 160]) torch.Size([16])\n",
            "torch.Size([16, 160]) torch.Size([16, 160]) torch.Size([16])\n",
            "torch.Size([16, 160]) torch.Size([16, 160]) torch.Size([16])\n",
            "torch.Size([16, 160]) torch.Size([16, 160]) torch.Size([16])\n",
            "torch.Size([16, 160]) torch.Size([16, 160]) torch.Size([16])\n",
            "torch.Size([16, 160]) torch.Size([16, 160]) torch.Size([16])\n",
            "torch.Size([16, 160]) torch.Size([16, 160]) torch.Size([16])\n",
            "torch.Size([16, 160]) torch.Size([16, 160]) torch.Size([16])\n",
            "torch.Size([16, 160]) torch.Size([16, 160]) torch.Size([16])\n",
            "torch.Size([16, 160]) torch.Size([16, 160]) torch.Size([16])\n",
            "torch.Size([16, 160]) torch.Size([16, 160]) torch.Size([16])\n",
            "torch.Size([16, 160]) torch.Size([16, 160]) torch.Size([16])\n",
            "torch.Size([16, 160]) torch.Size([16, 160]) torch.Size([16])\n",
            "torch.Size([16, 160]) torch.Size([16, 160]) torch.Size([16])\n",
            "torch.Size([16, 160]) torch.Size([16, 160]) torch.Size([16])\n",
            "torch.Size([16, 160]) torch.Size([16, 160]) torch.Size([16])\n",
            "torch.Size([16, 160]) torch.Size([16, 160]) torch.Size([16])\n",
            "torch.Size([16, 160]) torch.Size([16, 160]) torch.Size([16])\n",
            "torch.Size([16, 160]) torch.Size([16, 160]) torch.Size([16])\n",
            "torch.Size([16, 160]) torch.Size([16, 160]) torch.Size([16])\n",
            "torch.Size([16, 160]) torch.Size([16, 160]) torch.Size([16])\n",
            "torch.Size([16, 160]) torch.Size([16, 160]) torch.Size([16])\n",
            "torch.Size([16, 160]) torch.Size([16, 160]) torch.Size([16])\n",
            "torch.Size([16, 160]) torch.Size([16, 160]) torch.Size([16])\n",
            "torch.Size([16, 160]) torch.Size([16, 160]) torch.Size([16])\n",
            "torch.Size([16, 160]) torch.Size([16, 160]) torch.Size([16])\n",
            "torch.Size([16, 160]) torch.Size([16, 160]) torch.Size([16])\n",
            "torch.Size([16, 160]) torch.Size([16, 160]) torch.Size([16])\n",
            "torch.Size([16, 160]) torch.Size([16, 160]) torch.Size([16])\n",
            "torch.Size([16, 160]) torch.Size([16, 160]) torch.Size([16])\n",
            "torch.Size([16, 160]) torch.Size([16, 160]) torch.Size([16])\n",
            "torch.Size([16, 160]) torch.Size([16, 160]) torch.Size([16])\n",
            "torch.Size([16, 160]) torch.Size([16, 160]) torch.Size([16])\n",
            "torch.Size([16, 160]) torch.Size([16, 160]) torch.Size([16])\n",
            "torch.Size([16, 160]) torch.Size([16, 160]) torch.Size([16])\n",
            "torch.Size([16, 160]) torch.Size([16, 160]) torch.Size([16])\n",
            "torch.Size([16, 160]) torch.Size([16, 160]) torch.Size([16])\n",
            "torch.Size([16, 160]) torch.Size([16, 160]) torch.Size([16])\n",
            "torch.Size([16, 160]) torch.Size([16, 160]) torch.Size([16])\n",
            "torch.Size([16, 160]) torch.Size([16, 160]) torch.Size([16])\n",
            "torch.Size([16, 160]) torch.Size([16, 160]) torch.Size([16])\n",
            "torch.Size([16, 160]) torch.Size([16, 160]) torch.Size([16])\n",
            "torch.Size([16, 160]) torch.Size([16, 160]) torch.Size([16])\n",
            "torch.Size([16, 160]) torch.Size([16, 160]) torch.Size([16])\n",
            "torch.Size([16, 160]) torch.Size([16, 160]) torch.Size([16])\n",
            "torch.Size([16, 160]) torch.Size([16, 160]) torch.Size([16])\n",
            "torch.Size([16, 160]) torch.Size([16, 160]) torch.Size([16])\n",
            "torch.Size([16, 160]) torch.Size([16, 160]) torch.Size([16])\n",
            "torch.Size([16, 160]) torch.Size([16, 160]) torch.Size([16])\n",
            "torch.Size([16, 160]) torch.Size([16, 160]) torch.Size([16])\n",
            "torch.Size([16, 160]) torch.Size([16, 160]) torch.Size([16])\n",
            "torch.Size([16, 160]) torch.Size([16, 160]) torch.Size([16])\n",
            "torch.Size([16, 160]) torch.Size([16, 160]) torch.Size([16])\n",
            "torch.Size([16, 160]) torch.Size([16, 160]) torch.Size([16])\n",
            "torch.Size([16, 160]) torch.Size([16, 160]) torch.Size([16])\n",
            "torch.Size([16, 160]) torch.Size([16, 160]) torch.Size([16])\n",
            "torch.Size([16, 160]) torch.Size([16, 160]) torch.Size([16])\n",
            "torch.Size([16, 160]) torch.Size([16, 160]) torch.Size([16])\n",
            "torch.Size([16, 160]) torch.Size([16, 160]) torch.Size([16])\n",
            "torch.Size([16, 160]) torch.Size([16, 160]) torch.Size([16])\n",
            "torch.Size([16, 160]) torch.Size([16, 160]) torch.Size([16])\n",
            "torch.Size([16, 160]) torch.Size([16, 160]) torch.Size([16])\n",
            "torch.Size([16, 160]) torch.Size([16, 160]) torch.Size([16])\n",
            "torch.Size([16, 160]) torch.Size([16, 160]) torch.Size([16])\n",
            "torch.Size([16, 160]) torch.Size([16, 160]) torch.Size([16])\n",
            "torch.Size([16, 160]) torch.Size([16, 160]) torch.Size([16])\n",
            "torch.Size([16, 160]) torch.Size([16, 160]) torch.Size([16])\n",
            "torch.Size([16, 160]) torch.Size([16, 160]) torch.Size([16])\n",
            "torch.Size([16, 160]) torch.Size([16, 160]) torch.Size([16])\n",
            "torch.Size([16, 160]) torch.Size([16, 160]) torch.Size([16])\n",
            "torch.Size([16, 160]) torch.Size([16, 160]) torch.Size([16])\n",
            "torch.Size([16, 160]) torch.Size([16, 160]) torch.Size([16])\n",
            "torch.Size([16, 160]) torch.Size([16, 160]) torch.Size([16])\n",
            "torch.Size([16, 160]) torch.Size([16, 160]) torch.Size([16])\n",
            "torch.Size([16, 160]) torch.Size([16, 160]) torch.Size([16])\n",
            "torch.Size([16, 160]) torch.Size([16, 160]) torch.Size([16])\n",
            "torch.Size([16, 160]) torch.Size([16, 160]) torch.Size([16])\n",
            "torch.Size([16, 160]) torch.Size([16, 160]) torch.Size([16])\n",
            "torch.Size([16, 160]) torch.Size([16, 160]) torch.Size([16])\n",
            "torch.Size([16, 160]) torch.Size([16, 160]) torch.Size([16])\n",
            "torch.Size([16, 160]) torch.Size([16, 160]) torch.Size([16])\n",
            "torch.Size([16, 160]) torch.Size([16, 160]) torch.Size([16])\n",
            "torch.Size([16, 160]) torch.Size([16, 160]) torch.Size([16])\n",
            "torch.Size([16, 160]) torch.Size([16, 160]) torch.Size([16])\n",
            "torch.Size([16, 160]) torch.Size([16, 160]) torch.Size([16])\n",
            "torch.Size([16, 160]) torch.Size([16, 160]) torch.Size([16])\n",
            "torch.Size([16, 160]) torch.Size([16, 160]) torch.Size([16])\n",
            "torch.Size([16, 160]) torch.Size([16, 160]) torch.Size([16])\n",
            "torch.Size([16, 160]) torch.Size([16, 160]) torch.Size([16])\n",
            "torch.Size([16, 160]) torch.Size([16, 160]) torch.Size([16])\n",
            "torch.Size([16, 160]) torch.Size([16, 160]) torch.Size([16])\n",
            "torch.Size([16, 160]) torch.Size([16, 160]) torch.Size([16])\n",
            "torch.Size([16, 160]) torch.Size([16, 160]) torch.Size([16])\n",
            "torch.Size([16, 160]) torch.Size([16, 160]) torch.Size([16])\n",
            "torch.Size([16, 160]) torch.Size([16, 160]) torch.Size([16])\n",
            "torch.Size([16, 160]) torch.Size([16, 160]) torch.Size([16])\n",
            "torch.Size([16, 160]) torch.Size([16, 160]) torch.Size([16])\n",
            "torch.Size([16, 160]) torch.Size([16, 160]) torch.Size([16])\n",
            "torch.Size([16, 160]) torch.Size([16, 160]) torch.Size([16])\n",
            "torch.Size([16, 160]) torch.Size([16, 160]) torch.Size([16])\n",
            "torch.Size([16, 160]) torch.Size([16, 160]) torch.Size([16])\n",
            "torch.Size([16, 160]) torch.Size([16, 160]) torch.Size([16])\n",
            "torch.Size([16, 160]) torch.Size([16, 160]) torch.Size([16])\n",
            "torch.Size([16, 160]) torch.Size([16, 160]) torch.Size([16])\n",
            "torch.Size([16, 160]) torch.Size([16, 160]) torch.Size([16])\n",
            "torch.Size([16, 160]) torch.Size([16, 160]) torch.Size([16])\n",
            "torch.Size([16, 160]) torch.Size([16, 160]) torch.Size([16])\n",
            "torch.Size([16, 160]) torch.Size([16, 160]) torch.Size([16])\n",
            "torch.Size([16, 160]) torch.Size([16, 160]) torch.Size([16])\n",
            "torch.Size([16, 160]) torch.Size([16, 160]) torch.Size([16])\n",
            "torch.Size([16, 160]) torch.Size([16, 160]) torch.Size([16])\n",
            "torch.Size([16, 160]) torch.Size([16, 160]) torch.Size([16])\n",
            "torch.Size([16, 160]) torch.Size([16, 160]) torch.Size([16])\n",
            "torch.Size([16, 160]) torch.Size([16, 160]) torch.Size([16])\n",
            "torch.Size([16, 160]) torch.Size([16, 160]) torch.Size([16])\n",
            "torch.Size([16, 160]) torch.Size([16, 160]) torch.Size([16])\n",
            "torch.Size([16, 160]) torch.Size([16, 160]) torch.Size([16])\n",
            "torch.Size([16, 160]) torch.Size([16, 160]) torch.Size([16])\n",
            "torch.Size([16, 160]) torch.Size([16, 160]) torch.Size([16])\n",
            "torch.Size([16, 160]) torch.Size([16, 160]) torch.Size([16])\n",
            "torch.Size([16, 160]) torch.Size([16, 160]) torch.Size([16])\n",
            "torch.Size([16, 160]) torch.Size([16, 160]) torch.Size([16])\n",
            "torch.Size([16, 160]) torch.Size([16, 160]) torch.Size([16])\n",
            "torch.Size([16, 160]) torch.Size([16, 160]) torch.Size([16])\n",
            "torch.Size([16, 160]) torch.Size([16, 160]) torch.Size([16])\n",
            "torch.Size([16, 160]) torch.Size([16, 160]) torch.Size([16])\n",
            "torch.Size([16, 160]) torch.Size([16, 160]) torch.Size([16])\n",
            "torch.Size([16, 160]) torch.Size([16, 160]) torch.Size([16])\n",
            "torch.Size([16, 160]) torch.Size([16, 160]) torch.Size([16])\n",
            "torch.Size([16, 160]) torch.Size([16, 160]) torch.Size([16])\n",
            "torch.Size([16, 160]) torch.Size([16, 160]) torch.Size([16])\n",
            "torch.Size([16, 160]) torch.Size([16, 160]) torch.Size([16])\n",
            "torch.Size([16, 160]) torch.Size([16, 160]) torch.Size([16])\n",
            "torch.Size([16, 160]) torch.Size([16, 160]) torch.Size([16])\n",
            "torch.Size([16, 160]) torch.Size([16, 160]) torch.Size([16])\n",
            "torch.Size([16, 160]) torch.Size([16, 160]) torch.Size([16])\n",
            "torch.Size([16, 160]) torch.Size([16, 160]) torch.Size([16])\n",
            "torch.Size([16, 160]) torch.Size([16, 160]) torch.Size([16])\n",
            "torch.Size([16, 160]) torch.Size([16, 160]) torch.Size([16])\n",
            "torch.Size([16, 160]) torch.Size([16, 160]) torch.Size([16])\n",
            "torch.Size([16, 160]) torch.Size([16, 160]) torch.Size([16])\n",
            "torch.Size([16, 160]) torch.Size([16, 160]) torch.Size([16])\n",
            "torch.Size([16, 160]) torch.Size([16, 160]) torch.Size([16])\n",
            "torch.Size([16, 160]) torch.Size([16, 160]) torch.Size([16])\n",
            "torch.Size([16, 160]) torch.Size([16, 160]) torch.Size([16])\n",
            "torch.Size([16, 160]) torch.Size([16, 160]) torch.Size([16])\n",
            "torch.Size([16, 160]) torch.Size([16, 160]) torch.Size([16])\n",
            "torch.Size([16, 160]) torch.Size([16, 160]) torch.Size([16])\n",
            "torch.Size([16, 160]) torch.Size([16, 160]) torch.Size([16])\n",
            "torch.Size([16, 160]) torch.Size([16, 160]) torch.Size([16])\n",
            "torch.Size([16, 160]) torch.Size([16, 160]) torch.Size([16])\n",
            "torch.Size([16, 160]) torch.Size([16, 160]) torch.Size([16])\n",
            "torch.Size([16, 160]) torch.Size([16, 160]) torch.Size([16])\n",
            "torch.Size([16, 160]) torch.Size([16, 160]) torch.Size([16])\n",
            "torch.Size([16, 160]) torch.Size([16, 160]) torch.Size([16])\n",
            "torch.Size([16, 160]) torch.Size([16, 160]) torch.Size([16])\n",
            "torch.Size([16, 160]) torch.Size([16, 160]) torch.Size([16])\n",
            "torch.Size([16, 160]) torch.Size([16, 160]) torch.Size([16])\n",
            "torch.Size([16, 160]) torch.Size([16, 160]) torch.Size([16])\n",
            "torch.Size([16, 160]) torch.Size([16, 160]) torch.Size([16])\n",
            "torch.Size([16, 160]) torch.Size([16, 160]) torch.Size([16])\n",
            "torch.Size([16, 160]) torch.Size([16, 160]) torch.Size([16])\n",
            "torch.Size([16, 160]) torch.Size([16, 160]) torch.Size([16])\n",
            "torch.Size([16, 160]) torch.Size([16, 160]) torch.Size([16])\n",
            "torch.Size([16, 160]) torch.Size([16, 160]) torch.Size([16])\n",
            "torch.Size([16, 160]) torch.Size([16, 160]) torch.Size([16])\n",
            "torch.Size([16, 160]) torch.Size([16, 160]) torch.Size([16])\n",
            "torch.Size([16, 160]) torch.Size([16, 160]) torch.Size([16])\n",
            "torch.Size([16, 160]) torch.Size([16, 160]) torch.Size([16])\n",
            "torch.Size([16, 160]) torch.Size([16, 160]) torch.Size([16])\n",
            "torch.Size([16, 160]) torch.Size([16, 160]) torch.Size([16])\n",
            "torch.Size([16, 160]) torch.Size([16, 160]) torch.Size([16])\n",
            "torch.Size([16, 160]) torch.Size([16, 160]) torch.Size([16])\n",
            "torch.Size([16, 160]) torch.Size([16, 160]) torch.Size([16])\n",
            "torch.Size([16, 160]) torch.Size([16, 160]) torch.Size([16])\n",
            "torch.Size([16, 160]) torch.Size([16, 160]) torch.Size([16])\n",
            "torch.Size([16, 160]) torch.Size([16, 160]) torch.Size([16])\n",
            "torch.Size([16, 160]) torch.Size([16, 160]) torch.Size([16])\n",
            "torch.Size([16, 160]) torch.Size([16, 160]) torch.Size([16])\n",
            "torch.Size([16, 160]) torch.Size([16, 160]) torch.Size([16])\n",
            "torch.Size([16, 160]) torch.Size([16, 160]) torch.Size([16])\n",
            "torch.Size([16, 160]) torch.Size([16, 160]) torch.Size([16])\n",
            "torch.Size([16, 160]) torch.Size([16, 160]) torch.Size([16])\n",
            "torch.Size([16, 160]) torch.Size([16, 160]) torch.Size([16])\n",
            "torch.Size([16, 160]) torch.Size([16, 160]) torch.Size([16])\n",
            "torch.Size([16, 160]) torch.Size([16, 160]) torch.Size([16])\n",
            "torch.Size([16, 160]) torch.Size([16, 160]) torch.Size([16])\n",
            "torch.Size([16, 160]) torch.Size([16, 160]) torch.Size([16])\n",
            "torch.Size([16, 160]) torch.Size([16, 160]) torch.Size([16])\n",
            "torch.Size([16, 160]) torch.Size([16, 160]) torch.Size([16])\n",
            "torch.Size([16, 160]) torch.Size([16, 160]) torch.Size([16])\n",
            "torch.Size([16, 160]) torch.Size([16, 160]) torch.Size([16])\n",
            "torch.Size([16, 160]) torch.Size([16, 160]) torch.Size([16])\n",
            "torch.Size([16, 160]) torch.Size([16, 160]) torch.Size([16])\n",
            "torch.Size([16, 160]) torch.Size([16, 160]) torch.Size([16])\n",
            "torch.Size([16, 160]) torch.Size([16, 160]) torch.Size([16])\n",
            "torch.Size([16, 160]) torch.Size([16, 160]) torch.Size([16])\n",
            "torch.Size([16, 160]) torch.Size([16, 160]) torch.Size([16])\n",
            "torch.Size([16, 160]) torch.Size([16, 160]) torch.Size([16])\n",
            "torch.Size([16, 160]) torch.Size([16, 160]) torch.Size([16])\n",
            "torch.Size([16, 160]) torch.Size([16, 160]) torch.Size([16])\n",
            "torch.Size([16, 160]) torch.Size([16, 160]) torch.Size([16])\n",
            "torch.Size([16, 160]) torch.Size([16, 160]) torch.Size([16])\n",
            "torch.Size([16, 160]) torch.Size([16, 160]) torch.Size([16])\n",
            "torch.Size([16, 160]) torch.Size([16, 160]) torch.Size([16])\n",
            "torch.Size([16, 160]) torch.Size([16, 160]) torch.Size([16])\n",
            "torch.Size([16, 160]) torch.Size([16, 160]) torch.Size([16])\n",
            "torch.Size([16, 160]) torch.Size([16, 160]) torch.Size([16])\n",
            "torch.Size([16, 160]) torch.Size([16, 160]) torch.Size([16])\n",
            "torch.Size([16, 160]) torch.Size([16, 160]) torch.Size([16])\n",
            "torch.Size([16, 160]) torch.Size([16, 160]) torch.Size([16])\n",
            "torch.Size([16, 160]) torch.Size([16, 160]) torch.Size([16])\n",
            "torch.Size([16, 160]) torch.Size([16, 160]) torch.Size([16])\n",
            "torch.Size([16, 160]) torch.Size([16, 160]) torch.Size([16])\n",
            "torch.Size([16, 160]) torch.Size([16, 160]) torch.Size([16])\n",
            "torch.Size([16, 160]) torch.Size([16, 160]) torch.Size([16])\n",
            "torch.Size([16, 160]) torch.Size([16, 160]) torch.Size([16])\n",
            "torch.Size([16, 160]) torch.Size([16, 160]) torch.Size([16])\n",
            "torch.Size([16, 160]) torch.Size([16, 160]) torch.Size([16])\n",
            "torch.Size([16, 160]) torch.Size([16, 160]) torch.Size([16])\n",
            "torch.Size([16, 160]) torch.Size([16, 160]) torch.Size([16])\n",
            "torch.Size([16, 160]) torch.Size([16, 160]) torch.Size([16])\n",
            "torch.Size([16, 160]) torch.Size([16, 160]) torch.Size([16])\n",
            "torch.Size([16, 160]) torch.Size([16, 160]) torch.Size([16])\n",
            "torch.Size([16, 160]) torch.Size([16, 160]) torch.Size([16])\n",
            "torch.Size([16, 160]) torch.Size([16, 160]) torch.Size([16])\n",
            "torch.Size([16, 160]) torch.Size([16, 160]) torch.Size([16])\n",
            "torch.Size([16, 160]) torch.Size([16, 160]) torch.Size([16])\n",
            "torch.Size([16, 160]) torch.Size([16, 160]) torch.Size([16])\n",
            "torch.Size([16, 160]) torch.Size([16, 160]) torch.Size([16])\n",
            "torch.Size([16, 160]) torch.Size([16, 160]) torch.Size([16])\n",
            "torch.Size([16, 160]) torch.Size([16, 160]) torch.Size([16])\n",
            "torch.Size([16, 160]) torch.Size([16, 160]) torch.Size([16])\n",
            "torch.Size([16, 160]) torch.Size([16, 160]) torch.Size([16])\n",
            "torch.Size([16, 160]) torch.Size([16, 160]) torch.Size([16])\n",
            "torch.Size([16, 160]) torch.Size([16, 160]) torch.Size([16])\n",
            "torch.Size([16, 160]) torch.Size([16, 160]) torch.Size([16])\n",
            "torch.Size([16, 160]) torch.Size([16, 160]) torch.Size([16])\n",
            "torch.Size([16, 160]) torch.Size([16, 160]) torch.Size([16])\n",
            "torch.Size([16, 160]) torch.Size([16, 160]) torch.Size([16])\n",
            "torch.Size([16, 160]) torch.Size([16, 160]) torch.Size([16])\n",
            "torch.Size([16, 160]) torch.Size([16, 160]) torch.Size([16])\n",
            "torch.Size([16, 160]) torch.Size([16, 160]) torch.Size([16])\n",
            "torch.Size([16, 160]) torch.Size([16, 160]) torch.Size([16])\n",
            "torch.Size([16, 160]) torch.Size([16, 160]) torch.Size([16])\n",
            "torch.Size([16, 160]) torch.Size([16, 160]) torch.Size([16])\n",
            "torch.Size([16, 160]) torch.Size([16, 160]) torch.Size([16])\n",
            "torch.Size([16, 160]) torch.Size([16, 160]) torch.Size([16])\n",
            "torch.Size([16, 160]) torch.Size([16, 160]) torch.Size([16])\n",
            "torch.Size([16, 160]) torch.Size([16, 160]) torch.Size([16])\n",
            "torch.Size([16, 160]) torch.Size([16, 160]) torch.Size([16])\n",
            "torch.Size([16, 160]) torch.Size([16, 160]) torch.Size([16])\n",
            "torch.Size([16, 160]) torch.Size([16, 160]) torch.Size([16])\n",
            "torch.Size([16, 160]) torch.Size([16, 160]) torch.Size([16])\n",
            "torch.Size([16, 160]) torch.Size([16, 160]) torch.Size([16])\n",
            "torch.Size([16, 160]) torch.Size([16, 160]) torch.Size([16])\n",
            "torch.Size([16, 160]) torch.Size([16, 160]) torch.Size([16])\n",
            "torch.Size([16, 160]) torch.Size([16, 160]) torch.Size([16])\n",
            "torch.Size([16, 160]) torch.Size([16, 160]) torch.Size([16])\n",
            "torch.Size([16, 160]) torch.Size([16, 160]) torch.Size([16])\n",
            "torch.Size([16, 160]) torch.Size([16, 160]) torch.Size([16])\n",
            "torch.Size([16, 160]) torch.Size([16, 160]) torch.Size([16])\n",
            "torch.Size([16, 160]) torch.Size([16, 160]) torch.Size([16])\n",
            "torch.Size([16, 160]) torch.Size([16, 160]) torch.Size([16])\n",
            "torch.Size([16, 160]) torch.Size([16, 160]) torch.Size([16])\n",
            "torch.Size([16, 160]) torch.Size([16, 160]) torch.Size([16])\n",
            "torch.Size([16, 160]) torch.Size([16, 160]) torch.Size([16])\n",
            "torch.Size([16, 160]) torch.Size([16, 160]) torch.Size([16])\n",
            "torch.Size([16, 160]) torch.Size([16, 160]) torch.Size([16])\n",
            "torch.Size([16, 160]) torch.Size([16, 160]) torch.Size([16])\n",
            "torch.Size([16, 160]) torch.Size([16, 160]) torch.Size([16])\n",
            "torch.Size([16, 160]) torch.Size([16, 160]) torch.Size([16])\n",
            "torch.Size([16, 160]) torch.Size([16, 160]) torch.Size([16])\n",
            "torch.Size([16, 160]) torch.Size([16, 160]) torch.Size([16])\n",
            "torch.Size([16, 160]) torch.Size([16, 160]) torch.Size([16])\n",
            "torch.Size([16, 160]) torch.Size([16, 160]) torch.Size([16])\n",
            "torch.Size([16, 160]) torch.Size([16, 160]) torch.Size([16])\n",
            "torch.Size([16, 160]) torch.Size([16, 160]) torch.Size([16])\n",
            "torch.Size([16, 160]) torch.Size([16, 160]) torch.Size([16])\n",
            "torch.Size([16, 160]) torch.Size([16, 160]) torch.Size([16])\n",
            "torch.Size([16, 160]) torch.Size([16, 160]) torch.Size([16])\n",
            "torch.Size([16, 160]) torch.Size([16, 160]) torch.Size([16])\n",
            "torch.Size([16, 160]) torch.Size([16, 160]) torch.Size([16])\n",
            "torch.Size([16, 160]) torch.Size([16, 160]) torch.Size([16])\n",
            "torch.Size([16, 160]) torch.Size([16, 160]) torch.Size([16])\n",
            "torch.Size([16, 160]) torch.Size([16, 160]) torch.Size([16])\n",
            "torch.Size([16, 160]) torch.Size([16, 160]) torch.Size([16])\n",
            "torch.Size([16, 160]) torch.Size([16, 160]) torch.Size([16])\n",
            "torch.Size([16, 160]) torch.Size([16, 160]) torch.Size([16])\n",
            "torch.Size([16, 160]) torch.Size([16, 160]) torch.Size([16])\n",
            "torch.Size([16, 160]) torch.Size([16, 160]) torch.Size([16])\n",
            "torch.Size([16, 160]) torch.Size([16, 160]) torch.Size([16])\n",
            "torch.Size([16, 160]) torch.Size([16, 160]) torch.Size([16])\n",
            "torch.Size([16, 160]) torch.Size([16, 160]) torch.Size([16])\n",
            "torch.Size([16, 160]) torch.Size([16, 160]) torch.Size([16])\n",
            "torch.Size([16, 160]) torch.Size([16, 160]) torch.Size([16])\n",
            "torch.Size([16, 160]) torch.Size([16, 160]) torch.Size([16])\n",
            "torch.Size([16, 160]) torch.Size([16, 160]) torch.Size([16])\n",
            "torch.Size([16, 160]) torch.Size([16, 160]) torch.Size([16])\n",
            "torch.Size([16, 160]) torch.Size([16, 160]) torch.Size([16])\n",
            "torch.Size([16, 160]) torch.Size([16, 160]) torch.Size([16])\n",
            "torch.Size([16, 160]) torch.Size([16, 160]) torch.Size([16])\n",
            "torch.Size([16, 160]) torch.Size([16, 160]) torch.Size([16])\n",
            "torch.Size([16, 160]) torch.Size([16, 160]) torch.Size([16])\n",
            "torch.Size([16, 160]) torch.Size([16, 160]) torch.Size([16])\n",
            "torch.Size([16, 160]) torch.Size([16, 160]) torch.Size([16])\n",
            "torch.Size([16, 160]) torch.Size([16, 160]) torch.Size([16])\n",
            "torch.Size([16, 160]) torch.Size([16, 160]) torch.Size([16])\n",
            "torch.Size([16, 160]) torch.Size([16, 160]) torch.Size([16])\n",
            "torch.Size([16, 160]) torch.Size([16, 160]) torch.Size([16])\n",
            "torch.Size([16, 160]) torch.Size([16, 160]) torch.Size([16])\n",
            "torch.Size([16, 160]) torch.Size([16, 160]) torch.Size([16])\n",
            "torch.Size([16, 160]) torch.Size([16, 160]) torch.Size([16])\n",
            "torch.Size([16, 160]) torch.Size([16, 160]) torch.Size([16])\n",
            "torch.Size([16, 160]) torch.Size([16, 160]) torch.Size([16])\n",
            "torch.Size([16, 160]) torch.Size([16, 160]) torch.Size([16])\n",
            "torch.Size([16, 160]) torch.Size([16, 160]) torch.Size([16])\n",
            "torch.Size([16, 160]) torch.Size([16, 160]) torch.Size([16])\n",
            "torch.Size([16, 160]) torch.Size([16, 160]) torch.Size([16])\n",
            "torch.Size([16, 160]) torch.Size([16, 160]) torch.Size([16])\n",
            "torch.Size([16, 160]) torch.Size([16, 160]) torch.Size([16])\n",
            "torch.Size([16, 160]) torch.Size([16, 160]) torch.Size([16])\n",
            "torch.Size([16, 160]) torch.Size([16, 160]) torch.Size([16])\n",
            "torch.Size([16, 160]) torch.Size([16, 160]) torch.Size([16])\n",
            "torch.Size([16, 160]) torch.Size([16, 160]) torch.Size([16])\n",
            "torch.Size([16, 160]) torch.Size([16, 160]) torch.Size([16])\n",
            "torch.Size([16, 160]) torch.Size([16, 160]) torch.Size([16])\n",
            "torch.Size([16, 160]) torch.Size([16, 160]) torch.Size([16])\n",
            "torch.Size([16, 160]) torch.Size([16, 160]) torch.Size([16])\n",
            "torch.Size([16, 160]) torch.Size([16, 160]) torch.Size([16])\n",
            "torch.Size([16, 160]) torch.Size([16, 160]) torch.Size([16])\n",
            "torch.Size([16, 160]) torch.Size([16, 160]) torch.Size([16])\n",
            "torch.Size([16, 160]) torch.Size([16, 160]) torch.Size([16])\n",
            "torch.Size([16, 160]) torch.Size([16, 160]) torch.Size([16])\n",
            "torch.Size([16, 160]) torch.Size([16, 160]) torch.Size([16])\n",
            "torch.Size([16, 160]) torch.Size([16, 160]) torch.Size([16])\n",
            "torch.Size([16, 160]) torch.Size([16, 160]) torch.Size([16])\n",
            "torch.Size([16, 160]) torch.Size([16, 160]) torch.Size([16])\n",
            "torch.Size([16, 160]) torch.Size([16, 160]) torch.Size([16])\n",
            "torch.Size([16, 160]) torch.Size([16, 160]) torch.Size([16])\n",
            "torch.Size([16, 160]) torch.Size([16, 160]) torch.Size([16])\n",
            "torch.Size([16, 160]) torch.Size([16, 160]) torch.Size([16])\n",
            "torch.Size([16, 160]) torch.Size([16, 160]) torch.Size([16])\n",
            "torch.Size([16, 160]) torch.Size([16, 160]) torch.Size([16])\n",
            "torch.Size([16, 160]) torch.Size([16, 160]) torch.Size([16])\n",
            "torch.Size([16, 160]) torch.Size([16, 160]) torch.Size([16])\n",
            "torch.Size([16, 160]) torch.Size([16, 160]) torch.Size([16])\n",
            "torch.Size([16, 160]) torch.Size([16, 160]) torch.Size([16])\n",
            "torch.Size([16, 160]) torch.Size([16, 160]) torch.Size([16])\n",
            "torch.Size([16, 160]) torch.Size([16, 160]) torch.Size([16])\n",
            "torch.Size([16, 160]) torch.Size([16, 160]) torch.Size([16])\n",
            "torch.Size([16, 160]) torch.Size([16, 160]) torch.Size([16])\n",
            "torch.Size([16, 160]) torch.Size([16, 160]) torch.Size([16])\n",
            "torch.Size([16, 160]) torch.Size([16, 160]) torch.Size([16])\n",
            "torch.Size([16, 160]) torch.Size([16, 160]) torch.Size([16])\n",
            "torch.Size([16, 160]) torch.Size([16, 160]) torch.Size([16])\n",
            "torch.Size([16, 160]) torch.Size([16, 160]) torch.Size([16])\n",
            "torch.Size([16, 160]) torch.Size([16, 160]) torch.Size([16])\n",
            "torch.Size([16, 160]) torch.Size([16, 160]) torch.Size([16])\n",
            "torch.Size([16, 160]) torch.Size([16, 160]) torch.Size([16])\n",
            "torch.Size([16, 160]) torch.Size([16, 160]) torch.Size([16])\n",
            "torch.Size([16, 160]) torch.Size([16, 160]) torch.Size([16])\n",
            "torch.Size([16, 160]) torch.Size([16, 160]) torch.Size([16])\n",
            "torch.Size([16, 160]) torch.Size([16, 160]) torch.Size([16])\n",
            "torch.Size([16, 160]) torch.Size([16, 160]) torch.Size([16])\n",
            "torch.Size([16, 160]) torch.Size([16, 160]) torch.Size([16])\n",
            "torch.Size([16, 160]) torch.Size([16, 160]) torch.Size([16])\n",
            "torch.Size([16, 160]) torch.Size([16, 160]) torch.Size([16])\n",
            "torch.Size([16, 160]) torch.Size([16, 160]) torch.Size([16])\n",
            "torch.Size([16, 160]) torch.Size([16, 160]) torch.Size([16])\n",
            "torch.Size([16, 160]) torch.Size([16, 160]) torch.Size([16])\n",
            "torch.Size([16, 160]) torch.Size([16, 160]) torch.Size([16])\n",
            "torch.Size([16, 160]) torch.Size([16, 160]) torch.Size([16])\n",
            "torch.Size([16, 160]) torch.Size([16, 160]) torch.Size([16])\n",
            "torch.Size([16, 160]) torch.Size([16, 160]) torch.Size([16])\n",
            "torch.Size([16, 160]) torch.Size([16, 160]) torch.Size([16])\n",
            "torch.Size([16, 160]) torch.Size([16, 160]) torch.Size([16])\n",
            "torch.Size([16, 160]) torch.Size([16, 160]) torch.Size([16])\n",
            "torch.Size([16, 160]) torch.Size([16, 160]) torch.Size([16])\n",
            "torch.Size([16, 160]) torch.Size([16, 160]) torch.Size([16])\n",
            "torch.Size([16, 160]) torch.Size([16, 160]) torch.Size([16])\n",
            "torch.Size([16, 160]) torch.Size([16, 160]) torch.Size([16])\n",
            "torch.Size([16, 160]) torch.Size([16, 160]) torch.Size([16])\n",
            "torch.Size([16, 160]) torch.Size([16, 160]) torch.Size([16])\n",
            "torch.Size([16, 160]) torch.Size([16, 160]) torch.Size([16])\n",
            "torch.Size([16, 160]) torch.Size([16, 160]) torch.Size([16])\n",
            "torch.Size([16, 160]) torch.Size([16, 160]) torch.Size([16])\n",
            "torch.Size([16, 160]) torch.Size([16, 160]) torch.Size([16])\n",
            "torch.Size([16, 160]) torch.Size([16, 160]) torch.Size([16])\n",
            "torch.Size([16, 160]) torch.Size([16, 160]) torch.Size([16])\n",
            "torch.Size([16, 160]) torch.Size([16, 160]) torch.Size([16])\n",
            "torch.Size([16, 160]) torch.Size([16, 160]) torch.Size([16])\n",
            "torch.Size([16, 160]) torch.Size([16, 160]) torch.Size([16])\n",
            "torch.Size([16, 160]) torch.Size([16, 160]) torch.Size([16])\n",
            "torch.Size([16, 160]) torch.Size([16, 160]) torch.Size([16])\n",
            "torch.Size([16, 160]) torch.Size([16, 160]) torch.Size([16])\n",
            "torch.Size([16, 160]) torch.Size([16, 160]) torch.Size([16])\n",
            "torch.Size([16, 160]) torch.Size([16, 160]) torch.Size([16])\n",
            "torch.Size([16, 160]) torch.Size([16, 160]) torch.Size([16])\n",
            "torch.Size([16, 160]) torch.Size([16, 160]) torch.Size([16])\n",
            "torch.Size([16, 160]) torch.Size([16, 160]) torch.Size([16])\n",
            "torch.Size([16, 160]) torch.Size([16, 160]) torch.Size([16])\n",
            "torch.Size([16, 160]) torch.Size([16, 160]) torch.Size([16])\n",
            "torch.Size([16, 160]) torch.Size([16, 160]) torch.Size([16])\n",
            "torch.Size([16, 160]) torch.Size([16, 160]) torch.Size([16])\n",
            "torch.Size([16, 160]) torch.Size([16, 160]) torch.Size([16])\n",
            "torch.Size([16, 160]) torch.Size([16, 160]) torch.Size([16])\n",
            "torch.Size([16, 160]) torch.Size([16, 160]) torch.Size([16])\n",
            "torch.Size([16, 160]) torch.Size([16, 160]) torch.Size([16])\n",
            "torch.Size([16, 160]) torch.Size([16, 160]) torch.Size([16])\n",
            "torch.Size([16, 160]) torch.Size([16, 160]) torch.Size([16])\n",
            "torch.Size([16, 160]) torch.Size([16, 160]) torch.Size([16])\n",
            "torch.Size([16, 160]) torch.Size([16, 160]) torch.Size([16])\n",
            "torch.Size([16, 160]) torch.Size([16, 160]) torch.Size([16])\n",
            "torch.Size([16, 160]) torch.Size([16, 160]) torch.Size([16])\n",
            "torch.Size([16, 160]) torch.Size([16, 160]) torch.Size([16])\n",
            "torch.Size([16, 160]) torch.Size([16, 160]) torch.Size([16])\n",
            "torch.Size([16, 160]) torch.Size([16, 160]) torch.Size([16])\n",
            "torch.Size([16, 160]) torch.Size([16, 160]) torch.Size([16])\n",
            "torch.Size([16, 160]) torch.Size([16, 160]) torch.Size([16])\n",
            "torch.Size([16, 160]) torch.Size([16, 160]) torch.Size([16])\n",
            "torch.Size([16, 160]) torch.Size([16, 160]) torch.Size([16])\n",
            "torch.Size([16, 160]) torch.Size([16, 160]) torch.Size([16])\n",
            "torch.Size([16, 160]) torch.Size([16, 160]) torch.Size([16])\n",
            "torch.Size([16, 160]) torch.Size([16, 160]) torch.Size([16])\n",
            "torch.Size([16, 160]) torch.Size([16, 160]) torch.Size([16])\n",
            "torch.Size([16, 160]) torch.Size([16, 160]) torch.Size([16])\n",
            "torch.Size([16, 160]) torch.Size([16, 160]) torch.Size([16])\n",
            "torch.Size([16, 160]) torch.Size([16, 160]) torch.Size([16])\n",
            "torch.Size([16, 160]) torch.Size([16, 160]) torch.Size([16])\n",
            "torch.Size([16, 160]) torch.Size([16, 160]) torch.Size([16])\n",
            "torch.Size([16, 160]) torch.Size([16, 160]) torch.Size([16])\n",
            "torch.Size([16, 160]) torch.Size([16, 160]) torch.Size([16])\n",
            "torch.Size([16, 160]) torch.Size([16, 160]) torch.Size([16])\n",
            "torch.Size([16, 160]) torch.Size([16, 160]) torch.Size([16])\n",
            "torch.Size([16, 160]) torch.Size([16, 160]) torch.Size([16])\n",
            "torch.Size([16, 160]) torch.Size([16, 160]) torch.Size([16])\n",
            "torch.Size([16, 160]) torch.Size([16, 160]) torch.Size([16])\n",
            "torch.Size([16, 160]) torch.Size([16, 160]) torch.Size([16])\n",
            "torch.Size([16, 160]) torch.Size([16, 160]) torch.Size([16])\n",
            "torch.Size([16, 160]) torch.Size([16, 160]) torch.Size([16])\n",
            "torch.Size([16, 160]) torch.Size([16, 160]) torch.Size([16])\n",
            "torch.Size([16, 160]) torch.Size([16, 160]) torch.Size([16])\n",
            "torch.Size([16, 160]) torch.Size([16, 160]) torch.Size([16])\n",
            "torch.Size([16, 160]) torch.Size([16, 160]) torch.Size([16])\n",
            "torch.Size([16, 160]) torch.Size([16, 160]) torch.Size([16])\n",
            "torch.Size([16, 160]) torch.Size([16, 160]) torch.Size([16])\n",
            "torch.Size([16, 160]) torch.Size([16, 160]) torch.Size([16])\n",
            "torch.Size([16, 160]) torch.Size([16, 160]) torch.Size([16])\n",
            "torch.Size([16, 160]) torch.Size([16, 160]) torch.Size([16])\n",
            "torch.Size([16, 160]) torch.Size([16, 160]) torch.Size([16])\n",
            "torch.Size([16, 160]) torch.Size([16, 160]) torch.Size([16])\n",
            "torch.Size([16, 160]) torch.Size([16, 160]) torch.Size([16])\n",
            "torch.Size([16, 160]) torch.Size([16, 160]) torch.Size([16])\n",
            "torch.Size([16, 160]) torch.Size([16, 160]) torch.Size([16])\n",
            "torch.Size([16, 160]) torch.Size([16, 160]) torch.Size([16])\n",
            "torch.Size([16, 160]) torch.Size([16, 160]) torch.Size([16])\n",
            "torch.Size([16, 160]) torch.Size([16, 160]) torch.Size([16])\n",
            "torch.Size([16, 160]) torch.Size([16, 160]) torch.Size([16])\n",
            "torch.Size([16, 160]) torch.Size([16, 160]) torch.Size([16])\n",
            "torch.Size([16, 160]) torch.Size([16, 160]) torch.Size([16])\n",
            "torch.Size([16, 160]) torch.Size([16, 160]) torch.Size([16])\n",
            "torch.Size([16, 160]) torch.Size([16, 160]) torch.Size([16])\n",
            "torch.Size([16, 160]) torch.Size([16, 160]) torch.Size([16])\n",
            "torch.Size([16, 160]) torch.Size([16, 160]) torch.Size([16])\n",
            "torch.Size([16, 160]) torch.Size([16, 160]) torch.Size([16])\n",
            "torch.Size([16, 160]) torch.Size([16, 160]) torch.Size([16])\n",
            "torch.Size([16, 160]) torch.Size([16, 160]) torch.Size([16])\n",
            "torch.Size([16, 160]) torch.Size([16, 160]) torch.Size([16])\n",
            "torch.Size([16, 160]) torch.Size([16, 160]) torch.Size([16])\n",
            "torch.Size([16, 160]) torch.Size([16, 160]) torch.Size([16])\n",
            "torch.Size([16, 160]) torch.Size([16, 160]) torch.Size([16])\n",
            "torch.Size([16, 160]) torch.Size([16, 160]) torch.Size([16])\n",
            "torch.Size([16, 160]) torch.Size([16, 160]) torch.Size([16])\n",
            "torch.Size([16, 160]) torch.Size([16, 160]) torch.Size([16])\n",
            "torch.Size([16, 160]) torch.Size([16, 160]) torch.Size([16])\n",
            "torch.Size([16, 160]) torch.Size([16, 160]) torch.Size([16])\n",
            "torch.Size([16, 160]) torch.Size([16, 160]) torch.Size([16])\n",
            "torch.Size([16, 160]) torch.Size([16, 160]) torch.Size([16])\n",
            "torch.Size([16, 160]) torch.Size([16, 160]) torch.Size([16])\n",
            "torch.Size([16, 160]) torch.Size([16, 160]) torch.Size([16])\n",
            "torch.Size([16, 160]) torch.Size([16, 160]) torch.Size([16])\n",
            "torch.Size([16, 160]) torch.Size([16, 160]) torch.Size([16])\n",
            "torch.Size([16, 160]) torch.Size([16, 160]) torch.Size([16])\n",
            "torch.Size([16, 160]) torch.Size([16, 160]) torch.Size([16])\n",
            "torch.Size([16, 160]) torch.Size([16, 160]) torch.Size([16])\n",
            "torch.Size([16, 160]) torch.Size([16, 160]) torch.Size([16])\n",
            "torch.Size([16, 160]) torch.Size([16, 160]) torch.Size([16])\n",
            "torch.Size([16, 160]) torch.Size([16, 160]) torch.Size([16])\n",
            "torch.Size([16, 160]) torch.Size([16, 160]) torch.Size([16])\n",
            "torch.Size([16, 160]) torch.Size([16, 160]) torch.Size([16])\n",
            "torch.Size([16, 160]) torch.Size([16, 160]) torch.Size([16])\n",
            "torch.Size([16, 160]) torch.Size([16, 160]) torch.Size([16])\n",
            "torch.Size([16, 160]) torch.Size([16, 160]) torch.Size([16])\n",
            "torch.Size([16, 160]) torch.Size([16, 160]) torch.Size([16])\n",
            "torch.Size([16, 160]) torch.Size([16, 160]) torch.Size([16])\n",
            "torch.Size([16, 160]) torch.Size([16, 160]) torch.Size([16])\n",
            "torch.Size([16, 160]) torch.Size([16, 160]) torch.Size([16])\n",
            "torch.Size([16, 160]) torch.Size([16, 160]) torch.Size([16])\n",
            "torch.Size([16, 160]) torch.Size([16, 160]) torch.Size([16])\n",
            "torch.Size([16, 160]) torch.Size([16, 160]) torch.Size([16])\n",
            "torch.Size([16, 160]) torch.Size([16, 160]) torch.Size([16])\n",
            "torch.Size([16, 160]) torch.Size([16, 160]) torch.Size([16])\n",
            "torch.Size([16, 160]) torch.Size([16, 160]) torch.Size([16])\n",
            "torch.Size([16, 160]) torch.Size([16, 160]) torch.Size([16])\n",
            "torch.Size([16, 160]) torch.Size([16, 160]) torch.Size([16])\n",
            "torch.Size([16, 160]) torch.Size([16, 160]) torch.Size([16])\n",
            "torch.Size([16, 160]) torch.Size([16, 160]) torch.Size([16])\n",
            "torch.Size([16, 160]) torch.Size([16, 160]) torch.Size([16])\n",
            "torch.Size([16, 160]) torch.Size([16, 160]) torch.Size([16])\n",
            "torch.Size([16, 160]) torch.Size([16, 160]) torch.Size([16])\n",
            "torch.Size([16, 160]) torch.Size([16, 160]) torch.Size([16])\n",
            "torch.Size([16, 160]) torch.Size([16, 160]) torch.Size([16])\n",
            "torch.Size([16, 160]) torch.Size([16, 160]) torch.Size([16])\n",
            "torch.Size([16, 160]) torch.Size([16, 160]) torch.Size([16])\n",
            "torch.Size([16, 160]) torch.Size([16, 160]) torch.Size([16])\n",
            "torch.Size([16, 160]) torch.Size([16, 160]) torch.Size([16])\n",
            "torch.Size([16, 160]) torch.Size([16, 160]) torch.Size([16])\n",
            "torch.Size([16, 160]) torch.Size([16, 160]) torch.Size([16])\n",
            "torch.Size([16, 160]) torch.Size([16, 160]) torch.Size([16])\n",
            "torch.Size([16, 160]) torch.Size([16, 160]) torch.Size([16])\n",
            "torch.Size([16, 160]) torch.Size([16, 160]) torch.Size([16])\n",
            "torch.Size([16, 160]) torch.Size([16, 160]) torch.Size([16])\n",
            "torch.Size([16, 160]) torch.Size([16, 160]) torch.Size([16])\n",
            "torch.Size([16, 160]) torch.Size([16, 160]) torch.Size([16])\n",
            "torch.Size([16, 160]) torch.Size([16, 160]) torch.Size([16])\n",
            "torch.Size([16, 160]) torch.Size([16, 160]) torch.Size([16])\n",
            "torch.Size([16, 160]) torch.Size([16, 160]) torch.Size([16])\n",
            "torch.Size([16, 160]) torch.Size([16, 160]) torch.Size([16])\n",
            "torch.Size([16, 160]) torch.Size([16, 160]) torch.Size([16])\n",
            "torch.Size([16, 160]) torch.Size([16, 160]) torch.Size([16])\n",
            "torch.Size([16, 160]) torch.Size([16, 160]) torch.Size([16])\n",
            "torch.Size([16, 160]) torch.Size([16, 160]) torch.Size([16])\n",
            "torch.Size([16, 160]) torch.Size([16, 160]) torch.Size([16])\n",
            "torch.Size([16, 160]) torch.Size([16, 160]) torch.Size([16])\n",
            "torch.Size([16, 160]) torch.Size([16, 160]) torch.Size([16])\n",
            "torch.Size([16, 160]) torch.Size([16, 160]) torch.Size([16])\n",
            "torch.Size([16, 160]) torch.Size([16, 160]) torch.Size([16])\n",
            "torch.Size([16, 160]) torch.Size([16, 160]) torch.Size([16])\n",
            "torch.Size([16, 160]) torch.Size([16, 160]) torch.Size([16])\n",
            "torch.Size([16, 160]) torch.Size([16, 160]) torch.Size([16])\n",
            "torch.Size([16, 160]) torch.Size([16, 160]) torch.Size([16])\n",
            "torch.Size([16, 160]) torch.Size([16, 160]) torch.Size([16])\n",
            "torch.Size([16, 160]) torch.Size([16, 160]) torch.Size([16])\n",
            "torch.Size([16, 160]) torch.Size([16, 160]) torch.Size([16])\n",
            "torch.Size([16, 160]) torch.Size([16, 160]) torch.Size([16])\n",
            "torch.Size([16, 160]) torch.Size([16, 160]) torch.Size([16])\n",
            "torch.Size([16, 160]) torch.Size([16, 160]) torch.Size([16])\n",
            "torch.Size([16, 160]) torch.Size([16, 160]) torch.Size([16])\n",
            "torch.Size([16, 160]) torch.Size([16, 160]) torch.Size([16])\n",
            "torch.Size([16, 160]) torch.Size([16, 160]) torch.Size([16])\n",
            "torch.Size([16, 160]) torch.Size([16, 160]) torch.Size([16])\n",
            "torch.Size([16, 160]) torch.Size([16, 160]) torch.Size([16])\n",
            "torch.Size([16, 160]) torch.Size([16, 160]) torch.Size([16])\n",
            "torch.Size([16, 160]) torch.Size([16, 160]) torch.Size([16])\n",
            "torch.Size([16, 160]) torch.Size([16, 160]) torch.Size([16])\n",
            "torch.Size([16, 160]) torch.Size([16, 160]) torch.Size([16])\n",
            "torch.Size([16, 160]) torch.Size([16, 160]) torch.Size([16])\n",
            "torch.Size([16, 160]) torch.Size([16, 160]) torch.Size([16])\n",
            "torch.Size([16, 160]) torch.Size([16, 160]) torch.Size([16])\n",
            "torch.Size([16, 160]) torch.Size([16, 160]) torch.Size([16])\n",
            "torch.Size([16, 160]) torch.Size([16, 160]) torch.Size([16])\n",
            "torch.Size([16, 160]) torch.Size([16, 160]) torch.Size([16])\n",
            "torch.Size([16, 160]) torch.Size([16, 160]) torch.Size([16])\n",
            "torch.Size([16, 160]) torch.Size([16, 160]) torch.Size([16])\n",
            "torch.Size([16, 160]) torch.Size([16, 160]) torch.Size([16])\n",
            "torch.Size([16, 160]) torch.Size([16, 160]) torch.Size([16])\n",
            "torch.Size([16, 160]) torch.Size([16, 160]) torch.Size([16])\n",
            "torch.Size([16, 160]) torch.Size([16, 160]) torch.Size([16])\n",
            "torch.Size([16, 160]) torch.Size([16, 160]) torch.Size([16])\n",
            "torch.Size([16, 160]) torch.Size([16, 160]) torch.Size([16])\n",
            "torch.Size([16, 160]) torch.Size([16, 160]) torch.Size([16])\n",
            "torch.Size([16, 160]) torch.Size([16, 160]) torch.Size([16])\n",
            "torch.Size([16, 160]) torch.Size([16, 160]) torch.Size([16])\n",
            "torch.Size([16, 160]) torch.Size([16, 160]) torch.Size([16])\n",
            "torch.Size([16, 160]) torch.Size([16, 160]) torch.Size([16])\n",
            "torch.Size([16, 160]) torch.Size([16, 160]) torch.Size([16])\n",
            "torch.Size([16, 160]) torch.Size([16, 160]) torch.Size([16])\n",
            "torch.Size([16, 160]) torch.Size([16, 160]) torch.Size([16])\n",
            "torch.Size([16, 160]) torch.Size([16, 160]) torch.Size([16])\n",
            "torch.Size([16, 160]) torch.Size([16, 160]) torch.Size([16])\n",
            "torch.Size([16, 160]) torch.Size([16, 160]) torch.Size([16])\n",
            "torch.Size([16, 160]) torch.Size([16, 160]) torch.Size([16])\n",
            "torch.Size([16, 160]) torch.Size([16, 160]) torch.Size([16])\n",
            "torch.Size([16, 160]) torch.Size([16, 160]) torch.Size([16])\n",
            "torch.Size([16, 160]) torch.Size([16, 160]) torch.Size([16])\n",
            "torch.Size([16, 160]) torch.Size([16, 160]) torch.Size([16])\n",
            "torch.Size([16, 160]) torch.Size([16, 160]) torch.Size([16])\n",
            "torch.Size([16, 160]) torch.Size([16, 160]) torch.Size([16])\n",
            "torch.Size([16, 160]) torch.Size([16, 160]) torch.Size([16])\n",
            "torch.Size([16, 160]) torch.Size([16, 160]) torch.Size([16])\n",
            "torch.Size([16, 160]) torch.Size([16, 160]) torch.Size([16])\n",
            "torch.Size([16, 160]) torch.Size([16, 160]) torch.Size([16])\n",
            "torch.Size([16, 160]) torch.Size([16, 160]) torch.Size([16])\n",
            "torch.Size([16, 160]) torch.Size([16, 160]) torch.Size([16])\n",
            "torch.Size([16, 160]) torch.Size([16, 160]) torch.Size([16])\n",
            "torch.Size([16, 160]) torch.Size([16, 160]) torch.Size([16])\n",
            "torch.Size([16, 160]) torch.Size([16, 160]) torch.Size([16])\n",
            "torch.Size([16, 160]) torch.Size([16, 160]) torch.Size([16])\n",
            "torch.Size([16, 160]) torch.Size([16, 160]) torch.Size([16])\n",
            "torch.Size([16, 160]) torch.Size([16, 160]) torch.Size([16])\n",
            "torch.Size([16, 160]) torch.Size([16, 160]) torch.Size([16])\n",
            "torch.Size([16, 160]) torch.Size([16, 160]) torch.Size([16])\n",
            "torch.Size([16, 160]) torch.Size([16, 160]) torch.Size([16])\n",
            "torch.Size([16, 160]) torch.Size([16, 160]) torch.Size([16])\n",
            "torch.Size([16, 160]) torch.Size([16, 160]) torch.Size([16])\n",
            "torch.Size([16, 160]) torch.Size([16, 160]) torch.Size([16])\n",
            "torch.Size([16, 160]) torch.Size([16, 160]) torch.Size([16])\n",
            "torch.Size([16, 160]) torch.Size([16, 160]) torch.Size([16])\n",
            "torch.Size([16, 160]) torch.Size([16, 160]) torch.Size([16])\n",
            "torch.Size([16, 160]) torch.Size([16, 160]) torch.Size([16])\n",
            "torch.Size([16, 160]) torch.Size([16, 160]) torch.Size([16])\n",
            "torch.Size([16, 160]) torch.Size([16, 160]) torch.Size([16])\n",
            "torch.Size([16, 160]) torch.Size([16, 160]) torch.Size([16])\n",
            "torch.Size([16, 160]) torch.Size([16, 160]) torch.Size([16])\n",
            "torch.Size([16, 160]) torch.Size([16, 160]) torch.Size([16])\n",
            "torch.Size([16, 160]) torch.Size([16, 160]) torch.Size([16])\n",
            "torch.Size([16, 160]) torch.Size([16, 160]) torch.Size([16])\n",
            "torch.Size([16, 160]) torch.Size([16, 160]) torch.Size([16])\n",
            "torch.Size([16, 160]) torch.Size([16, 160]) torch.Size([16])\n",
            "torch.Size([16, 160]) torch.Size([16, 160]) torch.Size([16])\n",
            "torch.Size([16, 160]) torch.Size([16, 160]) torch.Size([16])\n",
            "torch.Size([16, 160]) torch.Size([16, 160]) torch.Size([16])\n",
            "torch.Size([16, 160]) torch.Size([16, 160]) torch.Size([16])\n",
            "torch.Size([16, 160]) torch.Size([16, 160]) torch.Size([16])\n",
            "torch.Size([16, 160]) torch.Size([16, 160]) torch.Size([16])\n",
            "torch.Size([16, 160]) torch.Size([16, 160]) torch.Size([16])\n",
            "torch.Size([16, 160]) torch.Size([16, 160]) torch.Size([16])\n",
            "torch.Size([16, 160]) torch.Size([16, 160]) torch.Size([16])\n",
            "torch.Size([16, 160]) torch.Size([16, 160]) torch.Size([16])\n",
            "torch.Size([16, 160]) torch.Size([16, 160]) torch.Size([16])\n",
            "torch.Size([16, 160]) torch.Size([16, 160]) torch.Size([16])\n",
            "torch.Size([16, 160]) torch.Size([16, 160]) torch.Size([16])\n",
            "torch.Size([16, 160]) torch.Size([16, 160]) torch.Size([16])\n",
            "torch.Size([16, 160]) torch.Size([16, 160]) torch.Size([16])\n",
            "torch.Size([16, 160]) torch.Size([16, 160]) torch.Size([16])\n",
            "torch.Size([16, 160]) torch.Size([16, 160]) torch.Size([16])\n",
            "torch.Size([16, 160]) torch.Size([16, 160]) torch.Size([16])\n",
            "torch.Size([16, 160]) torch.Size([16, 160]) torch.Size([16])\n",
            "torch.Size([16, 160]) torch.Size([16, 160]) torch.Size([16])\n",
            "torch.Size([16, 160]) torch.Size([16, 160]) torch.Size([16])\n",
            "torch.Size([16, 160]) torch.Size([16, 160]) torch.Size([16])\n",
            "torch.Size([16, 160]) torch.Size([16, 160]) torch.Size([16])\n",
            "torch.Size([16, 160]) torch.Size([16, 160]) torch.Size([16])\n",
            "torch.Size([16, 160]) torch.Size([16, 160]) torch.Size([16])\n",
            "torch.Size([16, 160]) torch.Size([16, 160]) torch.Size([16])\n",
            "torch.Size([16, 160]) torch.Size([16, 160]) torch.Size([16])\n",
            "torch.Size([16, 160]) torch.Size([16, 160]) torch.Size([16])\n",
            "torch.Size([16, 160]) torch.Size([16, 160]) torch.Size([16])\n",
            "torch.Size([16, 160]) torch.Size([16, 160]) torch.Size([16])\n",
            "torch.Size([16, 160]) torch.Size([16, 160]) torch.Size([16])\n",
            "torch.Size([16, 160]) torch.Size([16, 160]) torch.Size([16])\n",
            "torch.Size([16, 160]) torch.Size([16, 160]) torch.Size([16])\n",
            "torch.Size([16, 160]) torch.Size([16, 160]) torch.Size([16])\n",
            "torch.Size([16, 160]) torch.Size([16, 160]) torch.Size([16])\n",
            "torch.Size([16, 160]) torch.Size([16, 160]) torch.Size([16])\n",
            "torch.Size([16, 160]) torch.Size([16, 160]) torch.Size([16])\n",
            "torch.Size([16, 160]) torch.Size([16, 160]) torch.Size([16])\n",
            "torch.Size([16, 160]) torch.Size([16, 160]) torch.Size([16])\n",
            "torch.Size([16, 160]) torch.Size([16, 160]) torch.Size([16])\n",
            "torch.Size([16, 160]) torch.Size([16, 160]) torch.Size([16])\n",
            "torch.Size([16, 160]) torch.Size([16, 160]) torch.Size([16])\n",
            "torch.Size([16, 160]) torch.Size([16, 160]) torch.Size([16])\n",
            "torch.Size([16, 160]) torch.Size([16, 160]) torch.Size([16])\n",
            "torch.Size([16, 160]) torch.Size([16, 160]) torch.Size([16])\n",
            "torch.Size([16, 160]) torch.Size([16, 160]) torch.Size([16])\n",
            "torch.Size([16, 160]) torch.Size([16, 160]) torch.Size([16])\n",
            "torch.Size([16, 160]) torch.Size([16, 160]) torch.Size([16])\n",
            "torch.Size([16, 160]) torch.Size([16, 160]) torch.Size([16])\n",
            "torch.Size([16, 160]) torch.Size([16, 160]) torch.Size([16])\n",
            "torch.Size([16, 160]) torch.Size([16, 160]) torch.Size([16])\n",
            "torch.Size([16, 160]) torch.Size([16, 160]) torch.Size([16])\n",
            "torch.Size([16, 160]) torch.Size([16, 160]) torch.Size([16])\n",
            "torch.Size([16, 160]) torch.Size([16, 160]) torch.Size([16])\n",
            "torch.Size([16, 160]) torch.Size([16, 160]) torch.Size([16])\n",
            "torch.Size([16, 160]) torch.Size([16, 160]) torch.Size([16])\n",
            "torch.Size([16, 160]) torch.Size([16, 160]) torch.Size([16])\n",
            "torch.Size([16, 160]) torch.Size([16, 160]) torch.Size([16])\n",
            "torch.Size([16, 160]) torch.Size([16, 160]) torch.Size([16])\n",
            "torch.Size([16, 160]) torch.Size([16, 160]) torch.Size([16])\n",
            "torch.Size([16, 160]) torch.Size([16, 160]) torch.Size([16])\n",
            "torch.Size([16, 160]) torch.Size([16, 160]) torch.Size([16])\n",
            "torch.Size([16, 160]) torch.Size([16, 160]) torch.Size([16])\n",
            "torch.Size([16, 160]) torch.Size([16, 160]) torch.Size([16])\n",
            "torch.Size([16, 160]) torch.Size([16, 160]) torch.Size([16])\n",
            "torch.Size([16, 160]) torch.Size([16, 160]) torch.Size([16])\n",
            "torch.Size([16, 160]) torch.Size([16, 160]) torch.Size([16])\n",
            "torch.Size([16, 160]) torch.Size([16, 160]) torch.Size([16])\n",
            "torch.Size([16, 160]) torch.Size([16, 160]) torch.Size([16])\n",
            "torch.Size([16, 160]) torch.Size([16, 160]) torch.Size([16])\n",
            "torch.Size([16, 160]) torch.Size([16, 160]) torch.Size([16])\n",
            "torch.Size([16, 160]) torch.Size([16, 160]) torch.Size([16])\n",
            "torch.Size([16, 160]) torch.Size([16, 160]) torch.Size([16])\n",
            "torch.Size([16, 160]) torch.Size([16, 160]) torch.Size([16])\n",
            "torch.Size([16, 160]) torch.Size([16, 160]) torch.Size([16])\n",
            "torch.Size([16, 160]) torch.Size([16, 160]) torch.Size([16])\n",
            "torch.Size([16, 160]) torch.Size([16, 160]) torch.Size([16])\n",
            "torch.Size([16, 160]) torch.Size([16, 160]) torch.Size([16])\n",
            "torch.Size([16, 160]) torch.Size([16, 160]) torch.Size([16])\n",
            "torch.Size([16, 160]) torch.Size([16, 160]) torch.Size([16])\n",
            "torch.Size([16, 160]) torch.Size([16, 160]) torch.Size([16])\n",
            "torch.Size([16, 160]) torch.Size([16, 160]) torch.Size([16])\n",
            "torch.Size([16, 160]) torch.Size([16, 160]) torch.Size([16])\n",
            "torch.Size([16, 160]) torch.Size([16, 160]) torch.Size([16])\n",
            "torch.Size([16, 160]) torch.Size([16, 160]) torch.Size([16])\n",
            "torch.Size([16, 160]) torch.Size([16, 160]) torch.Size([16])\n",
            "torch.Size([16, 160]) torch.Size([16, 160]) torch.Size([16])\n",
            "torch.Size([16, 160]) torch.Size([16, 160]) torch.Size([16])\n",
            "torch.Size([16, 160]) torch.Size([16, 160]) torch.Size([16])\n",
            "torch.Size([16, 160]) torch.Size([16, 160]) torch.Size([16])\n",
            "torch.Size([16, 160]) torch.Size([16, 160]) torch.Size([16])\n",
            "torch.Size([16, 160]) torch.Size([16, 160]) torch.Size([16])\n",
            "torch.Size([16, 160]) torch.Size([16, 160]) torch.Size([16])\n",
            "torch.Size([16, 160]) torch.Size([16, 160]) torch.Size([16])\n",
            "torch.Size([16, 160]) torch.Size([16, 160]) torch.Size([16])\n",
            "torch.Size([16, 160]) torch.Size([16, 160]) torch.Size([16])\n",
            "torch.Size([16, 160]) torch.Size([16, 160]) torch.Size([16])\n",
            "torch.Size([16, 160]) torch.Size([16, 160]) torch.Size([16])\n",
            "torch.Size([16, 160]) torch.Size([16, 160]) torch.Size([16])\n",
            "torch.Size([16, 160]) torch.Size([16, 160]) torch.Size([16])\n",
            "torch.Size([4, 160]) torch.Size([4, 160]) torch.Size([4])\n"
          ],
          "name": "stdout"
        }
      ]
    },
    {
      "cell_type": "code",
      "metadata": {
        "id": "FZHxZaMGOruZ"
      },
      "source": [
        "#checking that our model is working or not\n",
        "#input_ids_checking=data_checking['input_ids'].to(device)\n",
        "#attention_mask_checking=data_checking['attention_mask'].to(device)\n",
        "#print(input_ids_checking.shape)\n",
        "#print(attention_mask_checking.shape) "
      ],
      "execution_count": null,
      "outputs": []
    },
    {
      "cell_type": "code",
      "metadata": {
        "id": "qtbxPvEmPWim"
      },
      "source": [
        "#model_checking(input_ids_checking,attention_mask_checking) #so here we get 3 output for the batch of 16 #3 classes neutral,negative,positive "
      ],
      "execution_count": null,
      "outputs": []
    },
    {
      "cell_type": "code",
      "metadata": {
        "id": "JXlIk5NTPcT0"
      },
      "source": [
        "#Training \n",
        "#creatig optimizer\n",
        "\n",
        "#creating main model for training\n",
        "model=SentimentClassifier(len(class_names)).to(device)\n"
      ],
      "execution_count": null,
      "outputs": []
    },
    {
      "cell_type": "code",
      "metadata": {
        "id": "9I7d2MdaKUlB"
      },
      "source": [
        "from transformers import  AdamW\n",
        "optimizer=AdamW(model.parameters(),lr=2e-5,correct_bias=False)\n",
        "\n",
        "#creating scheduler\n",
        "total_steps=len(train_data_loader) * EPOCHS\n",
        "scheduler=get_linear_schedule_with_warmup(\n",
        "    optimizer,\n",
        "    num_warmup_steps=0,\n",
        "    num_training_steps=total_steps\n",
        ")\n",
        "\n",
        "#creating loss function\n",
        "loss_fn=nn.CrossEntropyLoss().to(device)"
      ],
      "execution_count": null,
      "outputs": []
    },
    {
      "cell_type": "code",
      "metadata": {
        "id": "AfXRSudfaOyY",
        "colab": {
          "base_uri": "https://localhost:8080/"
        },
        "outputId": "bf1b1156-ef85-4d84-afb8-f24736c7edf3"
      },
      "source": [
        "i=torch.tensor([[0.1,0.1,0.8]])\n",
        "o=torch.tensor([2])\n",
        "print(i,o)\n",
        "loss_fn(i,o)"
      ],
      "execution_count": null,
      "outputs": [
        {
          "output_type": "stream",
          "text": [
            "tensor([[0.1000, 0.1000, 0.8000]]) tensor([2])\n"
          ],
          "name": "stdout"
        },
        {
          "output_type": "execute_result",
          "data": {
            "text/plain": [
              "tensor(0.6897)"
            ]
          },
          "metadata": {
            "tags": []
          },
          "execution_count": 38
        }
      ]
    },
    {
      "cell_type": "code",
      "metadata": {
        "id": "eHx2jdTHUG-t"
      },
      "source": [
        "def train_epoch(model,\n",
        "    data_loader,\n",
        "    loss_fn,\n",
        "    optimizer,\n",
        "    device,\n",
        "    scheduler,\n",
        "    n_examples):\n",
        "  \n",
        "  #print(n_examples)\n",
        "  #print(device)\n",
        "  model.train()\n",
        "  \n",
        "  #print(id(model))\n",
        "\n",
        "  losses=[]\n",
        "  correct_predictions=0\n",
        "\n",
        "  for d in data_loader:\n",
        "    #print(d['input_ids'],d['attention_mask'],d['targets'])\n",
        "    \n",
        "    #print(d['input_ids'].shape,d['attention_mask'].shape,d['targets'].shape)\n",
        "    input_ids=d['input_ids'].to(device)\n",
        "\n",
        "    attention_mask=d['attention_mask'].to(device)\n",
        "    targets=d['targets'].to(device)\n",
        "\n",
        "    #print(input_ids,attention_mask,targets)\n",
        "    #print(input_ids.shape,attention_mask.shape,targets.shape)\n",
        "\n",
        "    outputs=model(input_ids=input_ids,attention_mask=attention_mask)\n",
        "    #print('output shape',outputs.shape)\n",
        "\n",
        "    _,preds=torch.max(outputs,dim=1) #this function return tuple of (values,index_of_max_value) in this case we are using index\n",
        "    #print(outputs,targets)\n",
        "    #print(preds.shape,targets.shape)\n",
        "    loss=loss_fn(outputs,targets)\n",
        "    #print('the loss is',loss)\n",
        "    correct_predictions+=torch.sum(preds==targets)\n",
        "    losses.append(loss.item())\n",
        "\n",
        "    loss.backward()\n",
        "\n",
        "    #doing some gradient clipping to avoid the exploding gradient issue\n",
        "    nn.utils.clip_grad_norm_(model.parameters(),max_norm=1.0)\n",
        "\n",
        "    optimizer.step()\n",
        "    scheduler.step()\n",
        "    optimizer.zero_grad()\n",
        "  return correct_predictions.double()/n_examples,np.mean(losses)\n",
        "\n"
      ],
      "execution_count": null,
      "outputs": []
    },
    {
      "cell_type": "code",
      "metadata": {
        "id": "aP-UUOHfdwkl"
      },
      "source": [
        "def eval_model(model,data_loader,loss_fn,device,n_examples):\n",
        "  \n",
        "  model.eval()\n",
        "  print(id(model))\n",
        "\n",
        "  losses=[]\n",
        "  correct_predictions=0\n",
        "  with torch.no_grad():\n",
        "      for d in data_loader:\n",
        "        input_ids=d['input_ids'].to(device)\n",
        "        attention_mask=d['attention_mask'].to(device)\n",
        "        targets=d['targets'].to(device)\n",
        "\n",
        "        outputs=model(input_ids=input_ids,attention_mask=attention_mask)\n",
        "\n",
        "        _,preds=torch.max(outputs,dim=1) #this function return tuple of (values,index_of_max_value) in this case we are using index\n",
        "        \n",
        "        loss=loss_fn(outputs,targets)\n",
        "        correct_predictions+=torch.sum(preds==targets)\n",
        "        losses.append(loss.item())\n",
        "\n",
        "  return correct_predictions.double()/n_examples,np.mean(losses)      \n"
      ],
      "execution_count": null,
      "outputs": []
    },
    {
      "cell_type": "code",
      "metadata": {
        "id": "3E3ANUcjAu_U",
        "colab": {
          "base_uri": "https://localhost:8080/"
        },
        "outputId": "c7c2fa27-66c7-489a-b41c-aa6a2c0e59dd"
      },
      "source": [
        "len(df_train)"
      ],
      "execution_count": null,
      "outputs": [
        {
          "output_type": "execute_result",
          "data": {
            "text/plain": [
              "12596"
            ]
          },
          "metadata": {
            "tags": []
          },
          "execution_count": 41
        }
      ]
    },
    {
      "cell_type": "code",
      "metadata": {
        "id": "qHzz6nM2K2dv",
        "colab": {
          "base_uri": "https://localhost:8080/"
        },
        "outputId": "074cb083-82bf-4ea3-85fc-73bc0c4cf996"
      },
      "source": [
        "print(id(model))\n",
        "print(loss_fn)\n",
        "print(optimizer)\n",
        "print(scheduler)"
      ],
      "execution_count": null,
      "outputs": [
        {
          "output_type": "stream",
          "text": [
            "140652116545888\n",
            "CrossEntropyLoss()\n",
            "AdamW (\n",
            "Parameter Group 0\n",
            "    betas: (0.9, 0.999)\n",
            "    correct_bias: False\n",
            "    eps: 1e-06\n",
            "    initial_lr: 2e-05\n",
            "    lr: 2e-05\n",
            "    weight_decay: 0.0\n",
            ")\n",
            "<torch.optim.lr_scheduler.LambdaLR object at 0x7fec19f16ef0>\n"
          ],
          "name": "stdout"
        }
      ]
    },
    {
      "cell_type": "code",
      "metadata": {
        "id": "HyLZnsAOkKqL",
        "colab": {
          "base_uri": "https://localhost:8080/"
        },
        "outputId": "87e53716-0b20-48a4-ea4f-42e4f2987815"
      },
      "source": [
        "#%%time\n",
        "history = defaultdict(list)\n",
        "best_accuracy = 0\n",
        "\n",
        "for epoch in range(EPOCHS):\n",
        "\n",
        "  print(f'Epoch {epoch + 1}/{EPOCHS}')\n",
        "  print('-' * 10)\n",
        "\n",
        "  train_acc, train_loss = train_epoch(\n",
        "    model,\n",
        "    train_data_loader,    \n",
        "    loss_fn, \n",
        "    optimizer, \n",
        "    device, \n",
        "    scheduler, \n",
        "    len(df_train)\n",
        "  )\n",
        "\n",
        "  print(f'Train loss {train_loss} accuracy {train_acc}')\n",
        "\n",
        "  val_acc, val_loss = eval_model(\n",
        "    model,\n",
        "    val_data_loader,\n",
        "    loss_fn, \n",
        "    device, \n",
        "    len(df_val)\n",
        "  )\n",
        "\n",
        "  print(f'Val   loss {val_loss} accuracy {val_acc}')\n",
        "  print()\n",
        "\n",
        "  history['train_acc'].append(train_acc)\n",
        "  history['train_loss'].append(train_loss)\n",
        "  history['val_acc'].append(val_acc)\n",
        "  history['val_loss'].append(val_loss)\n",
        "\n",
        "  if val_acc > best_accuracy:\n",
        "    torch.save(model.state_dict(), '/content/drive/My Drive/Colab Notebooks/SentimentClassifier/SentimentClassifier.pth')\n",
        "    best_accuracy = val_acc\n",
        "\n"
      ],
      "execution_count": null,
      "outputs": [
        {
          "output_type": "stream",
          "text": [
            "Epoch 1/20\n",
            "----------\n"
          ],
          "name": "stdout"
        },
        {
          "output_type": "stream",
          "text": [
            "/usr/local/lib/python3.6/dist-packages/transformers/tokenization_utils_base.py:1944: FutureWarning: The `pad_to_max_length` argument is deprecated and will be removed in a future version, use `padding=True` or `padding='longest'` to pad to the longest sequence in the batch, or use `padding='max_length'` to pad to a max length. In this case, you can give a specific length with `max_length` (e.g. `max_length=45`) or leave max_length to None to pad to the maximal input size of the model (e.g. 512 for Bert).\n",
            "  FutureWarning,\n",
            "/usr/local/lib/python3.6/dist-packages/transformers/tokenization_utils_base.py:1944: FutureWarning: The `pad_to_max_length` argument is deprecated and will be removed in a future version, use `padding=True` or `padding='longest'` to pad to the longest sequence in the batch, or use `padding='max_length'` to pad to a max length. In this case, you can give a specific length with `max_length` (e.g. `max_length=45`) or leave max_length to None to pad to the maximal input size of the model (e.g. 512 for Bert).\n",
            "  FutureWarning,\n",
            "/usr/local/lib/python3.6/dist-packages/transformers/tokenization_utils_base.py:1944: FutureWarning: The `pad_to_max_length` argument is deprecated and will be removed in a future version, use `padding=True` or `padding='longest'` to pad to the longest sequence in the batch, or use `padding='max_length'` to pad to a max length. In this case, you can give a specific length with `max_length` (e.g. `max_length=45`) or leave max_length to None to pad to the maximal input size of the model (e.g. 512 for Bert).\n",
            "  FutureWarning,\n",
            "/usr/local/lib/python3.6/dist-packages/transformers/tokenization_utils_base.py:1944: FutureWarning: The `pad_to_max_length` argument is deprecated and will be removed in a future version, use `padding=True` or `padding='longest'` to pad to the longest sequence in the batch, or use `padding='max_length'` to pad to a max length. In this case, you can give a specific length with `max_length` (e.g. `max_length=45`) or leave max_length to None to pad to the maximal input size of the model (e.g. 512 for Bert).\n",
            "  FutureWarning,\n"
          ],
          "name": "stderr"
        },
        {
          "output_type": "stream",
          "text": [
            "Train loss 0.7516179159472739 accuracy 0.6510797078437599\n",
            "140652116545888\n"
          ],
          "name": "stdout"
        },
        {
          "output_type": "stream",
          "text": [
            "/usr/local/lib/python3.6/dist-packages/transformers/tokenization_utils_base.py:1944: FutureWarning: The `pad_to_max_length` argument is deprecated and will be removed in a future version, use `padding=True` or `padding='longest'` to pad to the longest sequence in the batch, or use `padding='max_length'` to pad to a max length. In this case, you can give a specific length with `max_length` (e.g. `max_length=45`) or leave max_length to None to pad to the maximal input size of the model (e.g. 512 for Bert).\n",
            "  FutureWarning,\n",
            "/usr/local/lib/python3.6/dist-packages/transformers/tokenization_utils_base.py:1944: FutureWarning: The `pad_to_max_length` argument is deprecated and will be removed in a future version, use `padding=True` or `padding='longest'` to pad to the longest sequence in the batch, or use `padding='max_length'` to pad to a max length. In this case, you can give a specific length with `max_length` (e.g. `max_length=45`) or leave max_length to None to pad to the maximal input size of the model (e.g. 512 for Bert).\n",
            "  FutureWarning,\n",
            "/usr/local/lib/python3.6/dist-packages/transformers/tokenization_utils_base.py:1944: FutureWarning: The `pad_to_max_length` argument is deprecated and will be removed in a future version, use `padding=True` or `padding='longest'` to pad to the longest sequence in the batch, or use `padding='max_length'` to pad to a max length. In this case, you can give a specific length with `max_length` (e.g. `max_length=45`) or leave max_length to None to pad to the maximal input size of the model (e.g. 512 for Bert).\n",
            "  FutureWarning,\n",
            "/usr/local/lib/python3.6/dist-packages/transformers/tokenization_utils_base.py:1944: FutureWarning: The `pad_to_max_length` argument is deprecated and will be removed in a future version, use `padding=True` or `padding='longest'` to pad to the longest sequence in the batch, or use `padding='max_length'` to pad to a max length. In this case, you can give a specific length with `max_length` (e.g. `max_length=45`) or leave max_length to None to pad to the maximal input size of the model (e.g. 512 for Bert).\n",
            "  FutureWarning,\n"
          ],
          "name": "stderr"
        },
        {
          "output_type": "stream",
          "text": [
            "Val   loss 0.6082443218640606 accuracy 0.7466666666666667\n",
            "\n",
            "Epoch 2/20\n",
            "----------\n"
          ],
          "name": "stdout"
        },
        {
          "output_type": "stream",
          "text": [
            "/usr/local/lib/python3.6/dist-packages/transformers/tokenization_utils_base.py:1944: FutureWarning: The `pad_to_max_length` argument is deprecated and will be removed in a future version, use `padding=True` or `padding='longest'` to pad to the longest sequence in the batch, or use `padding='max_length'` to pad to a max length. In this case, you can give a specific length with `max_length` (e.g. `max_length=45`) or leave max_length to None to pad to the maximal input size of the model (e.g. 512 for Bert).\n",
            "  FutureWarning,\n",
            "/usr/local/lib/python3.6/dist-packages/transformers/tokenization_utils_base.py:1944: FutureWarning: The `pad_to_max_length` argument is deprecated and will be removed in a future version, use `padding=True` or `padding='longest'` to pad to the longest sequence in the batch, or use `padding='max_length'` to pad to a max length. In this case, you can give a specific length with `max_length` (e.g. `max_length=45`) or leave max_length to None to pad to the maximal input size of the model (e.g. 512 for Bert).\n",
            "  FutureWarning,\n",
            "/usr/local/lib/python3.6/dist-packages/transformers/tokenization_utils_base.py:1944: FutureWarning: The `pad_to_max_length` argument is deprecated and will be removed in a future version, use `padding=True` or `padding='longest'` to pad to the longest sequence in the batch, or use `padding='max_length'` to pad to a max length. In this case, you can give a specific length with `max_length` (e.g. `max_length=45`) or leave max_length to None to pad to the maximal input size of the model (e.g. 512 for Bert).\n",
            "  FutureWarning,\n",
            "/usr/local/lib/python3.6/dist-packages/transformers/tokenization_utils_base.py:1944: FutureWarning: The `pad_to_max_length` argument is deprecated and will be removed in a future version, use `padding=True` or `padding='longest'` to pad to the longest sequence in the batch, or use `padding='max_length'` to pad to a max length. In this case, you can give a specific length with `max_length` (e.g. `max_length=45`) or leave max_length to None to pad to the maximal input size of the model (e.g. 512 for Bert).\n",
            "  FutureWarning,\n"
          ],
          "name": "stderr"
        },
        {
          "output_type": "stream",
          "text": [
            "Train loss 0.44519474297326983 accuracy 0.8289933312162592\n",
            "140652116545888\n"
          ],
          "name": "stdout"
        },
        {
          "output_type": "stream",
          "text": [
            "/usr/local/lib/python3.6/dist-packages/transformers/tokenization_utils_base.py:1944: FutureWarning: The `pad_to_max_length` argument is deprecated and will be removed in a future version, use `padding=True` or `padding='longest'` to pad to the longest sequence in the batch, or use `padding='max_length'` to pad to a max length. In this case, you can give a specific length with `max_length` (e.g. `max_length=45`) or leave max_length to None to pad to the maximal input size of the model (e.g. 512 for Bert).\n",
            "  FutureWarning,\n",
            "/usr/local/lib/python3.6/dist-packages/transformers/tokenization_utils_base.py:1944: FutureWarning: The `pad_to_max_length` argument is deprecated and will be removed in a future version, use `padding=True` or `padding='longest'` to pad to the longest sequence in the batch, or use `padding='max_length'` to pad to a max length. In this case, you can give a specific length with `max_length` (e.g. `max_length=45`) or leave max_length to None to pad to the maximal input size of the model (e.g. 512 for Bert).\n",
            "  FutureWarning,\n",
            "/usr/local/lib/python3.6/dist-packages/transformers/tokenization_utils_base.py:1944: FutureWarning: The `pad_to_max_length` argument is deprecated and will be removed in a future version, use `padding=True` or `padding='longest'` to pad to the longest sequence in the batch, or use `padding='max_length'` to pad to a max length. In this case, you can give a specific length with `max_length` (e.g. `max_length=45`) or leave max_length to None to pad to the maximal input size of the model (e.g. 512 for Bert).\n",
            "  FutureWarning,\n",
            "/usr/local/lib/python3.6/dist-packages/transformers/tokenization_utils_base.py:1944: FutureWarning: The `pad_to_max_length` argument is deprecated and will be removed in a future version, use `padding=True` or `padding='longest'` to pad to the longest sequence in the batch, or use `padding='max_length'` to pad to a max length. In this case, you can give a specific length with `max_length` (e.g. `max_length=45`) or leave max_length to None to pad to the maximal input size of the model (e.g. 512 for Bert).\n",
            "  FutureWarning,\n"
          ],
          "name": "stderr"
        },
        {
          "output_type": "stream",
          "text": [
            "Val   loss 0.5935942178422754 accuracy 0.7930158730158731\n",
            "\n",
            "Epoch 3/20\n",
            "----------\n"
          ],
          "name": "stdout"
        },
        {
          "output_type": "stream",
          "text": [
            "/usr/local/lib/python3.6/dist-packages/transformers/tokenization_utils_base.py:1944: FutureWarning: The `pad_to_max_length` argument is deprecated and will be removed in a future version, use `padding=True` or `padding='longest'` to pad to the longest sequence in the batch, or use `padding='max_length'` to pad to a max length. In this case, you can give a specific length with `max_length` (e.g. `max_length=45`) or leave max_length to None to pad to the maximal input size of the model (e.g. 512 for Bert).\n",
            "  FutureWarning,\n",
            "/usr/local/lib/python3.6/dist-packages/transformers/tokenization_utils_base.py:1944: FutureWarning: The `pad_to_max_length` argument is deprecated and will be removed in a future version, use `padding=True` or `padding='longest'` to pad to the longest sequence in the batch, or use `padding='max_length'` to pad to a max length. In this case, you can give a specific length with `max_length` (e.g. `max_length=45`) or leave max_length to None to pad to the maximal input size of the model (e.g. 512 for Bert).\n",
            "  FutureWarning,\n",
            "/usr/local/lib/python3.6/dist-packages/transformers/tokenization_utils_base.py:1944: FutureWarning: The `pad_to_max_length` argument is deprecated and will be removed in a future version, use `padding=True` or `padding='longest'` to pad to the longest sequence in the batch, or use `padding='max_length'` to pad to a max length. In this case, you can give a specific length with `max_length` (e.g. `max_length=45`) or leave max_length to None to pad to the maximal input size of the model (e.g. 512 for Bert).\n",
            "  FutureWarning,\n",
            "/usr/local/lib/python3.6/dist-packages/transformers/tokenization_utils_base.py:1944: FutureWarning: The `pad_to_max_length` argument is deprecated and will be removed in a future version, use `padding=True` or `padding='longest'` to pad to the longest sequence in the batch, or use `padding='max_length'` to pad to a max length. In this case, you can give a specific length with `max_length` (e.g. `max_length=45`) or leave max_length to None to pad to the maximal input size of the model (e.g. 512 for Bert).\n",
            "  FutureWarning,\n"
          ],
          "name": "stderr"
        },
        {
          "output_type": "stream",
          "text": [
            "Train loss 0.2637555825708406 accuracy 0.9129088599555415\n",
            "140652116545888\n"
          ],
          "name": "stdout"
        },
        {
          "output_type": "stream",
          "text": [
            "/usr/local/lib/python3.6/dist-packages/transformers/tokenization_utils_base.py:1944: FutureWarning: The `pad_to_max_length` argument is deprecated and will be removed in a future version, use `padding=True` or `padding='longest'` to pad to the longest sequence in the batch, or use `padding='max_length'` to pad to a max length. In this case, you can give a specific length with `max_length` (e.g. `max_length=45`) or leave max_length to None to pad to the maximal input size of the model (e.g. 512 for Bert).\n",
            "  FutureWarning,\n",
            "/usr/local/lib/python3.6/dist-packages/transformers/tokenization_utils_base.py:1944: FutureWarning: The `pad_to_max_length` argument is deprecated and will be removed in a future version, use `padding=True` or `padding='longest'` to pad to the longest sequence in the batch, or use `padding='max_length'` to pad to a max length. In this case, you can give a specific length with `max_length` (e.g. `max_length=45`) or leave max_length to None to pad to the maximal input size of the model (e.g. 512 for Bert).\n",
            "  FutureWarning,\n",
            "/usr/local/lib/python3.6/dist-packages/transformers/tokenization_utils_base.py:1944: FutureWarning: The `pad_to_max_length` argument is deprecated and will be removed in a future version, use `padding=True` or `padding='longest'` to pad to the longest sequence in the batch, or use `padding='max_length'` to pad to a max length. In this case, you can give a specific length with `max_length` (e.g. `max_length=45`) or leave max_length to None to pad to the maximal input size of the model (e.g. 512 for Bert).\n",
            "  FutureWarning,\n",
            "/usr/local/lib/python3.6/dist-packages/transformers/tokenization_utils_base.py:1944: FutureWarning: The `pad_to_max_length` argument is deprecated and will be removed in a future version, use `padding=True` or `padding='longest'` to pad to the longest sequence in the batch, or use `padding='max_length'` to pad to a max length. In this case, you can give a specific length with `max_length` (e.g. `max_length=45`) or leave max_length to None to pad to the maximal input size of the model (e.g. 512 for Bert).\n",
            "  FutureWarning,\n"
          ],
          "name": "stderr"
        },
        {
          "output_type": "stream",
          "text": [
            "Val   loss 0.6336027378536234 accuracy 0.8393650793650793\n",
            "\n",
            "Epoch 4/20\n",
            "----------\n"
          ],
          "name": "stdout"
        },
        {
          "output_type": "stream",
          "text": [
            "/usr/local/lib/python3.6/dist-packages/transformers/tokenization_utils_base.py:1944: FutureWarning: The `pad_to_max_length` argument is deprecated and will be removed in a future version, use `padding=True` or `padding='longest'` to pad to the longest sequence in the batch, or use `padding='max_length'` to pad to a max length. In this case, you can give a specific length with `max_length` (e.g. `max_length=45`) or leave max_length to None to pad to the maximal input size of the model (e.g. 512 for Bert).\n",
            "  FutureWarning,\n",
            "/usr/local/lib/python3.6/dist-packages/transformers/tokenization_utils_base.py:1944: FutureWarning: The `pad_to_max_length` argument is deprecated and will be removed in a future version, use `padding=True` or `padding='longest'` to pad to the longest sequence in the batch, or use `padding='max_length'` to pad to a max length. In this case, you can give a specific length with `max_length` (e.g. `max_length=45`) or leave max_length to None to pad to the maximal input size of the model (e.g. 512 for Bert).\n",
            "  FutureWarning,\n",
            "/usr/local/lib/python3.6/dist-packages/transformers/tokenization_utils_base.py:1944: FutureWarning: The `pad_to_max_length` argument is deprecated and will be removed in a future version, use `padding=True` or `padding='longest'` to pad to the longest sequence in the batch, or use `padding='max_length'` to pad to a max length. In this case, you can give a specific length with `max_length` (e.g. `max_length=45`) or leave max_length to None to pad to the maximal input size of the model (e.g. 512 for Bert).\n",
            "  FutureWarning,\n",
            "/usr/local/lib/python3.6/dist-packages/transformers/tokenization_utils_base.py:1944: FutureWarning: The `pad_to_max_length` argument is deprecated and will be removed in a future version, use `padding=True` or `padding='longest'` to pad to the longest sequence in the batch, or use `padding='max_length'` to pad to a max length. In this case, you can give a specific length with `max_length` (e.g. `max_length=45`) or leave max_length to None to pad to the maximal input size of the model (e.g. 512 for Bert).\n",
            "  FutureWarning,\n"
          ],
          "name": "stderr"
        },
        {
          "output_type": "stream",
          "text": [
            "Train loss 0.17834010713708323 accuracy 0.9468879009209273\n",
            "140652116545888\n"
          ],
          "name": "stdout"
        },
        {
          "output_type": "stream",
          "text": [
            "/usr/local/lib/python3.6/dist-packages/transformers/tokenization_utils_base.py:1944: FutureWarning: The `pad_to_max_length` argument is deprecated and will be removed in a future version, use `padding=True` or `padding='longest'` to pad to the longest sequence in the batch, or use `padding='max_length'` to pad to a max length. In this case, you can give a specific length with `max_length` (e.g. `max_length=45`) or leave max_length to None to pad to the maximal input size of the model (e.g. 512 for Bert).\n",
            "  FutureWarning,\n",
            "/usr/local/lib/python3.6/dist-packages/transformers/tokenization_utils_base.py:1944: FutureWarning: The `pad_to_max_length` argument is deprecated and will be removed in a future version, use `padding=True` or `padding='longest'` to pad to the longest sequence in the batch, or use `padding='max_length'` to pad to a max length. In this case, you can give a specific length with `max_length` (e.g. `max_length=45`) or leave max_length to None to pad to the maximal input size of the model (e.g. 512 for Bert).\n",
            "  FutureWarning,\n",
            "/usr/local/lib/python3.6/dist-packages/transformers/tokenization_utils_base.py:1944: FutureWarning: The `pad_to_max_length` argument is deprecated and will be removed in a future version, use `padding=True` or `padding='longest'` to pad to the longest sequence in the batch, or use `padding='max_length'` to pad to a max length. In this case, you can give a specific length with `max_length` (e.g. `max_length=45`) or leave max_length to None to pad to the maximal input size of the model (e.g. 512 for Bert).\n",
            "  FutureWarning,\n",
            "/usr/local/lib/python3.6/dist-packages/transformers/tokenization_utils_base.py:1944: FutureWarning: The `pad_to_max_length` argument is deprecated and will be removed in a future version, use `padding=True` or `padding='longest'` to pad to the longest sequence in the batch, or use `padding='max_length'` to pad to a max length. In this case, you can give a specific length with `max_length` (e.g. `max_length=45`) or leave max_length to None to pad to the maximal input size of the model (e.g. 512 for Bert).\n",
            "  FutureWarning,\n"
          ],
          "name": "stderr"
        },
        {
          "output_type": "stream",
          "text": [
            "Val   loss 0.7334421064135515 accuracy 0.8476190476190476\n",
            "\n",
            "Epoch 5/20\n",
            "----------\n"
          ],
          "name": "stdout"
        },
        {
          "output_type": "stream",
          "text": [
            "/usr/local/lib/python3.6/dist-packages/transformers/tokenization_utils_base.py:1944: FutureWarning: The `pad_to_max_length` argument is deprecated and will be removed in a future version, use `padding=True` or `padding='longest'` to pad to the longest sequence in the batch, or use `padding='max_length'` to pad to a max length. In this case, you can give a specific length with `max_length` (e.g. `max_length=45`) or leave max_length to None to pad to the maximal input size of the model (e.g. 512 for Bert).\n",
            "  FutureWarning,\n",
            "/usr/local/lib/python3.6/dist-packages/transformers/tokenization_utils_base.py:1944: FutureWarning: The `pad_to_max_length` argument is deprecated and will be removed in a future version, use `padding=True` or `padding='longest'` to pad to the longest sequence in the batch, or use `padding='max_length'` to pad to a max length. In this case, you can give a specific length with `max_length` (e.g. `max_length=45`) or leave max_length to None to pad to the maximal input size of the model (e.g. 512 for Bert).\n",
            "  FutureWarning,\n",
            "/usr/local/lib/python3.6/dist-packages/transformers/tokenization_utils_base.py:1944: FutureWarning: The `pad_to_max_length` argument is deprecated and will be removed in a future version, use `padding=True` or `padding='longest'` to pad to the longest sequence in the batch, or use `padding='max_length'` to pad to a max length. In this case, you can give a specific length with `max_length` (e.g. `max_length=45`) or leave max_length to None to pad to the maximal input size of the model (e.g. 512 for Bert).\n",
            "  FutureWarning,\n",
            "/usr/local/lib/python3.6/dist-packages/transformers/tokenization_utils_base.py:1944: FutureWarning: The `pad_to_max_length` argument is deprecated and will be removed in a future version, use `padding=True` or `padding='longest'` to pad to the longest sequence in the batch, or use `padding='max_length'` to pad to a max length. In this case, you can give a specific length with `max_length` (e.g. `max_length=45`) or leave max_length to None to pad to the maximal input size of the model (e.g. 512 for Bert).\n",
            "  FutureWarning,\n"
          ],
          "name": "stderr"
        },
        {
          "output_type": "stream",
          "text": [
            "Train loss 0.13032419915754392 accuracy 0.963639250555732\n",
            "140652116545888\n"
          ],
          "name": "stdout"
        },
        {
          "output_type": "stream",
          "text": [
            "/usr/local/lib/python3.6/dist-packages/transformers/tokenization_utils_base.py:1944: FutureWarning: The `pad_to_max_length` argument is deprecated and will be removed in a future version, use `padding=True` or `padding='longest'` to pad to the longest sequence in the batch, or use `padding='max_length'` to pad to a max length. In this case, you can give a specific length with `max_length` (e.g. `max_length=45`) or leave max_length to None to pad to the maximal input size of the model (e.g. 512 for Bert).\n",
            "  FutureWarning,\n",
            "/usr/local/lib/python3.6/dist-packages/transformers/tokenization_utils_base.py:1944: FutureWarning: The `pad_to_max_length` argument is deprecated and will be removed in a future version, use `padding=True` or `padding='longest'` to pad to the longest sequence in the batch, or use `padding='max_length'` to pad to a max length. In this case, you can give a specific length with `max_length` (e.g. `max_length=45`) or leave max_length to None to pad to the maximal input size of the model (e.g. 512 for Bert).\n",
            "  FutureWarning,\n",
            "/usr/local/lib/python3.6/dist-packages/transformers/tokenization_utils_base.py:1944: FutureWarning: The `pad_to_max_length` argument is deprecated and will be removed in a future version, use `padding=True` or `padding='longest'` to pad to the longest sequence in the batch, or use `padding='max_length'` to pad to a max length. In this case, you can give a specific length with `max_length` (e.g. `max_length=45`) or leave max_length to None to pad to the maximal input size of the model (e.g. 512 for Bert).\n",
            "  FutureWarning,\n",
            "/usr/local/lib/python3.6/dist-packages/transformers/tokenization_utils_base.py:1944: FutureWarning: The `pad_to_max_length` argument is deprecated and will be removed in a future version, use `padding=True` or `padding='longest'` to pad to the longest sequence in the batch, or use `padding='max_length'` to pad to a max length. In this case, you can give a specific length with `max_length` (e.g. `max_length=45`) or leave max_length to None to pad to the maximal input size of the model (e.g. 512 for Bert).\n",
            "  FutureWarning,\n"
          ],
          "name": "stderr"
        },
        {
          "output_type": "stream",
          "text": [
            "Val   loss 0.7999540021774745 accuracy 0.8482539682539683\n",
            "\n",
            "Epoch 6/20\n",
            "----------\n"
          ],
          "name": "stdout"
        },
        {
          "output_type": "stream",
          "text": [
            "/usr/local/lib/python3.6/dist-packages/transformers/tokenization_utils_base.py:1944: FutureWarning: The `pad_to_max_length` argument is deprecated and will be removed in a future version, use `padding=True` or `padding='longest'` to pad to the longest sequence in the batch, or use `padding='max_length'` to pad to a max length. In this case, you can give a specific length with `max_length` (e.g. `max_length=45`) or leave max_length to None to pad to the maximal input size of the model (e.g. 512 for Bert).\n",
            "  FutureWarning,\n",
            "/usr/local/lib/python3.6/dist-packages/transformers/tokenization_utils_base.py:1944: FutureWarning: The `pad_to_max_length` argument is deprecated and will be removed in a future version, use `padding=True` or `padding='longest'` to pad to the longest sequence in the batch, or use `padding='max_length'` to pad to a max length. In this case, you can give a specific length with `max_length` (e.g. `max_length=45`) or leave max_length to None to pad to the maximal input size of the model (e.g. 512 for Bert).\n",
            "  FutureWarning,\n",
            "/usr/local/lib/python3.6/dist-packages/transformers/tokenization_utils_base.py:1944: FutureWarning: The `pad_to_max_length` argument is deprecated and will be removed in a future version, use `padding=True` or `padding='longest'` to pad to the longest sequence in the batch, or use `padding='max_length'` to pad to a max length. In this case, you can give a specific length with `max_length` (e.g. `max_length=45`) or leave max_length to None to pad to the maximal input size of the model (e.g. 512 for Bert).\n",
            "  FutureWarning,\n",
            "/usr/local/lib/python3.6/dist-packages/transformers/tokenization_utils_base.py:1944: FutureWarning: The `pad_to_max_length` argument is deprecated and will be removed in a future version, use `padding=True` or `padding='longest'` to pad to the longest sequence in the batch, or use `padding='max_length'` to pad to a max length. In this case, you can give a specific length with `max_length` (e.g. `max_length=45`) or leave max_length to None to pad to the maximal input size of the model (e.g. 512 for Bert).\n",
            "  FutureWarning,\n"
          ],
          "name": "stderr"
        },
        {
          "output_type": "stream",
          "text": [
            "Train loss 0.10584504057036898 accuracy 0.9722134010797079\n",
            "140652116545888\n"
          ],
          "name": "stdout"
        },
        {
          "output_type": "stream",
          "text": [
            "/usr/local/lib/python3.6/dist-packages/transformers/tokenization_utils_base.py:1944: FutureWarning: The `pad_to_max_length` argument is deprecated and will be removed in a future version, use `padding=True` or `padding='longest'` to pad to the longest sequence in the batch, or use `padding='max_length'` to pad to a max length. In this case, you can give a specific length with `max_length` (e.g. `max_length=45`) or leave max_length to None to pad to the maximal input size of the model (e.g. 512 for Bert).\n",
            "  FutureWarning,\n",
            "/usr/local/lib/python3.6/dist-packages/transformers/tokenization_utils_base.py:1944: FutureWarning: The `pad_to_max_length` argument is deprecated and will be removed in a future version, use `padding=True` or `padding='longest'` to pad to the longest sequence in the batch, or use `padding='max_length'` to pad to a max length. In this case, you can give a specific length with `max_length` (e.g. `max_length=45`) or leave max_length to None to pad to the maximal input size of the model (e.g. 512 for Bert).\n",
            "  FutureWarning,\n",
            "/usr/local/lib/python3.6/dist-packages/transformers/tokenization_utils_base.py:1944: FutureWarning: The `pad_to_max_length` argument is deprecated and will be removed in a future version, use `padding=True` or `padding='longest'` to pad to the longest sequence in the batch, or use `padding='max_length'` to pad to a max length. In this case, you can give a specific length with `max_length` (e.g. `max_length=45`) or leave max_length to None to pad to the maximal input size of the model (e.g. 512 for Bert).\n",
            "  FutureWarning,\n",
            "/usr/local/lib/python3.6/dist-packages/transformers/tokenization_utils_base.py:1944: FutureWarning: The `pad_to_max_length` argument is deprecated and will be removed in a future version, use `padding=True` or `padding='longest'` to pad to the longest sequence in the batch, or use `padding='max_length'` to pad to a max length. In this case, you can give a specific length with `max_length` (e.g. `max_length=45`) or leave max_length to None to pad to the maximal input size of the model (e.g. 512 for Bert).\n",
            "  FutureWarning,\n"
          ],
          "name": "stderr"
        },
        {
          "output_type": "stream",
          "text": [
            "Val   loss 0.9021552279168232 accuracy 0.8533333333333333\n",
            "\n",
            "Epoch 7/20\n",
            "----------\n"
          ],
          "name": "stdout"
        },
        {
          "output_type": "stream",
          "text": [
            "/usr/local/lib/python3.6/dist-packages/transformers/tokenization_utils_base.py:1944: FutureWarning: The `pad_to_max_length` argument is deprecated and will be removed in a future version, use `padding=True` or `padding='longest'` to pad to the longest sequence in the batch, or use `padding='max_length'` to pad to a max length. In this case, you can give a specific length with `max_length` (e.g. `max_length=45`) or leave max_length to None to pad to the maximal input size of the model (e.g. 512 for Bert).\n",
            "  FutureWarning,\n",
            "/usr/local/lib/python3.6/dist-packages/transformers/tokenization_utils_base.py:1944: FutureWarning: The `pad_to_max_length` argument is deprecated and will be removed in a future version, use `padding=True` or `padding='longest'` to pad to the longest sequence in the batch, or use `padding='max_length'` to pad to a max length. In this case, you can give a specific length with `max_length` (e.g. `max_length=45`) or leave max_length to None to pad to the maximal input size of the model (e.g. 512 for Bert).\n",
            "  FutureWarning,\n",
            "/usr/local/lib/python3.6/dist-packages/transformers/tokenization_utils_base.py:1944: FutureWarning: The `pad_to_max_length` argument is deprecated and will be removed in a future version, use `padding=True` or `padding='longest'` to pad to the longest sequence in the batch, or use `padding='max_length'` to pad to a max length. In this case, you can give a specific length with `max_length` (e.g. `max_length=45`) or leave max_length to None to pad to the maximal input size of the model (e.g. 512 for Bert).\n",
            "  FutureWarning,\n",
            "/usr/local/lib/python3.6/dist-packages/transformers/tokenization_utils_base.py:1944: FutureWarning: The `pad_to_max_length` argument is deprecated and will be removed in a future version, use `padding=True` or `padding='longest'` to pad to the longest sequence in the batch, or use `padding='max_length'` to pad to a max length. In this case, you can give a specific length with `max_length` (e.g. `max_length=45`) or leave max_length to None to pad to the maximal input size of the model (e.g. 512 for Bert).\n",
            "  FutureWarning,\n"
          ],
          "name": "stderr"
        },
        {
          "output_type": "stream",
          "text": [
            "Train loss 0.08079627305658524 accuracy 0.9780882819942839\n",
            "140652116545888\n"
          ],
          "name": "stdout"
        },
        {
          "output_type": "stream",
          "text": [
            "/usr/local/lib/python3.6/dist-packages/transformers/tokenization_utils_base.py:1944: FutureWarning: The `pad_to_max_length` argument is deprecated and will be removed in a future version, use `padding=True` or `padding='longest'` to pad to the longest sequence in the batch, or use `padding='max_length'` to pad to a max length. In this case, you can give a specific length with `max_length` (e.g. `max_length=45`) or leave max_length to None to pad to the maximal input size of the model (e.g. 512 for Bert).\n",
            "  FutureWarning,\n",
            "/usr/local/lib/python3.6/dist-packages/transformers/tokenization_utils_base.py:1944: FutureWarning: The `pad_to_max_length` argument is deprecated and will be removed in a future version, use `padding=True` or `padding='longest'` to pad to the longest sequence in the batch, or use `padding='max_length'` to pad to a max length. In this case, you can give a specific length with `max_length` (e.g. `max_length=45`) or leave max_length to None to pad to the maximal input size of the model (e.g. 512 for Bert).\n",
            "  FutureWarning,\n",
            "/usr/local/lib/python3.6/dist-packages/transformers/tokenization_utils_base.py:1944: FutureWarning: The `pad_to_max_length` argument is deprecated and will be removed in a future version, use `padding=True` or `padding='longest'` to pad to the longest sequence in the batch, or use `padding='max_length'` to pad to a max length. In this case, you can give a specific length with `max_length` (e.g. `max_length=45`) or leave max_length to None to pad to the maximal input size of the model (e.g. 512 for Bert).\n",
            "  FutureWarning,\n",
            "/usr/local/lib/python3.6/dist-packages/transformers/tokenization_utils_base.py:1944: FutureWarning: The `pad_to_max_length` argument is deprecated and will be removed in a future version, use `padding=True` or `padding='longest'` to pad to the longest sequence in the batch, or use `padding='max_length'` to pad to a max length. In this case, you can give a specific length with `max_length` (e.g. `max_length=45`) or leave max_length to None to pad to the maximal input size of the model (e.g. 512 for Bert).\n",
            "  FutureWarning,\n"
          ],
          "name": "stderr"
        },
        {
          "output_type": "stream",
          "text": [
            "Val   loss 1.0437085791955458 accuracy 0.8457142857142858\n",
            "\n",
            "Epoch 8/20\n",
            "----------\n"
          ],
          "name": "stdout"
        },
        {
          "output_type": "stream",
          "text": [
            "/usr/local/lib/python3.6/dist-packages/transformers/tokenization_utils_base.py:1944: FutureWarning: The `pad_to_max_length` argument is deprecated and will be removed in a future version, use `padding=True` or `padding='longest'` to pad to the longest sequence in the batch, or use `padding='max_length'` to pad to a max length. In this case, you can give a specific length with `max_length` (e.g. `max_length=45`) or leave max_length to None to pad to the maximal input size of the model (e.g. 512 for Bert).\n",
            "  FutureWarning,\n",
            "/usr/local/lib/python3.6/dist-packages/transformers/tokenization_utils_base.py:1944: FutureWarning: The `pad_to_max_length` argument is deprecated and will be removed in a future version, use `padding=True` or `padding='longest'` to pad to the longest sequence in the batch, or use `padding='max_length'` to pad to a max length. In this case, you can give a specific length with `max_length` (e.g. `max_length=45`) or leave max_length to None to pad to the maximal input size of the model (e.g. 512 for Bert).\n",
            "  FutureWarning,\n",
            "/usr/local/lib/python3.6/dist-packages/transformers/tokenization_utils_base.py:1944: FutureWarning: The `pad_to_max_length` argument is deprecated and will be removed in a future version, use `padding=True` or `padding='longest'` to pad to the longest sequence in the batch, or use `padding='max_length'` to pad to a max length. In this case, you can give a specific length with `max_length` (e.g. `max_length=45`) or leave max_length to None to pad to the maximal input size of the model (e.g. 512 for Bert).\n",
            "  FutureWarning,\n",
            "/usr/local/lib/python3.6/dist-packages/transformers/tokenization_utils_base.py:1944: FutureWarning: The `pad_to_max_length` argument is deprecated and will be removed in a future version, use `padding=True` or `padding='longest'` to pad to the longest sequence in the batch, or use `padding='max_length'` to pad to a max length. In this case, you can give a specific length with `max_length` (e.g. `max_length=45`) or leave max_length to None to pad to the maximal input size of the model (e.g. 512 for Bert).\n",
            "  FutureWarning,\n"
          ],
          "name": "stderr"
        },
        {
          "output_type": "stream",
          "text": [
            "Train loss 0.07469266689204325 accuracy 0.9798348682121308\n",
            "140652116545888\n"
          ],
          "name": "stdout"
        },
        {
          "output_type": "stream",
          "text": [
            "/usr/local/lib/python3.6/dist-packages/transformers/tokenization_utils_base.py:1944: FutureWarning: The `pad_to_max_length` argument is deprecated and will be removed in a future version, use `padding=True` or `padding='longest'` to pad to the longest sequence in the batch, or use `padding='max_length'` to pad to a max length. In this case, you can give a specific length with `max_length` (e.g. `max_length=45`) or leave max_length to None to pad to the maximal input size of the model (e.g. 512 for Bert).\n",
            "  FutureWarning,\n",
            "/usr/local/lib/python3.6/dist-packages/transformers/tokenization_utils_base.py:1944: FutureWarning: The `pad_to_max_length` argument is deprecated and will be removed in a future version, use `padding=True` or `padding='longest'` to pad to the longest sequence in the batch, or use `padding='max_length'` to pad to a max length. In this case, you can give a specific length with `max_length` (e.g. `max_length=45`) or leave max_length to None to pad to the maximal input size of the model (e.g. 512 for Bert).\n",
            "  FutureWarning,\n",
            "/usr/local/lib/python3.6/dist-packages/transformers/tokenization_utils_base.py:1944: FutureWarning: The `pad_to_max_length` argument is deprecated and will be removed in a future version, use `padding=True` or `padding='longest'` to pad to the longest sequence in the batch, or use `padding='max_length'` to pad to a max length. In this case, you can give a specific length with `max_length` (e.g. `max_length=45`) or leave max_length to None to pad to the maximal input size of the model (e.g. 512 for Bert).\n",
            "  FutureWarning,\n",
            "/usr/local/lib/python3.6/dist-packages/transformers/tokenization_utils_base.py:1944: FutureWarning: The `pad_to_max_length` argument is deprecated and will be removed in a future version, use `padding=True` or `padding='longest'` to pad to the longest sequence in the batch, or use `padding='max_length'` to pad to a max length. In this case, you can give a specific length with `max_length` (e.g. `max_length=45`) or leave max_length to None to pad to the maximal input size of the model (e.g. 512 for Bert).\n",
            "  FutureWarning,\n"
          ],
          "name": "stderr"
        },
        {
          "output_type": "stream",
          "text": [
            "Val   loss 0.9992307590422422 accuracy 0.8533333333333333\n",
            "\n",
            "Epoch 9/20\n",
            "----------\n"
          ],
          "name": "stdout"
        },
        {
          "output_type": "stream",
          "text": [
            "/usr/local/lib/python3.6/dist-packages/transformers/tokenization_utils_base.py:1944: FutureWarning: The `pad_to_max_length` argument is deprecated and will be removed in a future version, use `padding=True` or `padding='longest'` to pad to the longest sequence in the batch, or use `padding='max_length'` to pad to a max length. In this case, you can give a specific length with `max_length` (e.g. `max_length=45`) or leave max_length to None to pad to the maximal input size of the model (e.g. 512 for Bert).\n",
            "  FutureWarning,\n",
            "/usr/local/lib/python3.6/dist-packages/transformers/tokenization_utils_base.py:1944: FutureWarning: The `pad_to_max_length` argument is deprecated and will be removed in a future version, use `padding=True` or `padding='longest'` to pad to the longest sequence in the batch, or use `padding='max_length'` to pad to a max length. In this case, you can give a specific length with `max_length` (e.g. `max_length=45`) or leave max_length to None to pad to the maximal input size of the model (e.g. 512 for Bert).\n",
            "  FutureWarning,\n",
            "/usr/local/lib/python3.6/dist-packages/transformers/tokenization_utils_base.py:1944: FutureWarning: The `pad_to_max_length` argument is deprecated and will be removed in a future version, use `padding=True` or `padding='longest'` to pad to the longest sequence in the batch, or use `padding='max_length'` to pad to a max length. In this case, you can give a specific length with `max_length` (e.g. `max_length=45`) or leave max_length to None to pad to the maximal input size of the model (e.g. 512 for Bert).\n",
            "  FutureWarning,\n",
            "/usr/local/lib/python3.6/dist-packages/transformers/tokenization_utils_base.py:1944: FutureWarning: The `pad_to_max_length` argument is deprecated and will be removed in a future version, use `padding=True` or `padding='longest'` to pad to the longest sequence in the batch, or use `padding='max_length'` to pad to a max length. In this case, you can give a specific length with `max_length` (e.g. `max_length=45`) or leave max_length to None to pad to the maximal input size of the model (e.g. 512 for Bert).\n",
            "  FutureWarning,\n"
          ],
          "name": "stderr"
        },
        {
          "output_type": "stream",
          "text": [
            "Train loss 0.060579298691507036 accuracy 0.9828516989520483\n",
            "140652116545888\n"
          ],
          "name": "stdout"
        },
        {
          "output_type": "stream",
          "text": [
            "/usr/local/lib/python3.6/dist-packages/transformers/tokenization_utils_base.py:1944: FutureWarning: The `pad_to_max_length` argument is deprecated and will be removed in a future version, use `padding=True` or `padding='longest'` to pad to the longest sequence in the batch, or use `padding='max_length'` to pad to a max length. In this case, you can give a specific length with `max_length` (e.g. `max_length=45`) or leave max_length to None to pad to the maximal input size of the model (e.g. 512 for Bert).\n",
            "  FutureWarning,\n",
            "/usr/local/lib/python3.6/dist-packages/transformers/tokenization_utils_base.py:1944: FutureWarning: The `pad_to_max_length` argument is deprecated and will be removed in a future version, use `padding=True` or `padding='longest'` to pad to the longest sequence in the batch, or use `padding='max_length'` to pad to a max length. In this case, you can give a specific length with `max_length` (e.g. `max_length=45`) or leave max_length to None to pad to the maximal input size of the model (e.g. 512 for Bert).\n",
            "  FutureWarning,\n",
            "/usr/local/lib/python3.6/dist-packages/transformers/tokenization_utils_base.py:1944: FutureWarning: The `pad_to_max_length` argument is deprecated and will be removed in a future version, use `padding=True` or `padding='longest'` to pad to the longest sequence in the batch, or use `padding='max_length'` to pad to a max length. In this case, you can give a specific length with `max_length` (e.g. `max_length=45`) or leave max_length to None to pad to the maximal input size of the model (e.g. 512 for Bert).\n",
            "  FutureWarning,\n",
            "/usr/local/lib/python3.6/dist-packages/transformers/tokenization_utils_base.py:1944: FutureWarning: The `pad_to_max_length` argument is deprecated and will be removed in a future version, use `padding=True` or `padding='longest'` to pad to the longest sequence in the batch, or use `padding='max_length'` to pad to a max length. In this case, you can give a specific length with `max_length` (e.g. `max_length=45`) or leave max_length to None to pad to the maximal input size of the model (e.g. 512 for Bert).\n",
            "  FutureWarning,\n"
          ],
          "name": "stderr"
        },
        {
          "output_type": "stream",
          "text": [
            "Val   loss 1.0189160226069325 accuracy 0.8609523809523809\n",
            "\n",
            "Epoch 10/20\n",
            "----------\n"
          ],
          "name": "stdout"
        },
        {
          "output_type": "stream",
          "text": [
            "/usr/local/lib/python3.6/dist-packages/transformers/tokenization_utils_base.py:1944: FutureWarning: The `pad_to_max_length` argument is deprecated and will be removed in a future version, use `padding=True` or `padding='longest'` to pad to the longest sequence in the batch, or use `padding='max_length'` to pad to a max length. In this case, you can give a specific length with `max_length` (e.g. `max_length=45`) or leave max_length to None to pad to the maximal input size of the model (e.g. 512 for Bert).\n",
            "  FutureWarning,\n",
            "/usr/local/lib/python3.6/dist-packages/transformers/tokenization_utils_base.py:1944: FutureWarning: The `pad_to_max_length` argument is deprecated and will be removed in a future version, use `padding=True` or `padding='longest'` to pad to the longest sequence in the batch, or use `padding='max_length'` to pad to a max length. In this case, you can give a specific length with `max_length` (e.g. `max_length=45`) or leave max_length to None to pad to the maximal input size of the model (e.g. 512 for Bert).\n",
            "  FutureWarning,\n",
            "/usr/local/lib/python3.6/dist-packages/transformers/tokenization_utils_base.py:1944: FutureWarning: The `pad_to_max_length` argument is deprecated and will be removed in a future version, use `padding=True` or `padding='longest'` to pad to the longest sequence in the batch, or use `padding='max_length'` to pad to a max length. In this case, you can give a specific length with `max_length` (e.g. `max_length=45`) or leave max_length to None to pad to the maximal input size of the model (e.g. 512 for Bert).\n",
            "  FutureWarning,\n",
            "/usr/local/lib/python3.6/dist-packages/transformers/tokenization_utils_base.py:1944: FutureWarning: The `pad_to_max_length` argument is deprecated and will be removed in a future version, use `padding=True` or `padding='longest'` to pad to the longest sequence in the batch, or use `padding='max_length'` to pad to a max length. In this case, you can give a specific length with `max_length` (e.g. `max_length=45`) or leave max_length to None to pad to the maximal input size of the model (e.g. 512 for Bert).\n",
            "  FutureWarning,\n"
          ],
          "name": "stderr"
        },
        {
          "output_type": "stream",
          "text": [
            "Train loss 0.0555274219920006 accuracy 0.9846776754525246\n",
            "140652116545888\n"
          ],
          "name": "stdout"
        },
        {
          "output_type": "stream",
          "text": [
            "/usr/local/lib/python3.6/dist-packages/transformers/tokenization_utils_base.py:1944: FutureWarning: The `pad_to_max_length` argument is deprecated and will be removed in a future version, use `padding=True` or `padding='longest'` to pad to the longest sequence in the batch, or use `padding='max_length'` to pad to a max length. In this case, you can give a specific length with `max_length` (e.g. `max_length=45`) or leave max_length to None to pad to the maximal input size of the model (e.g. 512 for Bert).\n",
            "  FutureWarning,\n",
            "/usr/local/lib/python3.6/dist-packages/transformers/tokenization_utils_base.py:1944: FutureWarning: The `pad_to_max_length` argument is deprecated and will be removed in a future version, use `padding=True` or `padding='longest'` to pad to the longest sequence in the batch, or use `padding='max_length'` to pad to a max length. In this case, you can give a specific length with `max_length` (e.g. `max_length=45`) or leave max_length to None to pad to the maximal input size of the model (e.g. 512 for Bert).\n",
            "  FutureWarning,\n",
            "/usr/local/lib/python3.6/dist-packages/transformers/tokenization_utils_base.py:1944: FutureWarning: The `pad_to_max_length` argument is deprecated and will be removed in a future version, use `padding=True` or `padding='longest'` to pad to the longest sequence in the batch, or use `padding='max_length'` to pad to a max length. In this case, you can give a specific length with `max_length` (e.g. `max_length=45`) or leave max_length to None to pad to the maximal input size of the model (e.g. 512 for Bert).\n",
            "  FutureWarning,\n",
            "/usr/local/lib/python3.6/dist-packages/transformers/tokenization_utils_base.py:1944: FutureWarning: The `pad_to_max_length` argument is deprecated and will be removed in a future version, use `padding=True` or `padding='longest'` to pad to the longest sequence in the batch, or use `padding='max_length'` to pad to a max length. In this case, you can give a specific length with `max_length` (e.g. `max_length=45`) or leave max_length to None to pad to the maximal input size of the model (e.g. 512 for Bert).\n",
            "  FutureWarning,\n"
          ],
          "name": "stderr"
        },
        {
          "output_type": "stream",
          "text": [
            "Val   loss 1.0984238709042065 accuracy 0.8571428571428571\n",
            "\n",
            "Epoch 11/20\n",
            "----------\n"
          ],
          "name": "stdout"
        },
        {
          "output_type": "stream",
          "text": [
            "/usr/local/lib/python3.6/dist-packages/transformers/tokenization_utils_base.py:1944: FutureWarning: The `pad_to_max_length` argument is deprecated and will be removed in a future version, use `padding=True` or `padding='longest'` to pad to the longest sequence in the batch, or use `padding='max_length'` to pad to a max length. In this case, you can give a specific length with `max_length` (e.g. `max_length=45`) or leave max_length to None to pad to the maximal input size of the model (e.g. 512 for Bert).\n",
            "  FutureWarning,\n",
            "/usr/local/lib/python3.6/dist-packages/transformers/tokenization_utils_base.py:1944: FutureWarning: The `pad_to_max_length` argument is deprecated and will be removed in a future version, use `padding=True` or `padding='longest'` to pad to the longest sequence in the batch, or use `padding='max_length'` to pad to a max length. In this case, you can give a specific length with `max_length` (e.g. `max_length=45`) or leave max_length to None to pad to the maximal input size of the model (e.g. 512 for Bert).\n",
            "  FutureWarning,\n",
            "/usr/local/lib/python3.6/dist-packages/transformers/tokenization_utils_base.py:1944: FutureWarning: The `pad_to_max_length` argument is deprecated and will be removed in a future version, use `padding=True` or `padding='longest'` to pad to the longest sequence in the batch, or use `padding='max_length'` to pad to a max length. In this case, you can give a specific length with `max_length` (e.g. `max_length=45`) or leave max_length to None to pad to the maximal input size of the model (e.g. 512 for Bert).\n",
            "  FutureWarning,\n",
            "/usr/local/lib/python3.6/dist-packages/transformers/tokenization_utils_base.py:1944: FutureWarning: The `pad_to_max_length` argument is deprecated and will be removed in a future version, use `padding=True` or `padding='longest'` to pad to the longest sequence in the batch, or use `padding='max_length'` to pad to a max length. In this case, you can give a specific length with `max_length` (e.g. `max_length=45`) or leave max_length to None to pad to the maximal input size of the model (e.g. 512 for Bert).\n",
            "  FutureWarning,\n"
          ],
          "name": "stderr"
        },
        {
          "output_type": "stream",
          "text": [
            "Train loss 0.041306330548054736 accuracy 0.9880120673229597\n",
            "140652116545888\n"
          ],
          "name": "stdout"
        },
        {
          "output_type": "stream",
          "text": [
            "/usr/local/lib/python3.6/dist-packages/transformers/tokenization_utils_base.py:1944: FutureWarning: The `pad_to_max_length` argument is deprecated and will be removed in a future version, use `padding=True` or `padding='longest'` to pad to the longest sequence in the batch, or use `padding='max_length'` to pad to a max length. In this case, you can give a specific length with `max_length` (e.g. `max_length=45`) or leave max_length to None to pad to the maximal input size of the model (e.g. 512 for Bert).\n",
            "  FutureWarning,\n",
            "/usr/local/lib/python3.6/dist-packages/transformers/tokenization_utils_base.py:1944: FutureWarning: The `pad_to_max_length` argument is deprecated and will be removed in a future version, use `padding=True` or `padding='longest'` to pad to the longest sequence in the batch, or use `padding='max_length'` to pad to a max length. In this case, you can give a specific length with `max_length` (e.g. `max_length=45`) or leave max_length to None to pad to the maximal input size of the model (e.g. 512 for Bert).\n",
            "  FutureWarning,\n",
            "/usr/local/lib/python3.6/dist-packages/transformers/tokenization_utils_base.py:1944: FutureWarning: The `pad_to_max_length` argument is deprecated and will be removed in a future version, use `padding=True` or `padding='longest'` to pad to the longest sequence in the batch, or use `padding='max_length'` to pad to a max length. In this case, you can give a specific length with `max_length` (e.g. `max_length=45`) or leave max_length to None to pad to the maximal input size of the model (e.g. 512 for Bert).\n",
            "  FutureWarning,\n",
            "/usr/local/lib/python3.6/dist-packages/transformers/tokenization_utils_base.py:1944: FutureWarning: The `pad_to_max_length` argument is deprecated and will be removed in a future version, use `padding=True` or `padding='longest'` to pad to the longest sequence in the batch, or use `padding='max_length'` to pad to a max length. In this case, you can give a specific length with `max_length` (e.g. `max_length=45`) or leave max_length to None to pad to the maximal input size of the model (e.g. 512 for Bert).\n",
            "  FutureWarning,\n"
          ],
          "name": "stderr"
        },
        {
          "output_type": "stream",
          "text": [
            "Val   loss 1.189755562661131 accuracy 0.8501587301587301\n",
            "\n",
            "Epoch 12/20\n",
            "----------\n"
          ],
          "name": "stdout"
        },
        {
          "output_type": "stream",
          "text": [
            "/usr/local/lib/python3.6/dist-packages/transformers/tokenization_utils_base.py:1944: FutureWarning: The `pad_to_max_length` argument is deprecated and will be removed in a future version, use `padding=True` or `padding='longest'` to pad to the longest sequence in the batch, or use `padding='max_length'` to pad to a max length. In this case, you can give a specific length with `max_length` (e.g. `max_length=45`) or leave max_length to None to pad to the maximal input size of the model (e.g. 512 for Bert).\n",
            "  FutureWarning,\n",
            "/usr/local/lib/python3.6/dist-packages/transformers/tokenization_utils_base.py:1944: FutureWarning: The `pad_to_max_length` argument is deprecated and will be removed in a future version, use `padding=True` or `padding='longest'` to pad to the longest sequence in the batch, or use `padding='max_length'` to pad to a max length. In this case, you can give a specific length with `max_length` (e.g. `max_length=45`) or leave max_length to None to pad to the maximal input size of the model (e.g. 512 for Bert).\n",
            "  FutureWarning,\n",
            "/usr/local/lib/python3.6/dist-packages/transformers/tokenization_utils_base.py:1944: FutureWarning: The `pad_to_max_length` argument is deprecated and will be removed in a future version, use `padding=True` or `padding='longest'` to pad to the longest sequence in the batch, or use `padding='max_length'` to pad to a max length. In this case, you can give a specific length with `max_length` (e.g. `max_length=45`) or leave max_length to None to pad to the maximal input size of the model (e.g. 512 for Bert).\n",
            "  FutureWarning,\n",
            "/usr/local/lib/python3.6/dist-packages/transformers/tokenization_utils_base.py:1944: FutureWarning: The `pad_to_max_length` argument is deprecated and will be removed in a future version, use `padding=True` or `padding='longest'` to pad to the longest sequence in the batch, or use `padding='max_length'` to pad to a max length. In this case, you can give a specific length with `max_length` (e.g. `max_length=45`) or leave max_length to None to pad to the maximal input size of the model (e.g. 512 for Bert).\n",
            "  FutureWarning,\n"
          ],
          "name": "stderr"
        },
        {
          "output_type": "stream",
          "text": [
            "Train loss 0.04509105263943712 accuracy 0.9870593839314068\n",
            "140652116545888\n"
          ],
          "name": "stdout"
        },
        {
          "output_type": "stream",
          "text": [
            "/usr/local/lib/python3.6/dist-packages/transformers/tokenization_utils_base.py:1944: FutureWarning: The `pad_to_max_length` argument is deprecated and will be removed in a future version, use `padding=True` or `padding='longest'` to pad to the longest sequence in the batch, or use `padding='max_length'` to pad to a max length. In this case, you can give a specific length with `max_length` (e.g. `max_length=45`) or leave max_length to None to pad to the maximal input size of the model (e.g. 512 for Bert).\n",
            "  FutureWarning,\n",
            "/usr/local/lib/python3.6/dist-packages/transformers/tokenization_utils_base.py:1944: FutureWarning: The `pad_to_max_length` argument is deprecated and will be removed in a future version, use `padding=True` or `padding='longest'` to pad to the longest sequence in the batch, or use `padding='max_length'` to pad to a max length. In this case, you can give a specific length with `max_length` (e.g. `max_length=45`) or leave max_length to None to pad to the maximal input size of the model (e.g. 512 for Bert).\n",
            "  FutureWarning,\n",
            "/usr/local/lib/python3.6/dist-packages/transformers/tokenization_utils_base.py:1944: FutureWarning: The `pad_to_max_length` argument is deprecated and will be removed in a future version, use `padding=True` or `padding='longest'` to pad to the longest sequence in the batch, or use `padding='max_length'` to pad to a max length. In this case, you can give a specific length with `max_length` (e.g. `max_length=45`) or leave max_length to None to pad to the maximal input size of the model (e.g. 512 for Bert).\n",
            "  FutureWarning,\n",
            "/usr/local/lib/python3.6/dist-packages/transformers/tokenization_utils_base.py:1944: FutureWarning: The `pad_to_max_length` argument is deprecated and will be removed in a future version, use `padding=True` or `padding='longest'` to pad to the longest sequence in the batch, or use `padding='max_length'` to pad to a max length. In this case, you can give a specific length with `max_length` (e.g. `max_length=45`) or leave max_length to None to pad to the maximal input size of the model (e.g. 512 for Bert).\n",
            "  FutureWarning,\n"
          ],
          "name": "stderr"
        },
        {
          "output_type": "stream",
          "text": [
            "Val   loss 1.238019957915116 accuracy 0.8438095238095238\n",
            "\n",
            "Epoch 13/20\n",
            "----------\n"
          ],
          "name": "stdout"
        },
        {
          "output_type": "stream",
          "text": [
            "/usr/local/lib/python3.6/dist-packages/transformers/tokenization_utils_base.py:1944: FutureWarning: The `pad_to_max_length` argument is deprecated and will be removed in a future version, use `padding=True` or `padding='longest'` to pad to the longest sequence in the batch, or use `padding='max_length'` to pad to a max length. In this case, you can give a specific length with `max_length` (e.g. `max_length=45`) or leave max_length to None to pad to the maximal input size of the model (e.g. 512 for Bert).\n",
            "  FutureWarning,\n",
            "/usr/local/lib/python3.6/dist-packages/transformers/tokenization_utils_base.py:1944: FutureWarning: The `pad_to_max_length` argument is deprecated and will be removed in a future version, use `padding=True` or `padding='longest'` to pad to the longest sequence in the batch, or use `padding='max_length'` to pad to a max length. In this case, you can give a specific length with `max_length` (e.g. `max_length=45`) or leave max_length to None to pad to the maximal input size of the model (e.g. 512 for Bert).\n",
            "  FutureWarning,\n",
            "/usr/local/lib/python3.6/dist-packages/transformers/tokenization_utils_base.py:1944: FutureWarning: The `pad_to_max_length` argument is deprecated and will be removed in a future version, use `padding=True` or `padding='longest'` to pad to the longest sequence in the batch, or use `padding='max_length'` to pad to a max length. In this case, you can give a specific length with `max_length` (e.g. `max_length=45`) or leave max_length to None to pad to the maximal input size of the model (e.g. 512 for Bert).\n",
            "  FutureWarning,\n",
            "/usr/local/lib/python3.6/dist-packages/transformers/tokenization_utils_base.py:1944: FutureWarning: The `pad_to_max_length` argument is deprecated and will be removed in a future version, use `padding=True` or `padding='longest'` to pad to the longest sequence in the batch, or use `padding='max_length'` to pad to a max length. In this case, you can give a specific length with `max_length` (e.g. `max_length=45`) or leave max_length to None to pad to the maximal input size of the model (e.g. 512 for Bert).\n",
            "  FutureWarning,\n"
          ],
          "name": "stderr"
        },
        {
          "output_type": "stream",
          "text": [
            "Train loss 0.03475445593121641 accuracy 0.9880120673229597\n",
            "140652116545888\n"
          ],
          "name": "stdout"
        },
        {
          "output_type": "stream",
          "text": [
            "/usr/local/lib/python3.6/dist-packages/transformers/tokenization_utils_base.py:1944: FutureWarning: The `pad_to_max_length` argument is deprecated and will be removed in a future version, use `padding=True` or `padding='longest'` to pad to the longest sequence in the batch, or use `padding='max_length'` to pad to a max length. In this case, you can give a specific length with `max_length` (e.g. `max_length=45`) or leave max_length to None to pad to the maximal input size of the model (e.g. 512 for Bert).\n",
            "  FutureWarning,\n",
            "/usr/local/lib/python3.6/dist-packages/transformers/tokenization_utils_base.py:1944: FutureWarning: The `pad_to_max_length` argument is deprecated and will be removed in a future version, use `padding=True` or `padding='longest'` to pad to the longest sequence in the batch, or use `padding='max_length'` to pad to a max length. In this case, you can give a specific length with `max_length` (e.g. `max_length=45`) or leave max_length to None to pad to the maximal input size of the model (e.g. 512 for Bert).\n",
            "  FutureWarning,\n",
            "/usr/local/lib/python3.6/dist-packages/transformers/tokenization_utils_base.py:1944: FutureWarning: The `pad_to_max_length` argument is deprecated and will be removed in a future version, use `padding=True` or `padding='longest'` to pad to the longest sequence in the batch, or use `padding='max_length'` to pad to a max length. In this case, you can give a specific length with `max_length` (e.g. `max_length=45`) or leave max_length to None to pad to the maximal input size of the model (e.g. 512 for Bert).\n",
            "  FutureWarning,\n",
            "/usr/local/lib/python3.6/dist-packages/transformers/tokenization_utils_base.py:1944: FutureWarning: The `pad_to_max_length` argument is deprecated and will be removed in a future version, use `padding=True` or `padding='longest'` to pad to the longest sequence in the batch, or use `padding='max_length'` to pad to a max length. In this case, you can give a specific length with `max_length` (e.g. `max_length=45`) or leave max_length to None to pad to the maximal input size of the model (e.g. 512 for Bert).\n",
            "  FutureWarning,\n"
          ],
          "name": "stderr"
        },
        {
          "output_type": "stream",
          "text": [
            "Val   loss 1.2526119636857385 accuracy 0.8488888888888889\n",
            "\n",
            "Epoch 14/20\n",
            "----------\n"
          ],
          "name": "stdout"
        },
        {
          "output_type": "stream",
          "text": [
            "/usr/local/lib/python3.6/dist-packages/transformers/tokenization_utils_base.py:1944: FutureWarning: The `pad_to_max_length` argument is deprecated and will be removed in a future version, use `padding=True` or `padding='longest'` to pad to the longest sequence in the batch, or use `padding='max_length'` to pad to a max length. In this case, you can give a specific length with `max_length` (e.g. `max_length=45`) or leave max_length to None to pad to the maximal input size of the model (e.g. 512 for Bert).\n",
            "  FutureWarning,\n",
            "/usr/local/lib/python3.6/dist-packages/transformers/tokenization_utils_base.py:1944: FutureWarning: The `pad_to_max_length` argument is deprecated and will be removed in a future version, use `padding=True` or `padding='longest'` to pad to the longest sequence in the batch, or use `padding='max_length'` to pad to a max length. In this case, you can give a specific length with `max_length` (e.g. `max_length=45`) or leave max_length to None to pad to the maximal input size of the model (e.g. 512 for Bert).\n",
            "  FutureWarning,\n",
            "/usr/local/lib/python3.6/dist-packages/transformers/tokenization_utils_base.py:1944: FutureWarning: The `pad_to_max_length` argument is deprecated and will be removed in a future version, use `padding=True` or `padding='longest'` to pad to the longest sequence in the batch, or use `padding='max_length'` to pad to a max length. In this case, you can give a specific length with `max_length` (e.g. `max_length=45`) or leave max_length to None to pad to the maximal input size of the model (e.g. 512 for Bert).\n",
            "  FutureWarning,\n",
            "/usr/local/lib/python3.6/dist-packages/transformers/tokenization_utils_base.py:1944: FutureWarning: The `pad_to_max_length` argument is deprecated and will be removed in a future version, use `padding=True` or `padding='longest'` to pad to the longest sequence in the batch, or use `padding='max_length'` to pad to a max length. In this case, you can give a specific length with `max_length` (e.g. `max_length=45`) or leave max_length to None to pad to the maximal input size of the model (e.g. 512 for Bert).\n",
            "  FutureWarning,\n"
          ],
          "name": "stderr"
        },
        {
          "output_type": "stream",
          "text": [
            "Train loss 0.03450255140064586 accuracy 0.9880120673229597\n",
            "140652116545888\n"
          ],
          "name": "stdout"
        },
        {
          "output_type": "stream",
          "text": [
            "/usr/local/lib/python3.6/dist-packages/transformers/tokenization_utils_base.py:1944: FutureWarning: The `pad_to_max_length` argument is deprecated and will be removed in a future version, use `padding=True` or `padding='longest'` to pad to the longest sequence in the batch, or use `padding='max_length'` to pad to a max length. In this case, you can give a specific length with `max_length` (e.g. `max_length=45`) or leave max_length to None to pad to the maximal input size of the model (e.g. 512 for Bert).\n",
            "  FutureWarning,\n",
            "/usr/local/lib/python3.6/dist-packages/transformers/tokenization_utils_base.py:1944: FutureWarning: The `pad_to_max_length` argument is deprecated and will be removed in a future version, use `padding=True` or `padding='longest'` to pad to the longest sequence in the batch, or use `padding='max_length'` to pad to a max length. In this case, you can give a specific length with `max_length` (e.g. `max_length=45`) or leave max_length to None to pad to the maximal input size of the model (e.g. 512 for Bert).\n",
            "  FutureWarning,\n",
            "/usr/local/lib/python3.6/dist-packages/transformers/tokenization_utils_base.py:1944: FutureWarning: The `pad_to_max_length` argument is deprecated and will be removed in a future version, use `padding=True` or `padding='longest'` to pad to the longest sequence in the batch, or use `padding='max_length'` to pad to a max length. In this case, you can give a specific length with `max_length` (e.g. `max_length=45`) or leave max_length to None to pad to the maximal input size of the model (e.g. 512 for Bert).\n",
            "  FutureWarning,\n",
            "/usr/local/lib/python3.6/dist-packages/transformers/tokenization_utils_base.py:1944: FutureWarning: The `pad_to_max_length` argument is deprecated and will be removed in a future version, use `padding=True` or `padding='longest'` to pad to the longest sequence in the batch, or use `padding='max_length'` to pad to a max length. In this case, you can give a specific length with `max_length` (e.g. `max_length=45`) or leave max_length to None to pad to the maximal input size of the model (e.g. 512 for Bert).\n",
            "  FutureWarning,\n"
          ],
          "name": "stderr"
        },
        {
          "output_type": "stream",
          "text": [
            "Val   loss 1.188150430349013 accuracy 0.8584126984126984\n",
            "\n",
            "Epoch 15/20\n",
            "----------\n"
          ],
          "name": "stdout"
        },
        {
          "output_type": "stream",
          "text": [
            "/usr/local/lib/python3.6/dist-packages/transformers/tokenization_utils_base.py:1944: FutureWarning: The `pad_to_max_length` argument is deprecated and will be removed in a future version, use `padding=True` or `padding='longest'` to pad to the longest sequence in the batch, or use `padding='max_length'` to pad to a max length. In this case, you can give a specific length with `max_length` (e.g. `max_length=45`) or leave max_length to None to pad to the maximal input size of the model (e.g. 512 for Bert).\n",
            "  FutureWarning,\n",
            "/usr/local/lib/python3.6/dist-packages/transformers/tokenization_utils_base.py:1944: FutureWarning: The `pad_to_max_length` argument is deprecated and will be removed in a future version, use `padding=True` or `padding='longest'` to pad to the longest sequence in the batch, or use `padding='max_length'` to pad to a max length. In this case, you can give a specific length with `max_length` (e.g. `max_length=45`) or leave max_length to None to pad to the maximal input size of the model (e.g. 512 for Bert).\n",
            "  FutureWarning,\n",
            "/usr/local/lib/python3.6/dist-packages/transformers/tokenization_utils_base.py:1944: FutureWarning: The `pad_to_max_length` argument is deprecated and will be removed in a future version, use `padding=True` or `padding='longest'` to pad to the longest sequence in the batch, or use `padding='max_length'` to pad to a max length. In this case, you can give a specific length with `max_length` (e.g. `max_length=45`) or leave max_length to None to pad to the maximal input size of the model (e.g. 512 for Bert).\n",
            "  FutureWarning,\n",
            "/usr/local/lib/python3.6/dist-packages/transformers/tokenization_utils_base.py:1944: FutureWarning: The `pad_to_max_length` argument is deprecated and will be removed in a future version, use `padding=True` or `padding='longest'` to pad to the longest sequence in the batch, or use `padding='max_length'` to pad to a max length. In this case, you can give a specific length with `max_length` (e.g. `max_length=45`) or leave max_length to None to pad to the maximal input size of the model (e.g. 512 for Bert).\n",
            "  FutureWarning,\n"
          ],
          "name": "stderr"
        },
        {
          "output_type": "stream",
          "text": [
            "Train loss 0.030378943800328878 accuracy 0.989441092410289\n",
            "140652116545888\n"
          ],
          "name": "stdout"
        },
        {
          "output_type": "stream",
          "text": [
            "/usr/local/lib/python3.6/dist-packages/transformers/tokenization_utils_base.py:1944: FutureWarning: The `pad_to_max_length` argument is deprecated and will be removed in a future version, use `padding=True` or `padding='longest'` to pad to the longest sequence in the batch, or use `padding='max_length'` to pad to a max length. In this case, you can give a specific length with `max_length` (e.g. `max_length=45`) or leave max_length to None to pad to the maximal input size of the model (e.g. 512 for Bert).\n",
            "  FutureWarning,\n",
            "/usr/local/lib/python3.6/dist-packages/transformers/tokenization_utils_base.py:1944: FutureWarning: The `pad_to_max_length` argument is deprecated and will be removed in a future version, use `padding=True` or `padding='longest'` to pad to the longest sequence in the batch, or use `padding='max_length'` to pad to a max length. In this case, you can give a specific length with `max_length` (e.g. `max_length=45`) or leave max_length to None to pad to the maximal input size of the model (e.g. 512 for Bert).\n",
            "  FutureWarning,\n",
            "/usr/local/lib/python3.6/dist-packages/transformers/tokenization_utils_base.py:1944: FutureWarning: The `pad_to_max_length` argument is deprecated and will be removed in a future version, use `padding=True` or `padding='longest'` to pad to the longest sequence in the batch, or use `padding='max_length'` to pad to a max length. In this case, you can give a specific length with `max_length` (e.g. `max_length=45`) or leave max_length to None to pad to the maximal input size of the model (e.g. 512 for Bert).\n",
            "  FutureWarning,\n",
            "/usr/local/lib/python3.6/dist-packages/transformers/tokenization_utils_base.py:1944: FutureWarning: The `pad_to_max_length` argument is deprecated and will be removed in a future version, use `padding=True` or `padding='longest'` to pad to the longest sequence in the batch, or use `padding='max_length'` to pad to a max length. In this case, you can give a specific length with `max_length` (e.g. `max_length=45`) or leave max_length to None to pad to the maximal input size of the model (e.g. 512 for Bert).\n",
            "  FutureWarning,\n"
          ],
          "name": "stderr"
        },
        {
          "output_type": "stream",
          "text": [
            "Val   loss 1.2680445346664746 accuracy 0.8507936507936508\n",
            "\n",
            "Epoch 16/20\n",
            "----------\n"
          ],
          "name": "stdout"
        },
        {
          "output_type": "stream",
          "text": [
            "/usr/local/lib/python3.6/dist-packages/transformers/tokenization_utils_base.py:1944: FutureWarning: The `pad_to_max_length` argument is deprecated and will be removed in a future version, use `padding=True` or `padding='longest'` to pad to the longest sequence in the batch, or use `padding='max_length'` to pad to a max length. In this case, you can give a specific length with `max_length` (e.g. `max_length=45`) or leave max_length to None to pad to the maximal input size of the model (e.g. 512 for Bert).\n",
            "  FutureWarning,\n",
            "/usr/local/lib/python3.6/dist-packages/transformers/tokenization_utils_base.py:1944: FutureWarning: The `pad_to_max_length` argument is deprecated and will be removed in a future version, use `padding=True` or `padding='longest'` to pad to the longest sequence in the batch, or use `padding='max_length'` to pad to a max length. In this case, you can give a specific length with `max_length` (e.g. `max_length=45`) or leave max_length to None to pad to the maximal input size of the model (e.g. 512 for Bert).\n",
            "  FutureWarning,\n",
            "/usr/local/lib/python3.6/dist-packages/transformers/tokenization_utils_base.py:1944: FutureWarning: The `pad_to_max_length` argument is deprecated and will be removed in a future version, use `padding=True` or `padding='longest'` to pad to the longest sequence in the batch, or use `padding='max_length'` to pad to a max length. In this case, you can give a specific length with `max_length` (e.g. `max_length=45`) or leave max_length to None to pad to the maximal input size of the model (e.g. 512 for Bert).\n",
            "  FutureWarning,\n",
            "/usr/local/lib/python3.6/dist-packages/transformers/tokenization_utils_base.py:1944: FutureWarning: The `pad_to_max_length` argument is deprecated and will be removed in a future version, use `padding=True` or `padding='longest'` to pad to the longest sequence in the batch, or use `padding='max_length'` to pad to a max length. In this case, you can give a specific length with `max_length` (e.g. `max_length=45`) or leave max_length to None to pad to the maximal input size of the model (e.g. 512 for Bert).\n",
            "  FutureWarning,\n"
          ],
          "name": "stderr"
        },
        {
          "output_type": "stream",
          "text": [
            "Train loss 0.02803585197336804 accuracy 0.9900762146713242\n",
            "140652116545888\n"
          ],
          "name": "stdout"
        },
        {
          "output_type": "stream",
          "text": [
            "/usr/local/lib/python3.6/dist-packages/transformers/tokenization_utils_base.py:1944: FutureWarning: The `pad_to_max_length` argument is deprecated and will be removed in a future version, use `padding=True` or `padding='longest'` to pad to the longest sequence in the batch, or use `padding='max_length'` to pad to a max length. In this case, you can give a specific length with `max_length` (e.g. `max_length=45`) or leave max_length to None to pad to the maximal input size of the model (e.g. 512 for Bert).\n",
            "  FutureWarning,\n",
            "/usr/local/lib/python3.6/dist-packages/transformers/tokenization_utils_base.py:1944: FutureWarning: The `pad_to_max_length` argument is deprecated and will be removed in a future version, use `padding=True` or `padding='longest'` to pad to the longest sequence in the batch, or use `padding='max_length'` to pad to a max length. In this case, you can give a specific length with `max_length` (e.g. `max_length=45`) or leave max_length to None to pad to the maximal input size of the model (e.g. 512 for Bert).\n",
            "  FutureWarning,\n",
            "/usr/local/lib/python3.6/dist-packages/transformers/tokenization_utils_base.py:1944: FutureWarning: The `pad_to_max_length` argument is deprecated and will be removed in a future version, use `padding=True` or `padding='longest'` to pad to the longest sequence in the batch, or use `padding='max_length'` to pad to a max length. In this case, you can give a specific length with `max_length` (e.g. `max_length=45`) or leave max_length to None to pad to the maximal input size of the model (e.g. 512 for Bert).\n",
            "  FutureWarning,\n",
            "/usr/local/lib/python3.6/dist-packages/transformers/tokenization_utils_base.py:1944: FutureWarning: The `pad_to_max_length` argument is deprecated and will be removed in a future version, use `padding=True` or `padding='longest'` to pad to the longest sequence in the batch, or use `padding='max_length'` to pad to a max length. In this case, you can give a specific length with `max_length` (e.g. `max_length=45`) or leave max_length to None to pad to the maximal input size of the model (e.g. 512 for Bert).\n",
            "  FutureWarning,\n"
          ],
          "name": "stderr"
        },
        {
          "output_type": "stream",
          "text": [
            "Val   loss 1.2327870257130682 accuracy 0.8584126984126984\n",
            "\n",
            "Epoch 17/20\n",
            "----------\n"
          ],
          "name": "stdout"
        },
        {
          "output_type": "stream",
          "text": [
            "/usr/local/lib/python3.6/dist-packages/transformers/tokenization_utils_base.py:1944: FutureWarning: The `pad_to_max_length` argument is deprecated and will be removed in a future version, use `padding=True` or `padding='longest'` to pad to the longest sequence in the batch, or use `padding='max_length'` to pad to a max length. In this case, you can give a specific length with `max_length` (e.g. `max_length=45`) or leave max_length to None to pad to the maximal input size of the model (e.g. 512 for Bert).\n",
            "  FutureWarning,\n",
            "/usr/local/lib/python3.6/dist-packages/transformers/tokenization_utils_base.py:1944: FutureWarning: The `pad_to_max_length` argument is deprecated and will be removed in a future version, use `padding=True` or `padding='longest'` to pad to the longest sequence in the batch, or use `padding='max_length'` to pad to a max length. In this case, you can give a specific length with `max_length` (e.g. `max_length=45`) or leave max_length to None to pad to the maximal input size of the model (e.g. 512 for Bert).\n",
            "  FutureWarning,\n",
            "/usr/local/lib/python3.6/dist-packages/transformers/tokenization_utils_base.py:1944: FutureWarning: The `pad_to_max_length` argument is deprecated and will be removed in a future version, use `padding=True` or `padding='longest'` to pad to the longest sequence in the batch, or use `padding='max_length'` to pad to a max length. In this case, you can give a specific length with `max_length` (e.g. `max_length=45`) or leave max_length to None to pad to the maximal input size of the model (e.g. 512 for Bert).\n",
            "  FutureWarning,\n",
            "/usr/local/lib/python3.6/dist-packages/transformers/tokenization_utils_base.py:1944: FutureWarning: The `pad_to_max_length` argument is deprecated and will be removed in a future version, use `padding=True` or `padding='longest'` to pad to the longest sequence in the batch, or use `padding='max_length'` to pad to a max length. In this case, you can give a specific length with `max_length` (e.g. `max_length=45`) or leave max_length to None to pad to the maximal input size of the model (e.g. 512 for Bert).\n",
            "  FutureWarning,\n"
          ],
          "name": "stderr"
        },
        {
          "output_type": "stream",
          "text": [
            "Train loss 0.02659706352001125 accuracy 0.9896792632581772\n",
            "140652116545888\n"
          ],
          "name": "stdout"
        },
        {
          "output_type": "stream",
          "text": [
            "/usr/local/lib/python3.6/dist-packages/transformers/tokenization_utils_base.py:1944: FutureWarning: The `pad_to_max_length` argument is deprecated and will be removed in a future version, use `padding=True` or `padding='longest'` to pad to the longest sequence in the batch, or use `padding='max_length'` to pad to a max length. In this case, you can give a specific length with `max_length` (e.g. `max_length=45`) or leave max_length to None to pad to the maximal input size of the model (e.g. 512 for Bert).\n",
            "  FutureWarning,\n",
            "/usr/local/lib/python3.6/dist-packages/transformers/tokenization_utils_base.py:1944: FutureWarning: The `pad_to_max_length` argument is deprecated and will be removed in a future version, use `padding=True` or `padding='longest'` to pad to the longest sequence in the batch, or use `padding='max_length'` to pad to a max length. In this case, you can give a specific length with `max_length` (e.g. `max_length=45`) or leave max_length to None to pad to the maximal input size of the model (e.g. 512 for Bert).\n",
            "  FutureWarning,\n",
            "/usr/local/lib/python3.6/dist-packages/transformers/tokenization_utils_base.py:1944: FutureWarning: The `pad_to_max_length` argument is deprecated and will be removed in a future version, use `padding=True` or `padding='longest'` to pad to the longest sequence in the batch, or use `padding='max_length'` to pad to a max length. In this case, you can give a specific length with `max_length` (e.g. `max_length=45`) or leave max_length to None to pad to the maximal input size of the model (e.g. 512 for Bert).\n",
            "  FutureWarning,\n",
            "/usr/local/lib/python3.6/dist-packages/transformers/tokenization_utils_base.py:1944: FutureWarning: The `pad_to_max_length` argument is deprecated and will be removed in a future version, use `padding=True` or `padding='longest'` to pad to the longest sequence in the batch, or use `padding='max_length'` to pad to a max length. In this case, you can give a specific length with `max_length` (e.g. `max_length=45`) or leave max_length to None to pad to the maximal input size of the model (e.g. 512 for Bert).\n",
            "  FutureWarning,\n"
          ],
          "name": "stderr"
        },
        {
          "output_type": "stream",
          "text": [
            "Val   loss 1.239323860038205 accuracy 0.8558730158730159\n",
            "\n",
            "Epoch 18/20\n",
            "----------\n"
          ],
          "name": "stdout"
        },
        {
          "output_type": "stream",
          "text": [
            "/usr/local/lib/python3.6/dist-packages/transformers/tokenization_utils_base.py:1944: FutureWarning: The `pad_to_max_length` argument is deprecated and will be removed in a future version, use `padding=True` or `padding='longest'` to pad to the longest sequence in the batch, or use `padding='max_length'` to pad to a max length. In this case, you can give a specific length with `max_length` (e.g. `max_length=45`) or leave max_length to None to pad to the maximal input size of the model (e.g. 512 for Bert).\n",
            "  FutureWarning,\n",
            "/usr/local/lib/python3.6/dist-packages/transformers/tokenization_utils_base.py:1944: FutureWarning: The `pad_to_max_length` argument is deprecated and will be removed in a future version, use `padding=True` or `padding='longest'` to pad to the longest sequence in the batch, or use `padding='max_length'` to pad to a max length. In this case, you can give a specific length with `max_length` (e.g. `max_length=45`) or leave max_length to None to pad to the maximal input size of the model (e.g. 512 for Bert).\n",
            "  FutureWarning,\n",
            "/usr/local/lib/python3.6/dist-packages/transformers/tokenization_utils_base.py:1944: FutureWarning: The `pad_to_max_length` argument is deprecated and will be removed in a future version, use `padding=True` or `padding='longest'` to pad to the longest sequence in the batch, or use `padding='max_length'` to pad to a max length. In this case, you can give a specific length with `max_length` (e.g. `max_length=45`) or leave max_length to None to pad to the maximal input size of the model (e.g. 512 for Bert).\n",
            "  FutureWarning,\n",
            "/usr/local/lib/python3.6/dist-packages/transformers/tokenization_utils_base.py:1944: FutureWarning: The `pad_to_max_length` argument is deprecated and will be removed in a future version, use `padding=True` or `padding='longest'` to pad to the longest sequence in the batch, or use `padding='max_length'` to pad to a max length. In this case, you can give a specific length with `max_length` (e.g. `max_length=45`) or leave max_length to None to pad to the maximal input size of the model (e.g. 512 for Bert).\n",
            "  FutureWarning,\n"
          ],
          "name": "stderr"
        },
        {
          "output_type": "stream",
          "text": [
            "Train loss 0.023374656766556222 accuracy 0.9912670689107653\n",
            "140652116545888\n"
          ],
          "name": "stdout"
        },
        {
          "output_type": "stream",
          "text": [
            "/usr/local/lib/python3.6/dist-packages/transformers/tokenization_utils_base.py:1944: FutureWarning: The `pad_to_max_length` argument is deprecated and will be removed in a future version, use `padding=True` or `padding='longest'` to pad to the longest sequence in the batch, or use `padding='max_length'` to pad to a max length. In this case, you can give a specific length with `max_length` (e.g. `max_length=45`) or leave max_length to None to pad to the maximal input size of the model (e.g. 512 for Bert).\n",
            "  FutureWarning,\n",
            "/usr/local/lib/python3.6/dist-packages/transformers/tokenization_utils_base.py:1944: FutureWarning: The `pad_to_max_length` argument is deprecated and will be removed in a future version, use `padding=True` or `padding='longest'` to pad to the longest sequence in the batch, or use `padding='max_length'` to pad to a max length. In this case, you can give a specific length with `max_length` (e.g. `max_length=45`) or leave max_length to None to pad to the maximal input size of the model (e.g. 512 for Bert).\n",
            "  FutureWarning,\n",
            "/usr/local/lib/python3.6/dist-packages/transformers/tokenization_utils_base.py:1944: FutureWarning: The `pad_to_max_length` argument is deprecated and will be removed in a future version, use `padding=True` or `padding='longest'` to pad to the longest sequence in the batch, or use `padding='max_length'` to pad to a max length. In this case, you can give a specific length with `max_length` (e.g. `max_length=45`) or leave max_length to None to pad to the maximal input size of the model (e.g. 512 for Bert).\n",
            "  FutureWarning,\n",
            "/usr/local/lib/python3.6/dist-packages/transformers/tokenization_utils_base.py:1944: FutureWarning: The `pad_to_max_length` argument is deprecated and will be removed in a future version, use `padding=True` or `padding='longest'` to pad to the longest sequence in the batch, or use `padding='max_length'` to pad to a max length. In this case, you can give a specific length with `max_length` (e.g. `max_length=45`) or leave max_length to None to pad to the maximal input size of the model (e.g. 512 for Bert).\n",
            "  FutureWarning,\n"
          ],
          "name": "stderr"
        },
        {
          "output_type": "stream",
          "text": [
            "Val   loss 1.2539302927846556 accuracy 0.8571428571428571\n",
            "\n",
            "Epoch 19/20\n",
            "----------\n"
          ],
          "name": "stdout"
        },
        {
          "output_type": "stream",
          "text": [
            "/usr/local/lib/python3.6/dist-packages/transformers/tokenization_utils_base.py:1944: FutureWarning: The `pad_to_max_length` argument is deprecated and will be removed in a future version, use `padding=True` or `padding='longest'` to pad to the longest sequence in the batch, or use `padding='max_length'` to pad to a max length. In this case, you can give a specific length with `max_length` (e.g. `max_length=45`) or leave max_length to None to pad to the maximal input size of the model (e.g. 512 for Bert).\n",
            "  FutureWarning,\n",
            "/usr/local/lib/python3.6/dist-packages/transformers/tokenization_utils_base.py:1944: FutureWarning: The `pad_to_max_length` argument is deprecated and will be removed in a future version, use `padding=True` or `padding='longest'` to pad to the longest sequence in the batch, or use `padding='max_length'` to pad to a max length. In this case, you can give a specific length with `max_length` (e.g. `max_length=45`) or leave max_length to None to pad to the maximal input size of the model (e.g. 512 for Bert).\n",
            "  FutureWarning,\n",
            "/usr/local/lib/python3.6/dist-packages/transformers/tokenization_utils_base.py:1944: FutureWarning: The `pad_to_max_length` argument is deprecated and will be removed in a future version, use `padding=True` or `padding='longest'` to pad to the longest sequence in the batch, or use `padding='max_length'` to pad to a max length. In this case, you can give a specific length with `max_length` (e.g. `max_length=45`) or leave max_length to None to pad to the maximal input size of the model (e.g. 512 for Bert).\n",
            "  FutureWarning,\n",
            "/usr/local/lib/python3.6/dist-packages/transformers/tokenization_utils_base.py:1944: FutureWarning: The `pad_to_max_length` argument is deprecated and will be removed in a future version, use `padding=True` or `padding='longest'` to pad to the longest sequence in the batch, or use `padding='max_length'` to pad to a max length. In this case, you can give a specific length with `max_length` (e.g. `max_length=45`) or leave max_length to None to pad to the maximal input size of the model (e.g. 512 for Bert).\n",
            "  FutureWarning,\n"
          ],
          "name": "stderr"
        },
        {
          "output_type": "stream",
          "text": [
            "Train loss 0.020904029777759972 accuracy 0.9911082883455066\n",
            "140652116545888\n"
          ],
          "name": "stdout"
        },
        {
          "output_type": "stream",
          "text": [
            "/usr/local/lib/python3.6/dist-packages/transformers/tokenization_utils_base.py:1944: FutureWarning: The `pad_to_max_length` argument is deprecated and will be removed in a future version, use `padding=True` or `padding='longest'` to pad to the longest sequence in the batch, or use `padding='max_length'` to pad to a max length. In this case, you can give a specific length with `max_length` (e.g. `max_length=45`) or leave max_length to None to pad to the maximal input size of the model (e.g. 512 for Bert).\n",
            "  FutureWarning,\n",
            "/usr/local/lib/python3.6/dist-packages/transformers/tokenization_utils_base.py:1944: FutureWarning: The `pad_to_max_length` argument is deprecated and will be removed in a future version, use `padding=True` or `padding='longest'` to pad to the longest sequence in the batch, or use `padding='max_length'` to pad to a max length. In this case, you can give a specific length with `max_length` (e.g. `max_length=45`) or leave max_length to None to pad to the maximal input size of the model (e.g. 512 for Bert).\n",
            "  FutureWarning,\n",
            "/usr/local/lib/python3.6/dist-packages/transformers/tokenization_utils_base.py:1944: FutureWarning: The `pad_to_max_length` argument is deprecated and will be removed in a future version, use `padding=True` or `padding='longest'` to pad to the longest sequence in the batch, or use `padding='max_length'` to pad to a max length. In this case, you can give a specific length with `max_length` (e.g. `max_length=45`) or leave max_length to None to pad to the maximal input size of the model (e.g. 512 for Bert).\n",
            "  FutureWarning,\n",
            "/usr/local/lib/python3.6/dist-packages/transformers/tokenization_utils_base.py:1944: FutureWarning: The `pad_to_max_length` argument is deprecated and will be removed in a future version, use `padding=True` or `padding='longest'` to pad to the longest sequence in the batch, or use `padding='max_length'` to pad to a max length. In this case, you can give a specific length with `max_length` (e.g. `max_length=45`) or leave max_length to None to pad to the maximal input size of the model (e.g. 512 for Bert).\n",
            "  FutureWarning,\n"
          ],
          "name": "stderr"
        },
        {
          "output_type": "stream",
          "text": [
            "Val   loss 1.2711940026562265 accuracy 0.8590476190476191\n",
            "\n",
            "Epoch 20/20\n",
            "----------\n"
          ],
          "name": "stdout"
        },
        {
          "output_type": "stream",
          "text": [
            "/usr/local/lib/python3.6/dist-packages/transformers/tokenization_utils_base.py:1944: FutureWarning: The `pad_to_max_length` argument is deprecated and will be removed in a future version, use `padding=True` or `padding='longest'` to pad to the longest sequence in the batch, or use `padding='max_length'` to pad to a max length. In this case, you can give a specific length with `max_length` (e.g. `max_length=45`) or leave max_length to None to pad to the maximal input size of the model (e.g. 512 for Bert).\n",
            "  FutureWarning,\n",
            "/usr/local/lib/python3.6/dist-packages/transformers/tokenization_utils_base.py:1944: FutureWarning: The `pad_to_max_length` argument is deprecated and will be removed in a future version, use `padding=True` or `padding='longest'` to pad to the longest sequence in the batch, or use `padding='max_length'` to pad to a max length. In this case, you can give a specific length with `max_length` (e.g. `max_length=45`) or leave max_length to None to pad to the maximal input size of the model (e.g. 512 for Bert).\n",
            "  FutureWarning,\n",
            "/usr/local/lib/python3.6/dist-packages/transformers/tokenization_utils_base.py:1944: FutureWarning: The `pad_to_max_length` argument is deprecated and will be removed in a future version, use `padding=True` or `padding='longest'` to pad to the longest sequence in the batch, or use `padding='max_length'` to pad to a max length. In this case, you can give a specific length with `max_length` (e.g. `max_length=45`) or leave max_length to None to pad to the maximal input size of the model (e.g. 512 for Bert).\n",
            "  FutureWarning,\n",
            "/usr/local/lib/python3.6/dist-packages/transformers/tokenization_utils_base.py:1944: FutureWarning: The `pad_to_max_length` argument is deprecated and will be removed in a future version, use `padding=True` or `padding='longest'` to pad to the longest sequence in the batch, or use `padding='max_length'` to pad to a max length. In this case, you can give a specific length with `max_length` (e.g. `max_length=45`) or leave max_length to None to pad to the maximal input size of the model (e.g. 512 for Bert).\n",
            "  FutureWarning,\n"
          ],
          "name": "stderr"
        },
        {
          "output_type": "stream",
          "text": [
            "Train loss 0.020247684636633772 accuracy 0.9912670689107653\n",
            "140652116545888\n"
          ],
          "name": "stdout"
        },
        {
          "output_type": "stream",
          "text": [
            "/usr/local/lib/python3.6/dist-packages/transformers/tokenization_utils_base.py:1944: FutureWarning: The `pad_to_max_length` argument is deprecated and will be removed in a future version, use `padding=True` or `padding='longest'` to pad to the longest sequence in the batch, or use `padding='max_length'` to pad to a max length. In this case, you can give a specific length with `max_length` (e.g. `max_length=45`) or leave max_length to None to pad to the maximal input size of the model (e.g. 512 for Bert).\n",
            "  FutureWarning,\n",
            "/usr/local/lib/python3.6/dist-packages/transformers/tokenization_utils_base.py:1944: FutureWarning: The `pad_to_max_length` argument is deprecated and will be removed in a future version, use `padding=True` or `padding='longest'` to pad to the longest sequence in the batch, or use `padding='max_length'` to pad to a max length. In this case, you can give a specific length with `max_length` (e.g. `max_length=45`) or leave max_length to None to pad to the maximal input size of the model (e.g. 512 for Bert).\n",
            "  FutureWarning,\n",
            "/usr/local/lib/python3.6/dist-packages/transformers/tokenization_utils_base.py:1944: FutureWarning: The `pad_to_max_length` argument is deprecated and will be removed in a future version, use `padding=True` or `padding='longest'` to pad to the longest sequence in the batch, or use `padding='max_length'` to pad to a max length. In this case, you can give a specific length with `max_length` (e.g. `max_length=45`) or leave max_length to None to pad to the maximal input size of the model (e.g. 512 for Bert).\n",
            "  FutureWarning,\n",
            "/usr/local/lib/python3.6/dist-packages/transformers/tokenization_utils_base.py:1944: FutureWarning: The `pad_to_max_length` argument is deprecated and will be removed in a future version, use `padding=True` or `padding='longest'` to pad to the longest sequence in the batch, or use `padding='max_length'` to pad to a max length. In this case, you can give a specific length with `max_length` (e.g. `max_length=45`) or leave max_length to None to pad to the maximal input size of the model (e.g. 512 for Bert).\n",
            "  FutureWarning,\n"
          ],
          "name": "stderr"
        },
        {
          "output_type": "stream",
          "text": [
            "Val   loss 1.2595787729606496 accuracy 0.8609523809523809\n",
            "\n"
          ],
          "name": "stdout"
        }
      ]
    },
    {
      "cell_type": "code",
      "metadata": {
        "id": "8Zefv_FMWdID",
        "colab": {
          "base_uri": "https://localhost:8080/",
          "height": 523
        },
        "outputId": "eb1c6ba8-8ec1-4707-d5c0-92b0d2e31b70"
      },
      "source": [
        "plt.plot(history['train_acc'], label='train accuracy')\n",
        "plt.plot(history['val_acc'], label='validation accuracy')\n",
        "\n",
        "plt.title('Training history')\n",
        "plt.ylabel('Accuracy')\n",
        "plt.xlabel('Epoch')\n",
        "plt.legend()\n",
        "plt.ylim([0, 1]);"
      ],
      "execution_count": null,
      "outputs": [
        {
          "output_type": "display_data",
          "data": {
            "image/png": "[encoded data removed]",
            "text/plain": [
              "<Figure size 864x576 with 1 Axes>"
            ]
          },
          "metadata": {
            "tags": []
          }
        }
      ]
    },
    {
      "cell_type": "code",
      "metadata": {
        "id": "At1xyFkVgbn-",
        "colab": {
          "base_uri": "https://localhost:8080/"
        },
        "outputId": "fcdef06b-cd5c-41af-b4e7-9cb033aadff4"
      },
      "source": [
        "#Evaluation\n",
        "test_acc, _ = eval_model(\n",
        "  model,\n",
        "  test_data_loader,\n",
        "  loss_fn,\n",
        "  device,\n",
        "  len(df_test)\n",
        ")\n",
        "\n",
        "test_acc.item()"
      ],
      "execution_count": null,
      "outputs": [
        {
          "output_type": "stream",
          "text": [
            "140652116545888\n"
          ],
          "name": "stdout"
        },
        {
          "output_type": "stream",
          "text": [
            "/usr/local/lib/python3.6/dist-packages/transformers/tokenization_utils_base.py:1944: FutureWarning: The `pad_to_max_length` argument is deprecated and will be removed in a future version, use `padding=True` or `padding='longest'` to pad to the longest sequence in the batch, or use `padding='max_length'` to pad to a max length. In this case, you can give a specific length with `max_length` (e.g. `max_length=45`) or leave max_length to None to pad to the maximal input size of the model (e.g. 512 for Bert).\n",
            "  FutureWarning,\n",
            "/usr/local/lib/python3.6/dist-packages/transformers/tokenization_utils_base.py:1944: FutureWarning: The `pad_to_max_length` argument is deprecated and will be removed in a future version, use `padding=True` or `padding='longest'` to pad to the longest sequence in the batch, or use `padding='max_length'` to pad to a max length. In this case, you can give a specific length with `max_length` (e.g. `max_length=45`) or leave max_length to None to pad to the maximal input size of the model (e.g. 512 for Bert).\n",
            "  FutureWarning,\n",
            "/usr/local/lib/python3.6/dist-packages/transformers/tokenization_utils_base.py:1944: FutureWarning: The `pad_to_max_length` argument is deprecated and will be removed in a future version, use `padding=True` or `padding='longest'` to pad to the longest sequence in the batch, or use `padding='max_length'` to pad to a max length. In this case, you can give a specific length with `max_length` (e.g. `max_length=45`) or leave max_length to None to pad to the maximal input size of the model (e.g. 512 for Bert).\n",
            "  FutureWarning,\n",
            "/usr/local/lib/python3.6/dist-packages/transformers/tokenization_utils_base.py:1944: FutureWarning: The `pad_to_max_length` argument is deprecated and will be removed in a future version, use `padding=True` or `padding='longest'` to pad to the longest sequence in the batch, or use `padding='max_length'` to pad to a max length. In this case, you can give a specific length with `max_length` (e.g. `max_length=45`) or leave max_length to None to pad to the maximal input size of the model (e.g. 512 for Bert).\n",
            "  FutureWarning,\n"
          ],
          "name": "stderr"
        },
        {
          "output_type": "execute_result",
          "data": {
            "text/plain": [
              "0.8596825396825397"
            ]
          },
          "metadata": {
            "tags": []
          },
          "execution_count": 48
        }
      ]
    },
    {
      "cell_type": "code",
      "metadata": {
        "id": "mAQj3ipPgb1U"
      },
      "source": [
        "import torch.nn.functional as F\n",
        "def get_predictions(model, data_loader):\n",
        "  model = model.eval()\n",
        "  \n",
        "  review_texts = []\n",
        "  predictions = []\n",
        "  prediction_probs = []\n",
        "  real_values = []\n",
        "\n",
        "  with torch.no_grad():\n",
        "    for d in data_loader:\n",
        "\n",
        "      texts = d[\"review_text\"]\n",
        "      input_ids = d[\"input_ids\"].to(device)\n",
        "      attention_mask = d[\"attention_mask\"].to(device)\n",
        "      targets = d[\"targets\"].to(device)\n",
        "\n",
        "      outputs = model(\n",
        "        input_ids=input_ids,\n",
        "        attention_mask=attention_mask\n",
        "      )\n",
        "      _, preds = torch.max(outputs, dim=1)\n",
        "\n",
        "      probs = F.softmax(outputs, dim=1)\n",
        "\n",
        "      review_texts.extend(texts)\n",
        "      predictions.extend(preds)\n",
        "      prediction_probs.extend(probs)\n",
        "      real_values.extend(targets)\n",
        "\n",
        "  predictions = torch.stack(predictions).cpu()\n",
        "  prediction_probs = torch.stack(prediction_probs).cpu()\n",
        "  real_values = torch.stack(real_values).cpu()\n",
        "  return review_texts, predictions, prediction_probs, real_values"
      ],
      "execution_count": null,
      "outputs": []
    },
    {
      "cell_type": "code",
      "metadata": {
        "id": "QwrFPyAVgb3i",
        "colab": {
          "base_uri": "https://localhost:8080/"
        },
        "outputId": "7e6d80de-3be5-444f-b040-d4e3cb73e75d"
      },
      "source": [
        "from sklearn.metrics import confusion_matrix, classification_report\n",
        "y_review_texts, y_pred, y_pred_probs, y_test = get_predictions(\n",
        "  model,\n",
        "  test_data_loader\n",
        ")\n",
        "print(classification_report(y_test, y_pred, target_names=class_names))"
      ],
      "execution_count": null,
      "outputs": [
        {
          "output_type": "stream",
          "text": [
            "/usr/local/lib/python3.6/dist-packages/transformers/tokenization_utils_base.py:1944: FutureWarning: The `pad_to_max_length` argument is deprecated and will be removed in a future version, use `padding=True` or `padding='longest'` to pad to the longest sequence in the batch, or use `padding='max_length'` to pad to a max length. In this case, you can give a specific length with `max_length` (e.g. `max_length=45`) or leave max_length to None to pad to the maximal input size of the model (e.g. 512 for Bert).\n",
            "  FutureWarning,\n",
            "/usr/local/lib/python3.6/dist-packages/transformers/tokenization_utils_base.py:1944: FutureWarning: The `pad_to_max_length` argument is deprecated and will be removed in a future version, use `padding=True` or `padding='longest'` to pad to the longest sequence in the batch, or use `padding='max_length'` to pad to a max length. In this case, you can give a specific length with `max_length` (e.g. `max_length=45`) or leave max_length to None to pad to the maximal input size of the model (e.g. 512 for Bert).\n",
            "  FutureWarning,\n",
            "/usr/local/lib/python3.6/dist-packages/transformers/tokenization_utils_base.py:1944: FutureWarning: The `pad_to_max_length` argument is deprecated and will be removed in a future version, use `padding=True` or `padding='longest'` to pad to the longest sequence in the batch, or use `padding='max_length'` to pad to a max length. In this case, you can give a specific length with `max_length` (e.g. `max_length=45`) or leave max_length to None to pad to the maximal input size of the model (e.g. 512 for Bert).\n",
            "  FutureWarning,\n",
            "/usr/local/lib/python3.6/dist-packages/transformers/tokenization_utils_base.py:1944: FutureWarning: The `pad_to_max_length` argument is deprecated and will be removed in a future version, use `padding=True` or `padding='longest'` to pad to the longest sequence in the batch, or use `padding='max_length'` to pad to a max length. In this case, you can give a specific length with `max_length` (e.g. `max_length=45`) or leave max_length to None to pad to the maximal input size of the model (e.g. 512 for Bert).\n",
            "  FutureWarning,\n"
          ],
          "name": "stderr"
        },
        {
          "output_type": "stream",
          "text": [
            "              precision    recall  f1-score   support\n",
            "\n",
            "    negative       0.91      0.83      0.87       519\n",
            "     neutral       0.77      0.85      0.81       466\n",
            "    positive       0.90      0.89      0.90       590\n",
            "\n",
            "    accuracy                           0.86      1575\n",
            "   macro avg       0.86      0.86      0.86      1575\n",
            "weighted avg       0.86      0.86      0.86      1575\n",
            "\n"
          ],
          "name": "stdout"
        }
      ]
    },
    {
      "cell_type": "code",
      "metadata": {
        "id": "p302X9Rqgb8s",
        "colab": {
          "base_uri": "https://localhost:8080/",
          "height": 534
        },
        "outputId": "72db59ca-f346-4d0b-c8a4-991bc5ab4236"
      },
      "source": [
        "def show_confusion_matrix(confusion_matrix):\n",
        "  hmap = sns.heatmap(confusion_matrix, annot=True, fmt=\"d\", cmap=\"Blues\")\n",
        "  hmap.yaxis.set_ticklabels(hmap.yaxis.get_ticklabels(), rotation=0, ha='right')\n",
        "  hmap.xaxis.set_ticklabels(hmap.xaxis.get_ticklabels(), rotation=30, ha='right')\n",
        "  plt.ylabel('True sentiment')\n",
        "  plt.xlabel('Predicted sentiment');\n",
        "\n",
        "cm = confusion_matrix(y_test, y_pred)\n",
        "df_cm = pd.DataFrame(cm, index=class_names, columns=class_names)\n",
        "show_confusion_matrix(df_cm)"
      ],
      "execution_count": null,
      "outputs": [
        {
          "output_type": "display_data",
          "data": {
            "image/png": "[encoded data removed]",
            "text/plain": [
              "<Figure size 864x576 with 2 Axes>"
            ]
          },
          "metadata": {
            "tags": []
          }
        }
      ]
    },
    {
      "cell_type": "code",
      "metadata": {
        "id": "PVpJB3zsgcB4"
      },
      "source": [
        "\n",
        "idx = 2\n",
        "\n",
        "review_text = y_review_texts[idx]\n",
        "true_sentiment = y_test[idx]\n",
        "pred_df = pd.DataFrame({\n",
        "  'class_names': class_names,\n",
        "  'values': y_pred_probs[idx]\n",
        "})"
      ],
      "execution_count": null,
      "outputs": []
    },
    {
      "cell_type": "code",
      "metadata": {
        "id": "gzm3oeYSgb7s",
        "colab": {
          "base_uri": "https://localhost:8080/"
        },
        "outputId": "bc94d55e-1172-454e-924c-038c503eee63"
      },
      "source": [
        "from textwrap import wrap\n",
        "print(\"\\n\".join(wrap(review_text)))\n",
        "print()\n",
        "print(f'True sentiment: {class_names[true_sentiment]}')"
      ],
      "execution_count": null,
      "outputs": [
        {
          "output_type": "stream",
          "text": [
            "it doesnt do any thing its gliched everytime i open it\n",
            "\n",
            "True sentiment: negative\n"
          ],
          "name": "stdout"
        }
      ]
    },
    {
      "cell_type": "code",
      "metadata": {
        "id": "v3_3P-bZiAzi",
        "colab": {
          "base_uri": "https://localhost:8080/",
          "height": 506
        },
        "outputId": "df28f58d-c5da-4fae-8960-697d29bd171d"
      },
      "source": [
        "sns.barplot(x='values', y='class_names', data=pred_df, orient='h')\n",
        "plt.ylabel('sentiment')\n",
        "plt.xlabel('probability')\n",
        "plt.xlim([0, 1]);"
      ],
      "execution_count": null,
      "outputs": [
        {
          "output_type": "display_data",
          "data": {
            "image/png": "[encoded data removed]",
            "text/plain": [
              "<Figure size 864x576 with 1 Axes>"
            ]
          },
          "metadata": {
            "tags": []
          }
        }
      ]
    },
    {
      "cell_type": "code",
      "metadata": {
        "id": "Lm0zH0e6iHWR"
      },
      "source": [
        "review_text = \"I love completing my Instagram! Best app ever!!!\""
      ],
      "execution_count": null,
      "outputs": []
    },
    {
      "cell_type": "code",
      "metadata": {
        "id": "6kaoGKrIiNiI",
        "colab": {
          "base_uri": "https://localhost:8080/"
        },
        "outputId": "451e8f43-d3d8-48a3-b457-3c7483d24f7c"
      },
      "source": [
        "encoded_review = tokenizer.encode_plus(\n",
        "  review_text,\n",
        "  max_length=MAX_LEN,\n",
        "  add_special_tokens=True,\n",
        "  return_token_type_ids=False,\n",
        "  pad_to_max_length=True,\n",
        "  return_attention_mask=True,\n",
        "  return_tensors='pt',\n",
        ")"
      ],
      "execution_count": null,
      "outputs": [
        {
          "output_type": "stream",
          "text": [
            "/usr/local/lib/python3.6/dist-packages/transformers/tokenization_utils_base.py:1944: FutureWarning: The `pad_to_max_length` argument is deprecated and will be removed in a future version, use `padding=True` or `padding='longest'` to pad to the longest sequence in the batch, or use `padding='max_length'` to pad to a max length. In this case, you can give a specific length with `max_length` (e.g. `max_length=45`) or leave max_length to None to pad to the maximal input size of the model (e.g. 512 for Bert).\n",
            "  FutureWarning,\n"
          ],
          "name": "stderr"
        }
      ]
    },
    {
      "cell_type": "code",
      "metadata": {
        "id": "b4l3lAEoiQ9E",
        "colab": {
          "base_uri": "https://localhost:8080/"
        },
        "outputId": "2559dd8f-57a2-47d2-f665-9da0725481cd"
      },
      "source": [
        "input_ids = encoded_review['input_ids'].to(device)\n",
        "attention_mask = encoded_review['attention_mask'].to(device)\n",
        "\n",
        "output = model(input_ids, attention_mask)\n",
        "_, prediction = torch.max(output, dim=1)\n",
        "\n",
        "print(f'Review text: {review_text}')\n",
        "print(f'Sentiment  : {class_names[prediction]}')"
      ],
      "execution_count": null,
      "outputs": [
        {
          "output_type": "stream",
          "text": [
            "Review text: I love completing my Instagram! Best app ever!!!\n",
            "Sentiment  : positive\n"
          ],
          "name": "stdout"
        }
      ]
    },
    {
      "cell_type": "code",
      "metadata": {
        "id": "xKNegQA1Wj8B",
        "colab": {
          "base_uri": "https://localhost:8080/"
        },
        "outputId": "1a758620-f96d-4e05-fdb3-afabe3dd8e18"
      },
      "source": [
        "torch.max(x,dim=1)"
      ],
      "execution_count": null,
      "outputs": [
        {
          "output_type": "execute_result",
          "data": {
            "text/plain": [
              "torch.return_types.max(values=tensor([0.9761, 0.9200, 0.8719, 0.4789, 0.9577, 0.7748, 0.5528, 0.7605, 0.9762,\n",
              "        0.8692, 0.6647, 0.8308, 0.9088, 0.8666, 0.8504, 0.9521]), indices=tensor([2, 0, 0, 2, 2, 0, 2, 1, 0, 1, 2, 0, 2, 1, 2, 0]))"
            ]
          },
          "metadata": {
            "tags": []
          },
          "execution_count": 45
        }
      ]
    },
    {
      "cell_type": "code",
      "metadata": {
        "id": "DJJ8egHZWpjV",
        "colab": {
          "base_uri": "https://localhost:8080/",
          "height": 35
        },
        "outputId": "59bd70fa-0b9c-4dcf-9016-e9ffff148ac3"
      },
      "source": [
        "import tensorflow as tf\n",
        "tf.test.gpu_device_name()"
      ],
      "execution_count": null,
      "outputs": [
        {
          "output_type": "execute_result",
          "data": {
            "application/vnd.google.colaboratory.intrinsic+json": {
              "type": "string"
            },
            "text/plain": [
              "'/device:GPU:0'"
            ]
          },
          "metadata": {
            "tags": []
          },
          "execution_count": 46
        }
      ]
    },
    {
      "cell_type": "code",
      "metadata": {
        "id": "71UGmBW7d7Wz",
        "colab": {
          "base_uri": "https://localhost:8080/"
        },
        "outputId": "535f5b5b-33dd-4f50-cc78-e12e9bd13112"
      },
      "source": [
        "from transformers import BertModel\n",
        "model = BertModel.from_pretrained('bert-base-uncased',\n",
        "                                  output_hidden_states = True, # Whether the model returns all hidden-states.\n",
        "                                  )\n",
        "\n",
        "# Put the model in \"evaluation\" mode, meaning feed-forward operation.\n",
        "model.eval()"
      ],
      "execution_count": null,
      "outputs": [
        {
          "output_type": "execute_result",
          "data": {
            "text/plain": [
              "BertModel(\n",
              "  (embeddings): BertEmbeddings(\n",
              "    (word_embeddings): Embedding(30522, 768, padding_idx=0)\n",
              "    (position_embeddings): Embedding(512, 768)\n",
              "    (token_type_embeddings): Embedding(2, 768)\n",
              "    (LayerNorm): LayerNorm((768,), eps=1e-12, elementwise_affine=True)\n",
              "    (dropout): Dropout(p=0.1, inplace=False)\n",
              "  )\n",
              "  (encoder): BertEncoder(\n",
              "    (layer): ModuleList(\n",
              "      (0): BertLayer(\n",
              "        (attention): BertAttention(\n",
              "          (self): BertSelfAttention(\n",
              "            (query): Linear(in_features=768, out_features=768, bias=True)\n",
              "            (key): Linear(in_features=768, out_features=768, bias=True)\n",
              "            (value): Linear(in_features=768, out_features=768, bias=True)\n",
              "            (dropout): Dropout(p=0.1, inplace=False)\n",
              "          )\n",
              "          (output): BertSelfOutput(\n",
              "            (dense): Linear(in_features=768, out_features=768, bias=True)\n",
              "            (LayerNorm): LayerNorm((768,), eps=1e-12, elementwise_affine=True)\n",
              "            (dropout): Dropout(p=0.1, inplace=False)\n",
              "          )\n",
              "        )\n",
              "        (intermediate): BertIntermediate(\n",
              "          (dense): Linear(in_features=768, out_features=3072, bias=True)\n",
              "        )\n",
              "        (output): BertOutput(\n",
              "          (dense): Linear(in_features=3072, out_features=768, bias=True)\n",
              "          (LayerNorm): LayerNorm((768,), eps=1e-12, elementwise_affine=True)\n",
              "          (dropout): Dropout(p=0.1, inplace=False)\n",
              "        )\n",
              "      )\n",
              "      (1): BertLayer(\n",
              "        (attention): BertAttention(\n",
              "          (self): BertSelfAttention(\n",
              "            (query): Linear(in_features=768, out_features=768, bias=True)\n",
              "            (key): Linear(in_features=768, out_features=768, bias=True)\n",
              "            (value): Linear(in_features=768, out_features=768, bias=True)\n",
              "            (dropout): Dropout(p=0.1, inplace=False)\n",
              "          )\n",
              "          (output): BertSelfOutput(\n",
              "            (dense): Linear(in_features=768, out_features=768, bias=True)\n",
              "            (LayerNorm): LayerNorm((768,), eps=1e-12, elementwise_affine=True)\n",
              "            (dropout): Dropout(p=0.1, inplace=False)\n",
              "          )\n",
              "        )\n",
              "        (intermediate): BertIntermediate(\n",
              "          (dense): Linear(in_features=768, out_features=3072, bias=True)\n",
              "        )\n",
              "        (output): BertOutput(\n",
              "          (dense): Linear(in_features=3072, out_features=768, bias=True)\n",
              "          (LayerNorm): LayerNorm((768,), eps=1e-12, elementwise_affine=True)\n",
              "          (dropout): Dropout(p=0.1, inplace=False)\n",
              "        )\n",
              "      )\n",
              "      (2): BertLayer(\n",
              "        (attention): BertAttention(\n",
              "          (self): BertSelfAttention(\n",
              "            (query): Linear(in_features=768, out_features=768, bias=True)\n",
              "            (key): Linear(in_features=768, out_features=768, bias=True)\n",
              "            (value): Linear(in_features=768, out_features=768, bias=True)\n",
              "            (dropout): Dropout(p=0.1, inplace=False)\n",
              "          )\n",
              "          (output): BertSelfOutput(\n",
              "            (dense): Linear(in_features=768, out_features=768, bias=True)\n",
              "            (LayerNorm): LayerNorm((768,), eps=1e-12, elementwise_affine=True)\n",
              "            (dropout): Dropout(p=0.1, inplace=False)\n",
              "          )\n",
              "        )\n",
              "        (intermediate): BertIntermediate(\n",
              "          (dense): Linear(in_features=768, out_features=3072, bias=True)\n",
              "        )\n",
              "        (output): BertOutput(\n",
              "          (dense): Linear(in_features=3072, out_features=768, bias=True)\n",
              "          (LayerNorm): LayerNorm((768,), eps=1e-12, elementwise_affine=True)\n",
              "          (dropout): Dropout(p=0.1, inplace=False)\n",
              "        )\n",
              "      )\n",
              "      (3): BertLayer(\n",
              "        (attention): BertAttention(\n",
              "          (self): BertSelfAttention(\n",
              "            (query): Linear(in_features=768, out_features=768, bias=True)\n",
              "            (key): Linear(in_features=768, out_features=768, bias=True)\n",
              "            (value): Linear(in_features=768, out_features=768, bias=True)\n",
              "            (dropout): Dropout(p=0.1, inplace=False)\n",
              "          )\n",
              "          (output): BertSelfOutput(\n",
              "            (dense): Linear(in_features=768, out_features=768, bias=True)\n",
              "            (LayerNorm): LayerNorm((768,), eps=1e-12, elementwise_affine=True)\n",
              "            (dropout): Dropout(p=0.1, inplace=False)\n",
              "          )\n",
              "        )\n",
              "        (intermediate): BertIntermediate(\n",
              "          (dense): Linear(in_features=768, out_features=3072, bias=True)\n",
              "        )\n",
              "        (output): BertOutput(\n",
              "          (dense): Linear(in_features=3072, out_features=768, bias=True)\n",
              "          (LayerNorm): LayerNorm((768,), eps=1e-12, elementwise_affine=True)\n",
              "          (dropout): Dropout(p=0.1, inplace=False)\n",
              "        )\n",
              "      )\n",
              "      (4): BertLayer(\n",
              "        (attention): BertAttention(\n",
              "          (self): BertSelfAttention(\n",
              "            (query): Linear(in_features=768, out_features=768, bias=True)\n",
              "            (key): Linear(in_features=768, out_features=768, bias=True)\n",
              "            (value): Linear(in_features=768, out_features=768, bias=True)\n",
              "            (dropout): Dropout(p=0.1, inplace=False)\n",
              "          )\n",
              "          (output): BertSelfOutput(\n",
              "            (dense): Linear(in_features=768, out_features=768, bias=True)\n",
              "            (LayerNorm): LayerNorm((768,), eps=1e-12, elementwise_affine=True)\n",
              "            (dropout): Dropout(p=0.1, inplace=False)\n",
              "          )\n",
              "        )\n",
              "        (intermediate): BertIntermediate(\n",
              "          (dense): Linear(in_features=768, out_features=3072, bias=True)\n",
              "        )\n",
              "        (output): BertOutput(\n",
              "          (dense): Linear(in_features=3072, out_features=768, bias=True)\n",
              "          (LayerNorm): LayerNorm((768,), eps=1e-12, elementwise_affine=True)\n",
              "          (dropout): Dropout(p=0.1, inplace=False)\n",
              "        )\n",
              "      )\n",
              "      (5): BertLayer(\n",
              "        (attention): BertAttention(\n",
              "          (self): BertSelfAttention(\n",
              "            (query): Linear(in_features=768, out_features=768, bias=True)\n",
              "            (key): Linear(in_features=768, out_features=768, bias=True)\n",
              "            (value): Linear(in_features=768, out_features=768, bias=True)\n",
              "            (dropout): Dropout(p=0.1, inplace=False)\n",
              "          )\n",
              "          (output): BertSelfOutput(\n",
              "            (dense): Linear(in_features=768, out_features=768, bias=True)\n",
              "            (LayerNorm): LayerNorm((768,), eps=1e-12, elementwise_affine=True)\n",
              "            (dropout): Dropout(p=0.1, inplace=False)\n",
              "          )\n",
              "        )\n",
              "        (intermediate): BertIntermediate(\n",
              "          (dense): Linear(in_features=768, out_features=3072, bias=True)\n",
              "        )\n",
              "        (output): BertOutput(\n",
              "          (dense): Linear(in_features=3072, out_features=768, bias=True)\n",
              "          (LayerNorm): LayerNorm((768,), eps=1e-12, elementwise_affine=True)\n",
              "          (dropout): Dropout(p=0.1, inplace=False)\n",
              "        )\n",
              "      )\n",
              "      (6): BertLayer(\n",
              "        (attention): BertAttention(\n",
              "          (self): BertSelfAttention(\n",
              "            (query): Linear(in_features=768, out_features=768, bias=True)\n",
              "            (key): Linear(in_features=768, out_features=768, bias=True)\n",
              "            (value): Linear(in_features=768, out_features=768, bias=True)\n",
              "            (dropout): Dropout(p=0.1, inplace=False)\n",
              "          )\n",
              "          (output): BertSelfOutput(\n",
              "            (dense): Linear(in_features=768, out_features=768, bias=True)\n",
              "            (LayerNorm): LayerNorm((768,), eps=1e-12, elementwise_affine=True)\n",
              "            (dropout): Dropout(p=0.1, inplace=False)\n",
              "          )\n",
              "        )\n",
              "        (intermediate): BertIntermediate(\n",
              "          (dense): Linear(in_features=768, out_features=3072, bias=True)\n",
              "        )\n",
              "        (output): BertOutput(\n",
              "          (dense): Linear(in_features=3072, out_features=768, bias=True)\n",
              "          (LayerNorm): LayerNorm((768,), eps=1e-12, elementwise_affine=True)\n",
              "          (dropout): Dropout(p=0.1, inplace=False)\n",
              "        )\n",
              "      )\n",
              "      (7): BertLayer(\n",
              "        (attention): BertAttention(\n",
              "          (self): BertSelfAttention(\n",
              "            (query): Linear(in_features=768, out_features=768, bias=True)\n",
              "            (key): Linear(in_features=768, out_features=768, bias=True)\n",
              "            (value): Linear(in_features=768, out_features=768, bias=True)\n",
              "            (dropout): Dropout(p=0.1, inplace=False)\n",
              "          )\n",
              "          (output): BertSelfOutput(\n",
              "            (dense): Linear(in_features=768, out_features=768, bias=True)\n",
              "            (LayerNorm): LayerNorm((768,), eps=1e-12, elementwise_affine=True)\n",
              "            (dropout): Dropout(p=0.1, inplace=False)\n",
              "          )\n",
              "        )\n",
              "        (intermediate): BertIntermediate(\n",
              "          (dense): Linear(in_features=768, out_features=3072, bias=True)\n",
              "        )\n",
              "        (output): BertOutput(\n",
              "          (dense): Linear(in_features=3072, out_features=768, bias=True)\n",
              "          (LayerNorm): LayerNorm((768,), eps=1e-12, elementwise_affine=True)\n",
              "          (dropout): Dropout(p=0.1, inplace=False)\n",
              "        )\n",
              "      )\n",
              "      (8): BertLayer(\n",
              "        (attention): BertAttention(\n",
              "          (self): BertSelfAttention(\n",
              "            (query): Linear(in_features=768, out_features=768, bias=True)\n",
              "            (key): Linear(in_features=768, out_features=768, bias=True)\n",
              "            (value): Linear(in_features=768, out_features=768, bias=True)\n",
              "            (dropout): Dropout(p=0.1, inplace=False)\n",
              "          )\n",
              "          (output): BertSelfOutput(\n",
              "            (dense): Linear(in_features=768, out_features=768, bias=True)\n",
              "            (LayerNorm): LayerNorm((768,), eps=1e-12, elementwise_affine=True)\n",
              "            (dropout): Dropout(p=0.1, inplace=False)\n",
              "          )\n",
              "        )\n",
              "        (intermediate): BertIntermediate(\n",
              "          (dense): Linear(in_features=768, out_features=3072, bias=True)\n",
              "        )\n",
              "        (output): BertOutput(\n",
              "          (dense): Linear(in_features=3072, out_features=768, bias=True)\n",
              "          (LayerNorm): LayerNorm((768,), eps=1e-12, elementwise_affine=True)\n",
              "          (dropout): Dropout(p=0.1, inplace=False)\n",
              "        )\n",
              "      )\n",
              "      (9): BertLayer(\n",
              "        (attention): BertAttention(\n",
              "          (self): BertSelfAttention(\n",
              "            (query): Linear(in_features=768, out_features=768, bias=True)\n",
              "            (key): Linear(in_features=768, out_features=768, bias=True)\n",
              "            (value): Linear(in_features=768, out_features=768, bias=True)\n",
              "            (dropout): Dropout(p=0.1, inplace=False)\n",
              "          )\n",
              "          (output): BertSelfOutput(\n",
              "            (dense): Linear(in_features=768, out_features=768, bias=True)\n",
              "            (LayerNorm): LayerNorm((768,), eps=1e-12, elementwise_affine=True)\n",
              "            (dropout): Dropout(p=0.1, inplace=False)\n",
              "          )\n",
              "        )\n",
              "        (intermediate): BertIntermediate(\n",
              "          (dense): Linear(in_features=768, out_features=3072, bias=True)\n",
              "        )\n",
              "        (output): BertOutput(\n",
              "          (dense): Linear(in_features=3072, out_features=768, bias=True)\n",
              "          (LayerNorm): LayerNorm((768,), eps=1e-12, elementwise_affine=True)\n",
              "          (dropout): Dropout(p=0.1, inplace=False)\n",
              "        )\n",
              "      )\n",
              "      (10): BertLayer(\n",
              "        (attention): BertAttention(\n",
              "          (self): BertSelfAttention(\n",
              "            (query): Linear(in_features=768, out_features=768, bias=True)\n",
              "            (key): Linear(in_features=768, out_features=768, bias=True)\n",
              "            (value): Linear(in_features=768, out_features=768, bias=True)\n",
              "            (dropout): Dropout(p=0.1, inplace=False)\n",
              "          )\n",
              "          (output): BertSelfOutput(\n",
              "            (dense): Linear(in_features=768, out_features=768, bias=True)\n",
              "            (LayerNorm): LayerNorm((768,), eps=1e-12, elementwise_affine=True)\n",
              "            (dropout): Dropout(p=0.1, inplace=False)\n",
              "          )\n",
              "        )\n",
              "        (intermediate): BertIntermediate(\n",
              "          (dense): Linear(in_features=768, out_features=3072, bias=True)\n",
              "        )\n",
              "        (output): BertOutput(\n",
              "          (dense): Linear(in_features=3072, out_features=768, bias=True)\n",
              "          (LayerNorm): LayerNorm((768,), eps=1e-12, elementwise_affine=True)\n",
              "          (dropout): Dropout(p=0.1, inplace=False)\n",
              "        )\n",
              "      )\n",
              "      (11): BertLayer(\n",
              "        (attention): BertAttention(\n",
              "          (self): BertSelfAttention(\n",
              "            (query): Linear(in_features=768, out_features=768, bias=True)\n",
              "            (key): Linear(in_features=768, out_features=768, bias=True)\n",
              "            (value): Linear(in_features=768, out_features=768, bias=True)\n",
              "            (dropout): Dropout(p=0.1, inplace=False)\n",
              "          )\n",
              "          (output): BertSelfOutput(\n",
              "            (dense): Linear(in_features=768, out_features=768, bias=True)\n",
              "            (LayerNorm): LayerNorm((768,), eps=1e-12, elementwise_affine=True)\n",
              "            (dropout): Dropout(p=0.1, inplace=False)\n",
              "          )\n",
              "        )\n",
              "        (intermediate): BertIntermediate(\n",
              "          (dense): Linear(in_features=768, out_features=3072, bias=True)\n",
              "        )\n",
              "        (output): BertOutput(\n",
              "          (dense): Linear(in_features=3072, out_features=768, bias=True)\n",
              "          (LayerNorm): LayerNorm((768,), eps=1e-12, elementwise_affine=True)\n",
              "          (dropout): Dropout(p=0.1, inplace=False)\n",
              "        )\n",
              "      )\n",
              "    )\n",
              "  )\n",
              "  (pooler): BertPooler(\n",
              "    (dense): Linear(in_features=768, out_features=768, bias=True)\n",
              "    (activation): Tanh()\n",
              "  )\n",
              ")"
            ]
          },
          "metadata": {
            "tags": []
          },
          "execution_count": 6
        }
      ]
    },
    {
      "cell_type": "code",
      "metadata": {
        "id": "LopQkpoucOjD"
      },
      "source": [
        ""
      ],
      "execution_count": null,
      "outputs": []
    }
  ]
}